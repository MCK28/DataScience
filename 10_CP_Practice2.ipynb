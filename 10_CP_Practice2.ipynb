{
 "cells": [
  {
   "cell_type": "code",
   "execution_count": 1,
   "metadata": {},
   "outputs": [
    {
     "name": "stdout",
     "output_type": "stream",
     "text": [
      "25.0\n"
     ]
    }
   ],
   "source": [
    "length = 5\n",
    "height = 10\n",
    "area = (length*height)/2\n",
    "print(area)"
   ]
  },
  {
   "cell_type": "code",
   "execution_count": 3,
   "metadata": {},
   "outputs": [
    {
     "name": "stdout",
     "output_type": "stream",
     "text": [
      "the total amount is 30.0\n"
     ]
    }
   ],
   "source": [
    "# 2. Shopping Invoice Calculation:\n",
    "# Get the product prices and quantities from the user and calculate the total amount.\n",
    "\n",
    "price = float(input(\"enter a price: \"))\n",
    "quantity = float(input(\"enter a quantity: \"))\n",
    "total_amount = price * quantity\n",
    "print(f\"the total amount is {total_amount}\")"
   ]
  },
  {
   "cell_type": "code",
   "execution_count": 5,
   "metadata": {},
   "outputs": [
    {
     "name": "stdout",
     "output_type": "stream",
     "text": [
      "the distance in miles is 62.5\n"
     ]
    }
   ],
   "source": [
    "# 4. Distance Converter:\n",
    "# Get the distance in kilometers from the user and convert it to miles.\n",
    "\n",
    "distance_in_km = int(input(\"enter a distance in kilometers \"))\n",
    "converted_distance = distance_in_km/1.6\n",
    "print(f\"the distance in miles is {converted_distance}\")"
   ]
  },
  {
   "cell_type": "code",
   "execution_count": 7,
   "metadata": {},
   "outputs": [
    {
     "name": "stdout",
     "output_type": "stream",
     "text": [
      "Admission Year: 2015\n",
      "Faculty no: 14\n",
      "Department no: 11\n",
      "Study no: 03\n",
      "Student order: 21\n"
     ]
    }
   ],
   "source": [
    "# 7. A university assigns students a 12-digit student number. The first 4 digits represent the year of admission,\n",
    "# the 5th and 6th digits represent the faculty number, the 7th and 8th digits represent the department number,\n",
    "#  the 9th and 10th digits represent the study number, and the 11th and 12th digits represent the student’s admission order.\n",
    "#  Write a program that takes the 12-digit student code from the user, separates it into meaningful parts, and displays the result.\n",
    "#\n",
    "# Example Output:\n",
    "#\n",
    "# * Student No: 201514110321\n",
    "# * BREAKDOWN OF THE NUMBER:\n",
    "# * AdmissionYear: 2015\n",
    "# * FacultyNo: 14\n",
    "# * DepartmentNo: 11\n",
    "# * StudyNo: 03\n",
    "# * StudentOrder: 21\n",
    "\n",
    "student_no = input(\"please enter your 12 digit student number: \")\n",
    "admission_year = student_no[0 : 4]\n",
    "faculty_no = student_no[4 : 6]\n",
    "department_no = student_no[6 : 8]\n",
    "study_no = student_no[8 : 10]\n",
    "student_order = student_no[10 : 12]\n",
    "print(f\"Admission Year: {admission_year}\")\n",
    "print(f\"Faculty no: {faculty_no}\")\n",
    "print(f\"Department no: {department_no}\")\n",
    "print(f\"Study no: {study_no}\")\n",
    "print(f\"Student order: {student_order}\")\n"
   ]
  },
  {
   "cell_type": "code",
   "execution_count": 9,
   "metadata": {},
   "outputs": [
    {
     "name": "stdout",
     "output_type": "stream",
     "text": [
      "Total word count: 30\n",
      "Total sentence count: 1\n",
      "Total character count: 168\n"
     ]
    }
   ],
   "source": [
    "# **9. Text Message Analysis**\n",
    "#\n",
    "# Problem Statement: Create a text message analysis application. The user will provide a text message as input,\n",
    "# and the application should determine the number of words, sentences, and characters in the message.\n",
    "#\n",
    "# Task: By analyzing the text message provided by the user, provide the following information:\n",
    "#\n",
    "# * Total word count\n",
    "# * Total sentence count\n",
    "# * Total character count\n",
    "\n",
    "\n",
    "text_message = input(\"Please enter a text message: \")\n",
    "total_word_count = 0\n",
    "total_sentence_count = 0\n",
    "total_character_count = 0\n",
    "for i in range(0 , len(text_message)):\n",
    "    if text_message[i] == \" \":\n",
    "        total_word_count += 1\n",
    "    elif text_message[i] == \".\":\n",
    "        total_sentence_count +=1\n",
    "        total_character_count += 1\n",
    "    else:\n",
    "        total_character_count += 1\n",
    "print(f'''Total word count: {total_word_count}\n",
    "Total sentence count: {total_sentence_count}\n",
    "Total character count: {total_character_count}''')"
   ]
  },
  {
   "cell_type": "code",
   "execution_count": 12,
   "metadata": {},
   "outputs": [
    {
     "name": "stdout",
     "output_type": "stream",
     "text": [
      "The word 'bob' is a palindrome\n"
     ]
    }
   ],
   "source": [
    "# 10. Palindrome Checker\n",
    "#\n",
    "# Problem Statement: Create a palindrome checker application. The user will input a word or a sentence, and the application should\n",
    "# check whether the input is a palindrome or not.\n",
    "#\n",
    "# Task: Take the user’s input and determine whether it is a palindrome. A palindrome is a word or sentence that reads the same\n",
    "#  forwards and backwards.\n",
    "\n",
    "word = input(\"Please enter a word: \")\n",
    "if word == word[::-1]:\n",
    "    print(f\"The word '{word}' is a palindrome\")\n"
   ]
  },
  {
   "cell_type": "code",
   "execution_count": 14,
   "metadata": {},
   "outputs": [
    {
     "name": "stdout",
     "output_type": "stream",
     "text": [
      "Hello mate how are you \n"
     ]
    }
   ],
   "source": [
    "# 11. String Transformation\n",
    "#\n",
    "# Problem Statement: Write a program that transforms a string in different ways.\n",
    "# The user should see the transformed string by providing an input string and selecting a transformation type.\n",
    "#\n",
    "# Task: Transform the input string provided by the user according to the chosen transformation type.\n",
    "# Transformation types may include converting to uppercase, converting to lowercase, capitalizing the first letters, and reversing the string\n",
    "\n",
    "word = input(\"Please enter a string: \")\n",
    "selection = input(\"Please select a transformation type: \")\n",
    "if selection == \"uppercase\":\n",
    "    word = word.upper()\n",
    "elif selection == \"lowecase\":\n",
    "    word = word.lower()\n",
    "elif selection == \"capitalising\":\n",
    "    word = word.capitalize()\n",
    "elif selection == \"reversed\":\n",
    "    word = word[::-1]\n",
    "\n",
    "print(word)\n"
   ]
  },
  {
   "cell_type": "code",
   "execution_count": 15,
   "metadata": {},
   "outputs": [
    {
     "name": "stdout",
     "output_type": "stream",
     "text": [
      "This is a valid email.\n"
     ]
    }
   ],
   "source": [
    "# 12. Email Validation\n",
    "#\n",
    "# Problem Statement: Write a program that checks the validity of an email address entered by a user.\n",
    "#\n",
    "# Task: Take an email address from the user and verify whether it is a valid address. A valid email address typically consists of a username, the \"@\" symbol, a domain name, and a top-level \n",
    "# domain (e.g., \"example@example.com\n",
    "# \"). The program should inform the user whether the email address is valid or not.\n",
    "\n",
    "\n",
    "email = input(\"Please enter your email address: \")\n",
    "if \"@\" in email:\n",
    "    print(\"This is a valid email.\")\n",
    "else:\n",
    "    print(\"this is not a valid email.\")\n"
   ]
  }
 ],
 "metadata": {
  "kernelspec": {
   "display_name": "Python 3.13.5 ('base')",
   "language": "python",
   "name": "python3"
  },
  "language_info": {
   "codemirror_mode": {
    "name": "ipython",
    "version": 3
   },
   "file_extension": ".py",
   "mimetype": "text/x-python",
   "name": "python",
   "nbconvert_exporter": "python",
   "pygments_lexer": "ipython3",
   "version": "3.13.5"
  },
  "orig_nbformat": 4,
  "vscode": {
   "interpreter": {
    "hash": "90bd4958e8df42f4a0c39306dd2bd430f3b3059480c0da3102b760b9a218d5b9"
   }
  }
 },
 "nbformat": 4,
 "nbformat_minor": 2
}
