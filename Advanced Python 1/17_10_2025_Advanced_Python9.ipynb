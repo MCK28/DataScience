{
 "cells": [
  {
   "cell_type": "markdown",
   "id": "43d1c039",
   "metadata": {},
   "source": [
    "## filter()"
   ]
  },
  {
   "cell_type": "code",
   "execution_count": 1,
   "id": "d8246845",
   "metadata": {},
   "outputs": [
    {
     "name": "stdout",
     "output_type": "stream",
     "text": [
      "Help on class filter in module builtins:\n",
      "\n",
      "class filter(object)\n",
      " |  filter(function, iterable, /)\n",
      " |\n",
      " |  Return an iterator yielding those items of iterable for which function(item)\n",
      " |  is true. If function is None, return the items that are true.\n",
      " |\n",
      " |  Methods defined here:\n",
      " |\n",
      " |  __getattribute__(self, name, /)\n",
      " |      Return getattr(self, name).\n",
      " |\n",
      " |  __iter__(self, /)\n",
      " |      Implement iter(self).\n",
      " |\n",
      " |  __next__(self, /)\n",
      " |      Implement next(self).\n",
      " |\n",
      " |  __reduce__(self, /)\n",
      " |      Return state information for pickling.\n",
      " |\n",
      " |  ----------------------------------------------------------------------\n",
      " |  Static methods defined here:\n",
      " |\n",
      " |  __new__(*args, **kwargs)\n",
      " |      Create and return a new object.  See help(type) for accurate signature.\n",
      "\n"
     ]
    }
   ],
   "source": [
    "help(filter)"
   ]
  },
  {
   "cell_type": "code",
   "execution_count": 2,
   "id": "4a388fc7",
   "metadata": {},
   "outputs": [
    {
     "data": {
      "text/plain": [
       "<filter at 0x1a1611582b0>"
      ]
     },
     "execution_count": 2,
     "metadata": {},
     "output_type": "execute_result"
    }
   ],
   "source": [
    "filter(None, 'hello')"
   ]
  },
  {
   "cell_type": "code",
   "execution_count": 3,
   "id": "1dd8204c",
   "metadata": {},
   "outputs": [
    {
     "data": {
      "text/plain": [
       "['h', 'e', 'l', 'l', 'o']"
      ]
     },
     "execution_count": 3,
     "metadata": {},
     "output_type": "execute_result"
    }
   ],
   "source": [
    "list(filter(None, 'hello'))"
   ]
  },
  {
   "cell_type": "code",
   "execution_count": 4,
   "metadata": {},
   "outputs": [
    {
     "data": {
      "text/plain": [
       "('h', 'e', 'l', 'l', 'o')"
      ]
     },
     "execution_count": 4,
     "metadata": {},
     "output_type": "execute_result"
    }
   ],
   "source": [
    "tuple(filter(None, 'hello'))"
   ]
  },
  {
   "cell_type": "code",
   "execution_count": 5,
   "metadata": {},
   "outputs": [
    {
     "data": {
      "text/plain": [
       "(1, 2, True, 'asdf')"
      ]
     },
     "execution_count": 5,
     "metadata": {},
     "output_type": "execute_result"
    }
   ],
   "source": [
    "tuple(filter(None, [1, 2, 0, 0.0, True, False, 'asdf', '']))"
   ]
  },
  {
   "cell_type": "code",
   "execution_count": 6,
   "metadata": {},
   "outputs": [],
   "source": [
    "def odd_finder(x):\n",
    "    if x % 2 == 1:\n",
    "        return True\n",
    "    else:\n",
    "        return False"
   ]
  },
  {
   "cell_type": "code",
   "execution_count": null,
   "id": "3d36c024",
   "metadata": {},
   "outputs": [
    {
     "data": {
      "text/plain": [
       "False"
      ]
     },
     "execution_count": 7,
     "metadata": {},
     "output_type": "execute_result"
    }
   ],
   "source": [
    "odd_finder(2)"
   ]
  },
  {
   "cell_type": "code",
   "execution_count": 8,
   "id": "93c7e1b7",
   "metadata": {},
   "outputs": [
    {
     "data": {
      "text/plain": [
       "True"
      ]
     },
     "execution_count": 8,
     "metadata": {},
     "output_type": "execute_result"
    }
   ],
   "source": [
    "odd_finder(3)"
   ]
  },
  {
   "cell_type": "code",
   "execution_count": 9,
   "id": "8d1daa60",
   "metadata": {},
   "outputs": [
    {
     "ename": "TypeError",
     "evalue": "unsupported operand type(s) for %: 'list' and 'int'",
     "output_type": "error",
     "traceback": [
      "\u001b[1;31m---------------------------------------------------------------------------\u001b[0m",
      "\u001b[1;31mTypeError\u001b[0m                                 Traceback (most recent call last)",
      "Cell \u001b[1;32mIn[9], line 1\u001b[0m\n\u001b[1;32m----> 1\u001b[0m odd_finder([\u001b[38;5;241m1\u001b[39m, \u001b[38;5;241m2\u001b[39m, \u001b[38;5;241m3\u001b[39m, \u001b[38;5;241m4\u001b[39m])\n",
      "Cell \u001b[1;32mIn[6], line 2\u001b[0m, in \u001b[0;36modd_finder\u001b[1;34m(x)\u001b[0m\n\u001b[0;32m      1\u001b[0m \u001b[38;5;28;01mdef\u001b[39;00m\u001b[38;5;250m \u001b[39m\u001b[38;5;21modd_finder\u001b[39m(x):\n\u001b[1;32m----> 2\u001b[0m     \u001b[38;5;28;01mif\u001b[39;00m x \u001b[38;5;241m%\u001b[39m \u001b[38;5;241m2\u001b[39m \u001b[38;5;241m==\u001b[39m \u001b[38;5;241m1\u001b[39m:\n\u001b[0;32m      3\u001b[0m         \u001b[38;5;28;01mreturn\u001b[39;00m \u001b[38;5;28;01mTrue\u001b[39;00m\n\u001b[0;32m      4\u001b[0m     \u001b[38;5;28;01melse\u001b[39;00m:\n",
      "\u001b[1;31mTypeError\u001b[0m: unsupported operand type(s) for %: 'list' and 'int'"
     ]
    }
   ],
   "source": [
    "odd_finder([1, 2, 3, 4])"
   ]
  },
  {
   "cell_type": "code",
   "execution_count": 10,
   "metadata": {},
   "outputs": [
    {
     "ename": "TypeError",
     "evalue": "odd_finder() takes 1 positional argument but 4 were given",
     "output_type": "error",
     "traceback": [
      "\u001b[1;31m---------------------------------------------------------------------------\u001b[0m",
      "\u001b[1;31mTypeError\u001b[0m                                 Traceback (most recent call last)",
      "Cell \u001b[1;32mIn[10], line 1\u001b[0m\n\u001b[1;32m----> 1\u001b[0m odd_finder(\u001b[38;5;241m*\u001b[39m[\u001b[38;5;241m1\u001b[39m, \u001b[38;5;241m2\u001b[39m, \u001b[38;5;241m3\u001b[39m, \u001b[38;5;241m4\u001b[39m])\n",
      "\u001b[1;31mTypeError\u001b[0m: odd_finder() takes 1 positional argument but 4 were given"
     ]
    }
   ],
   "source": [
    "odd_finder(*[1, 2, 3, 4])"
   ]
  },
  {
   "cell_type": "code",
   "execution_count": 11,
   "metadata": {},
   "outputs": [
    {
     "data": {
      "text/plain": [
       "(1, 3, 5, 7, 9)"
      ]
     },
     "execution_count": 11,
     "metadata": {},
     "output_type": "execute_result"
    }
   ],
   "source": [
    "tuple(filter(odd_finder, [1, 2, 3, 4, 5, 6, 7, 8, 9, 10]))"
   ]
  },
  {
   "cell_type": "code",
   "execution_count": 14,
   "id": "eafe7fe2",
   "metadata": {},
   "outputs": [],
   "source": [
    "def odd_finder2(x):\n",
    "    if x % 2 == 1:\n",
    "        return 1\n",
    "    else:\n",
    "        return 0"
   ]
  },
  {
   "cell_type": "code",
   "execution_count": 15,
   "id": "e09b787f",
   "metadata": {},
   "outputs": [
    {
     "data": {
      "text/plain": [
       "(1, 3, 5, 7, 9)"
      ]
     },
     "execution_count": 15,
     "metadata": {},
     "output_type": "execute_result"
    }
   ],
   "source": [
    "tuple(filter(odd_finder2, [1, 2, 3, 4, 5, 6, 7, 8, 9, 10]))"
   ]
  },
  {
   "cell_type": "code",
   "execution_count": 16,
   "id": "0fb7734b",
   "metadata": {},
   "outputs": [],
   "source": [
    "def odd_finder3(x):\n",
    "    if x % 2 == 1:\n",
    "        return 'asdf'\n",
    "    else:\n",
    "        return ''"
   ]
  },
  {
   "cell_type": "code",
   "execution_count": null,
   "id": "000a1155",
   "metadata": {},
   "outputs": [
    {
     "data": {
      "text/plain": [
       "(1, 3, 5, 7, 9)"
      ]
     },
     "execution_count": 18,
     "metadata": {},
     "output_type": "execute_result"
    }
   ],
   "source": [
    "tuple(filter(odd_finder3, [1, 2, 3, 4, 5, 6, 7, 8, 9, 10]))\n",
    "# the filter finction doesnt look at true or false, meaning boolean."
   ]
  },
  {
   "cell_type": "code",
   "execution_count": 19,
   "metadata": {},
   "outputs": [],
   "source": [
    "def odd_finder4(x):\n",
    "    if x % 2 == 1:\n",
    "        return -90.87\n",
    "    else:\n",
    "        return None"
   ]
  },
  {
   "cell_type": "code",
   "execution_count": 20,
   "id": "09b2c385",
   "metadata": {},
   "outputs": [
    {
     "data": {
      "text/plain": [
       "(1, 3, 5, 7, 9)"
      ]
     },
     "execution_count": 20,
     "metadata": {},
     "output_type": "execute_result"
    }
   ],
   "source": [
    "tuple(filter(odd_finder4, [1, 2, 3, 4, 5, 6, 7, 8, 9, 10]))\n"
   ]
  },
  {
   "cell_type": "code",
   "execution_count": 21,
   "id": "99334e00",
   "metadata": {},
   "outputs": [
    {
     "data": {
      "text/plain": [
       "<filter at 0x1a1613e72e0>"
      ]
     },
     "execution_count": 21,
     "metadata": {},
     "output_type": "execute_result"
    }
   ],
   "source": [
    "filter(odd_finder4, {1, 2, 3, 4, 5, 6, 7, 8, 9, 10})"
   ]
  },
  {
   "cell_type": "code",
   "execution_count": 22,
   "id": "710e6f2a",
   "metadata": {},
   "outputs": [
    {
     "data": {
      "text/plain": [
       "[<filter at 0x1a1613e7a30>]"
      ]
     },
     "execution_count": 22,
     "metadata": {},
     "output_type": "execute_result"
    }
   ],
   "source": [
    "[filter(odd_finder4, {1, 2, 3, 4, 5, 6, 7, 8, 9, 10})]"
   ]
  },
  {
   "cell_type": "code",
   "execution_count": 25,
   "metadata": {},
   "outputs": [
    {
     "data": {
      "text/plain": [
       "('filter', 'hello', 'bbye', [12, 23])"
      ]
     },
     "execution_count": 25,
     "metadata": {},
     "output_type": "execute_result"
    }
   ],
   "source": [
    "tuple(filter(len, ('filter', 'hello', '', [], {}, 'bbye', [12, 23])))"
   ]
  },
  {
   "cell_type": "code",
   "execution_count": 26,
   "id": "c2c53b0f",
   "metadata": {},
   "outputs": [],
   "source": [
    "# A function that finds iterable data with 5 elements\n",
    "def len5(x):\n",
    "    if len(x) == 5:\n",
    "        return True\n",
    "    else:\n",
    "        return False"
   ]
  },
  {
   "cell_type": "code",
   "execution_count": 27,
   "id": "216381e2",
   "metadata": {},
   "outputs": [
    {
     "data": {
      "text/plain": [
       "True"
      ]
     },
     "execution_count": 27,
     "metadata": {},
     "output_type": "execute_result"
    }
   ],
   "source": [
    "len5('hello')"
   ]
  },
  {
   "cell_type": "code",
   "execution_count": 28,
   "id": "7c6d121f",
   "metadata": {},
   "outputs": [
    {
     "data": {
      "text/plain": [
       "False"
      ]
     },
     "execution_count": 28,
     "metadata": {},
     "output_type": "execute_result"
    }
   ],
   "source": [
    "len5('hello1111')"
   ]
  },
  {
   "cell_type": "code",
   "execution_count": 29,
   "id": "833af1ab",
   "metadata": {},
   "outputs": [
    {
     "data": {
      "text/plain": [
       "False"
      ]
     },
     "execution_count": 29,
     "metadata": {},
     "output_type": "execute_result"
    }
   ],
   "source": [
    "len5('hel')"
   ]
  },
  {
   "cell_type": "code",
   "execution_count": 30,
   "id": "f4b08c22",
   "metadata": {},
   "outputs": [
    {
     "data": {
      "text/plain": [
       "True"
      ]
     },
     "execution_count": 30,
     "metadata": {},
     "output_type": "execute_result"
    }
   ],
   "source": [
    "len5([1, 2, 3, 4, 5])"
   ]
  },
  {
   "cell_type": "code",
   "execution_count": 31,
   "id": "ec408adb",
   "metadata": {},
   "outputs": [
    {
     "data": {
      "text/plain": [
       "False"
      ]
     },
     "execution_count": 31,
     "metadata": {},
     "output_type": "execute_result"
    }
   ],
   "source": [
    "len5([1, 2, 3])"
   ]
  },
  {
   "cell_type": "code",
   "execution_count": 49,
   "id": "290cf5e2",
   "metadata": {},
   "outputs": [
    {
     "data": {
      "text/plain": [
       "['nikola', 'ebrunur', 'vusal', 'rovshen', 'kateryna']"
      ]
     },
     "execution_count": 49,
     "metadata": {},
     "output_type": "execute_result"
    }
   ],
   "source": [
    "names = ['nikola', 'ebrunur', 'vusal', 'rovshen', 'kateryna']\n",
    "names"
   ]
  },
  {
   "cell_type": "code",
   "execution_count": 40,
   "metadata": {},
   "outputs": [
    {
     "data": {
      "text/plain": [
       "True"
      ]
     },
     "execution_count": 40,
     "metadata": {},
     "output_type": "execute_result"
    }
   ],
   "source": [
    "len5(names)"
   ]
  },
  {
   "cell_type": "code",
   "execution_count": 41,
   "id": "1b7dd6a6",
   "metadata": {},
   "outputs": [
    {
     "data": {
      "text/plain": [
       "['nikola', 'ebrunur', 'mehmet', 'rovshen', 'kateryna', 'vusal']"
      ]
     },
     "execution_count": 41,
     "metadata": {},
     "output_type": "execute_result"
    }
   ],
   "source": [
    "names2 = ['nikola', 'ebrunur', 'mehmet', 'rovshen', 'kateryna', 'vusal']\n",
    "names2"
   ]
  },
  {
   "cell_type": "code",
   "execution_count": 42,
   "id": "249c260c",
   "metadata": {},
   "outputs": [
    {
     "data": {
      "text/plain": [
       "False"
      ]
     },
     "execution_count": 42,
     "metadata": {},
     "output_type": "execute_result"
    }
   ],
   "source": [
    "len5(names2)"
   ]
  },
  {
   "cell_type": "code",
   "execution_count": 50,
   "id": "286c22ef",
   "metadata": {},
   "outputs": [
    {
     "data": {
      "text/plain": [
       "{'vusal'}"
      ]
     },
     "execution_count": 50,
     "metadata": {},
     "output_type": "execute_result"
    }
   ],
   "source": [
    "set((filter(len5, names)))"
   ]
  },
  {
   "cell_type": "code",
   "execution_count": 44,
   "metadata": {},
   "outputs": [
    {
     "data": {
      "text/plain": [
       "<filter at 0x1a1613e21a0>"
      ]
     },
     "execution_count": 44,
     "metadata": {},
     "output_type": "execute_result"
    }
   ],
   "source": [
    "filter(len5, names)"
   ]
  },
  {
   "cell_type": "code",
   "execution_count": 45,
   "metadata": {},
   "outputs": [
    {
     "data": {
      "text/plain": [
       "('vusal',)"
      ]
     },
     "execution_count": 45,
     "metadata": {},
     "output_type": "execute_result"
    }
   ],
   "source": [
    "tuple((filter(len5, names)))"
   ]
  },
  {
   "cell_type": "code",
   "execution_count": 46,
   "id": "e22ed524",
   "metadata": {},
   "outputs": [
    {
     "data": {
      "text/plain": [
       "['vusal']"
      ]
     },
     "execution_count": 46,
     "metadata": {},
     "output_type": "execute_result"
    }
   ],
   "source": [
    "list((filter(len5, names)))"
   ]
  },
  {
   "cell_type": "code",
   "execution_count": 54,
   "id": "6e416307",
   "metadata": {},
   "outputs": [],
   "source": [
    "def num_finder(x):\n",
    "    if type(x)== int:\n",
    "        return True\n",
    "    else:\n",
    "        return False"
   ]
  },
  {
   "cell_type": "code",
   "execution_count": 55,
   "id": "adfc5dd4",
   "metadata": {},
   "outputs": [
    {
     "data": {
      "text/plain": [
       "[1, 2, 3, 456]"
      ]
     },
     "execution_count": 55,
     "metadata": {},
     "output_type": "execute_result"
    }
   ],
   "source": [
    "list(filter(num_finder, [1, 2, 3, 'hello', 'friends', 456]))"
   ]
  },
  {
   "cell_type": "code",
   "execution_count": 62,
   "metadata": {},
   "outputs": [],
   "source": [
    "def prime_finder(x):\n",
    "    for i in range(2, x):\n",
    "        if x % i == 0:\n",
    "            return False\n",
    "            break\n",
    "        else:\n",
    "            return True"
   ]
  },
  {
   "cell_type": "code",
   "execution_count": 59,
   "id": "c8ceef01",
   "metadata": {},
   "outputs": [
    {
     "data": {
      "text/plain": [
       "True"
      ]
     },
     "execution_count": 59,
     "metadata": {},
     "output_type": "execute_result"
    }
   ],
   "source": [
    "prime_finder(3)"
   ]
  },
  {
   "cell_type": "code",
   "execution_count": 60,
   "metadata": {},
   "outputs": [
    {
     "data": {
      "text/plain": [
       "False"
      ]
     },
     "execution_count": 60,
     "metadata": {},
     "output_type": "execute_result"
    }
   ],
   "source": [
    "prime_finder(8)"
   ]
  },
  {
   "cell_type": "code",
   "execution_count": 64,
   "metadata": {},
   "outputs": [
    {
     "name": "stdout",
     "output_type": "stream",
     "text": [
      "[3, 5, 7, 9, 11, 13, 15, 17, 19, 21, 23, 25, 27, 29, 31, 33, 35, 37, 39, 41, 43, 45, 47, 49, 51, 53, 55, 57, 59, 61, 63, 65, 67, 69, 71, 73, 75, 77, 79, 81, 83, 85, 87, 89, 91, 93, 95, 97, 99]\n"
     ]
    }
   ],
   "source": [
    "# using this function, find all prime numbers between 3 and 100\n",
    "print(list(filter(prime_finder, range(3, 100))))"
   ]
  },
  {
   "cell_type": "markdown",
   "id": "0c61abb9",
   "metadata": {},
   "source": [
    "## lambda()\n",
    "- A simple way of defining a temporary function, specifically one use.\n",
    "- Syntax - (lambda parameters:operation)(arguments or values)\n"
   ]
  },
  {
   "cell_type": "code",
   "execution_count": 119,
   "id": "867f19c0",
   "metadata": {},
   "outputs": [],
   "source": [
    "# define a function using def and lambda techniques\n",
    "# To calculate the sum of squares of two values"
   ]
  },
  {
   "cell_type": "code",
   "execution_count": 120,
   "id": "c6b0d91c",
   "metadata": {},
   "outputs": [],
   "source": [
    "def sum_squares(x, y):\n",
    "    return x**2 + y**2"
   ]
  },
  {
   "cell_type": "code",
   "execution_count": 121,
   "id": "20d4d453",
   "metadata": {},
   "outputs": [
    {
     "data": {
      "text/plain": [
       "25"
      ]
     },
     "execution_count": 121,
     "metadata": {},
     "output_type": "execute_result"
    }
   ],
   "source": [
    "sum_squares(3, 4)"
   ]
  },
  {
   "cell_type": "code",
   "execution_count": 122,
   "metadata": {},
   "outputs": [
    {
     "name": "stdout",
     "output_type": "stream",
     "text": [
      "Help on function sum_squares in module __main__:\n",
      "\n",
      "sum_squares(x, y)\n",
      "\n"
     ]
    }
   ],
   "source": [
    "help(sum_squares)\n",
    "# takes up space in main"
   ]
  },
  {
   "cell_type": "code",
   "execution_count": 123,
   "id": "0637f5a3",
   "metadata": {},
   "outputs": [
    {
     "data": {
      "text/plain": [
       "25"
      ]
     },
     "execution_count": 123,
     "metadata": {},
     "output_type": "execute_result"
    }
   ],
   "source": [
    "# (lambda parameters:operation)(arguments or values)\n",
    "(lambda x, y: x**2 + y**2)(3, 4)\n",
    "# much more efficient"
   ]
  },
  {
   "cell_type": "code",
   "execution_count": 124,
   "metadata": {},
   "outputs": [
    {
     "data": {
      "text/plain": [
       "490"
      ]
     },
     "execution_count": 124,
     "metadata": {},
     "output_type": "execute_result"
    }
   ],
   "source": [
    "(lambda x, y: x**2 + y**2)(21, 7)"
   ]
  },
  {
   "cell_type": "code",
   "execution_count": 125,
   "id": "14ad4b9a",
   "metadata": {},
   "outputs": [
    {
     "data": {
      "text/plain": [
       "1"
      ]
     },
     "execution_count": 125,
     "metadata": {},
     "output_type": "execute_result"
    }
   ],
   "source": [
    "(lambda x, y: x**2 + y**2)(True, False)\n"
   ]
  },
  {
   "cell_type": "code",
   "execution_count": 126,
   "id": "bebef371",
   "metadata": {},
   "outputs": [
    {
     "ename": "TypeError",
     "evalue": "<lambda>() missing 1 required positional argument: 'y'",
     "output_type": "error",
     "traceback": [
      "\u001b[1;31m---------------------------------------------------------------------------\u001b[0m",
      "\u001b[1;31mTypeError\u001b[0m                                 Traceback (most recent call last)",
      "Cell \u001b[1;32mIn[126], line 1\u001b[0m\n\u001b[1;32m----> 1\u001b[0m (\u001b[38;5;28;01mlambda\u001b[39;00m x, y: x\u001b[38;5;241m*\u001b[39m\u001b[38;5;241m*\u001b[39m\u001b[38;5;241m2\u001b[39m \u001b[38;5;241m+\u001b[39m y\u001b[38;5;241m*\u001b[39m\u001b[38;5;241m*\u001b[39m\u001b[38;5;241m2\u001b[39m)(\u001b[38;5;241m-\u001b[39m\u001b[38;5;241m9.01\u001b[39m)\n",
      "\u001b[1;31mTypeError\u001b[0m: <lambda>() missing 1 required positional argument: 'y'"
     ]
    }
   ],
   "source": [
    "(lambda x, y: x**2 + y**2)(-9.01)\n",
    "# while defining lambda function we provided two parameters but only one argument"
   ]
  },
  {
   "cell_type": "code",
   "execution_count": null,
   "metadata": {},
   "outputs": [
    {
     "data": {
      "text/plain": [
       "False"
      ]
     },
     "execution_count": 75,
     "metadata": {},
     "output_type": "execute_result"
    }
   ],
   "source": [
    "(lambda x: len(x) == 5)('techpro')"
   ]
  },
  {
   "cell_type": "code",
   "execution_count": null,
   "metadata": {},
   "outputs": [
    {
     "data": {
      "text/plain": [
       "True"
      ]
     },
     "execution_count": 76,
     "metadata": {},
     "output_type": "execute_result"
    }
   ],
   "source": [
    "(lambda x: len(x) == 5)('vusal')"
   ]
  },
  {
   "cell_type": "code",
   "execution_count": null,
   "id": "e7b1b6e4",
   "metadata": {},
   "outputs": [
    {
     "data": {
      "text/plain": [
       "True"
      ]
     },
     "execution_count": 77,
     "metadata": {},
     "output_type": "execute_result"
    }
   ],
   "source": [
    "(lambda x: len(x) == 5)([0, 1, 2, 3, 4])"
   ]
  },
  {
   "cell_type": "code",
   "execution_count": null,
   "id": "9163363f",
   "metadata": {},
   "outputs": [
    {
     "data": {
      "text/plain": [
       "True"
      ]
     },
     "execution_count": 78,
     "metadata": {},
     "output_type": "execute_result"
    }
   ],
   "source": [
    "(lambda x: len(x) == 5)((0, 1, 2, 3, 4))"
   ]
  },
  {
   "cell_type": "code",
   "execution_count": null,
   "id": "7908a423",
   "metadata": {},
   "outputs": [
    {
     "data": {
      "text/plain": [
       "False"
      ]
     },
     "execution_count": 79,
     "metadata": {},
     "output_type": "execute_result"
    }
   ],
   "source": [
    "(lambda x: len(x) == 5)((21, 0, 1, 2, 3, 4))"
   ]
  },
  {
   "cell_type": "code",
   "execution_count": null,
   "id": "8295ede4",
   "metadata": {},
   "outputs": [
    {
     "data": {
      "text/plain": [
       "['nikola', 'ebrunur', 'mehmet', 'rovshen', 'kateryna', 'vusal', 'fierro']"
      ]
     },
     "execution_count": 81,
     "metadata": {},
     "output_type": "execute_result"
    }
   ],
   "source": [
    "names3 = ['nikola', 'ebrunur', 'mehmet', 'rovshen', 'kateryna', 'vusal', 'fierro']\n",
    "names3"
   ]
  },
  {
   "cell_type": "code",
   "execution_count": null,
   "metadata": {},
   "outputs": [
    {
     "data": {
      "text/plain": [
       "False"
      ]
     },
     "execution_count": 86,
     "metadata": {},
     "output_type": "execute_result"
    }
   ],
   "source": [
    "(lambda x: len(x) == 5)(names3)"
   ]
  },
  {
   "cell_type": "code",
   "execution_count": null,
   "id": "0ad1daae",
   "metadata": {},
   "outputs": [
    {
     "data": {
      "text/plain": [
       "<filter at 0x1a161f26bf0>"
      ]
     },
     "execution_count": 87,
     "metadata": {},
     "output_type": "execute_result"
    }
   ],
   "source": [
    "filter((lambda x: len(x) == 5), names3)"
   ]
  },
  {
   "cell_type": "code",
   "execution_count": null,
   "id": "c0e53c27",
   "metadata": {},
   "outputs": [],
   "source": [
    "(filter((lambda x: len(x) == 5), names3))"
   ]
  },
  {
   "cell_type": "code",
   "execution_count": null,
   "metadata": {},
   "outputs": [
    {
     "data": {
      "text/plain": [
       "9"
      ]
     },
     "execution_count": 88,
     "metadata": {},
     "output_type": "execute_result"
    }
   ],
   "source": [
    "round(8.9)"
   ]
  },
  {
   "cell_type": "code",
   "execution_count": null,
   "id": "5b53945d",
   "metadata": {},
   "outputs": [
    {
     "ename": "ModuleNotFoundError",
     "evalue": "No module named 'pyautogui'",
     "output_type": "error",
     "traceback": [
      "\u001b[1;31m---------------------------------------------------------------------------\u001b[0m",
      "\u001b[1;31mModuleNotFoundError\u001b[0m                       Traceback (most recent call last)",
      "Cell \u001b[1;32mIn[89], line 1\u001b[0m\n\u001b[1;32m----> 1\u001b[0m \u001b[38;5;28;01mimport\u001b[39;00m\u001b[38;5;250m \u001b[39m\u001b[38;5;21;01mpyautogui\u001b[39;00m\n",
      "\u001b[1;31mModuleNotFoundError\u001b[0m: No module named 'pyautogui'"
     ]
    }
   ],
   "source": [
    "import pyautogui"
   ]
  },
  {
   "cell_type": "code",
   "execution_count": null,
   "metadata": {},
   "outputs": [
    {
     "name": "stdout",
     "output_type": "stream",
     "text": [
      "Collecting pyautogui\n",
      "  Downloading PyAutoGUI-0.9.54.tar.gz (61 kB)\n",
      "  Installing build dependencies: started\n",
      "  Installing build dependencies: finished with status 'done'\n",
      "  Getting requirements to build wheel: started\n",
      "  Getting requirements to build wheel: finished with status 'done'\n",
      "  Preparing metadata (pyproject.toml): started\n",
      "  Preparing metadata (pyproject.toml): finished with status 'done'\n",
      "Collecting pymsgbox (from pyautogui)\n",
      "  Downloading pymsgbox-2.0.1-py3-none-any.whl.metadata (4.4 kB)\n",
      "Collecting pytweening>=1.0.4 (from pyautogui)\n",
      "  Downloading pytweening-1.2.0.tar.gz (171 kB)\n",
      "  Preparing metadata (setup.py): started\n",
      "  Preparing metadata (setup.py): finished with status 'done'\n",
      "Collecting pyscreeze>=0.1.21 (from pyautogui)\n",
      "  Downloading pyscreeze-1.0.1.tar.gz (27 kB)\n",
      "  Installing build dependencies: started\n",
      "  Installing build dependencies: finished with status 'done'\n",
      "  Getting requirements to build wheel: started\n",
      "  Getting requirements to build wheel: finished with status 'done'\n",
      "  Preparing metadata (pyproject.toml): started\n",
      "  Preparing metadata (pyproject.toml): finished with status 'done'\n",
      "Collecting pygetwindow>=0.0.5 (from pyautogui)\n",
      "  Downloading PyGetWindow-0.0.9.tar.gz (9.7 kB)\n",
      "  Preparing metadata (setup.py): started\n",
      "  Preparing metadata (setup.py): finished with status 'done'\n",
      "Collecting mouseinfo (from pyautogui)\n",
      "  Downloading MouseInfo-0.1.3.tar.gz (10 kB)\n",
      "  Preparing metadata (setup.py): started\n",
      "  Preparing metadata (setup.py): finished with status 'done'\n",
      "Collecting pyrect (from pygetwindow>=0.0.5->pyautogui)\n",
      "  Downloading PyRect-0.2.0.tar.gz (17 kB)\n",
      "  Preparing metadata (setup.py): started\n",
      "  Preparing metadata (setup.py): finished with status 'done'\n",
      "Collecting pyperclip (from mouseinfo->pyautogui)\n",
      "  Downloading pyperclip-1.11.0-py3-none-any.whl.metadata (2.4 kB)\n",
      "Downloading pymsgbox-2.0.1-py3-none-any.whl (10.0 kB)\n",
      "Downloading pyperclip-1.11.0-py3-none-any.whl (11 kB)\n",
      "Building wheels for collected packages: pyautogui, pygetwindow, pyscreeze, pytweening, mouseinfo, pyrect\n",
      "  Building wheel for pyautogui (pyproject.toml): started\n",
      "  Building wheel for pyautogui (pyproject.toml): finished with status 'done'\n",
      "  Created wheel for pyautogui: filename=pyautogui-0.9.54-py3-none-any.whl size=37707 sha256=37e69f0bb53d1a715930c9abfd50f489ea1bceb30b4d1c4979f6a547e7b977a1\n",
      "  Stored in directory: c:\\users\\mehme\\appdata\\local\\pip\\cache\\wheels\\9c\\22\\e7\\c97f656d0790ef69feae4fcc7bbc1fc648f1b37879f52e7480\n",
      "  Building wheel for pygetwindow (setup.py): started\n",
      "  Building wheel for pygetwindow (setup.py): finished with status 'done'\n",
      "  Created wheel for pygetwindow: filename=PyGetWindow-0.0.9-py3-none-any.whl size=11081 sha256=4a4daac2d6565887fe2bbfaa2dbebf2b047463c0144bfcd6d6e4bfe062ec5f0b\n",
      "  Stored in directory: c:\\users\\mehme\\appdata\\local\\pip\\cache\\wheels\\87\\94\\20\\4e4ddd07e7276e44a38ac39d5b6c919d38ef27b9ebc5041e0f\n",
      "  Building wheel for pyscreeze (pyproject.toml): started\n",
      "  Building wheel for pyscreeze (pyproject.toml): finished with status 'done'\n",
      "  Created wheel for pyscreeze: filename=pyscreeze-1.0.1-py3-none-any.whl size=14481 sha256=3896bf0918ed4b0c79d736272f8b17364f8e65f5049f07af4f591b1c9bb3e8a9\n",
      "  Stored in directory: c:\\users\\mehme\\appdata\\local\\pip\\cache\\wheels\\1c\\6e\\d7\\0acfbc5116e11006753649efc7cb40bb9df98990798a21960d\n",
      "  Building wheel for pytweening (setup.py): started\n",
      "  Building wheel for pytweening (setup.py): finished with status 'done'\n",
      "  Created wheel for pytweening: filename=pytweening-1.2.0-py3-none-any.whl size=8029 sha256=c4147b426cf987ab444e59ce49f63d49600a23c48d17799b905f7ffde67db374\n",
      "  Stored in directory: c:\\users\\mehme\\appdata\\local\\pip\\cache\\wheels\\e7\\89\\f5\\71248cbe0cc120d985c1976f8f2f31675069644c23ff03abfc\n",
      "  Building wheel for mouseinfo (setup.py): started\n",
      "  Building wheel for mouseinfo (setup.py): finished with status 'done'\n",
      "  Created wheel for mouseinfo: filename=MouseInfo-0.1.3-py3-none-any.whl size=10904 sha256=477a2ddf16487d217e76df1651d2fe0fefca09f077483a65ea05fd1d5128e583\n",
      "  Stored in directory: c:\\users\\mehme\\appdata\\local\\pip\\cache\\wheels\\61\\5c\\24\\7d8ed078555f30e8f23fbc97f6361242a2cb4437ddd0384389\n",
      "  Building wheel for pyrect (setup.py): started\n",
      "  Building wheel for pyrect (setup.py): finished with status 'done'\n",
      "  Created wheel for pyrect: filename=PyRect-0.2.0-py2.py3-none-any.whl size=11207 sha256=6a3b4a8b576864debf1b31a24c049b98a4f8e421cf64ce36a4d276daa514d9f6\n",
      "  Stored in directory: c:\\users\\mehme\\appdata\\local\\pip\\cache\\wheels\\1e\\84\\e3\\83782b4a92f3d4d5b7fff5c36bf8c31922719e0695ee854cf0\n",
      "Successfully built pyautogui pygetwindow pyscreeze pytweening mouseinfo pyrect\n",
      "Installing collected packages: pytweening, pyscreeze, pyrect, pyperclip, pymsgbox, pygetwindow, mouseinfo, pyautogui\n",
      "\n",
      "   ------------------------- -------------- 5/8 [pygetwindow]\n",
      "   ---------------------------------------- 8/8 [pyautogui]\n",
      "\n",
      "Successfully installed mouseinfo-0.1.3 pyautogui-0.9.54 pygetwindow-0.0.9 pymsgbox-2.0.1 pyperclip-1.11.0 pyrect-0.2.0 pyscreeze-1.0.1 pytweening-1.2.0\n",
      "Note: you may need to restart the kernel to use updated packages.\n"
     ]
    },
    {
     "name": "stderr",
     "output_type": "stream",
     "text": [
      "  DEPRECATION: Building 'pygetwindow' using the legacy setup.py bdist_wheel mechanism, which will be removed in a future version. pip 25.3 will enforce this behaviour change. A possible replacement is to use the standardized build interface by setting the `--use-pep517` option, (possibly combined with `--no-build-isolation`), or adding a `pyproject.toml` file to the source tree of 'pygetwindow'. Discussion can be found at https://github.com/pypa/pip/issues/6334\n",
      "  DEPRECATION: Building 'pytweening' using the legacy setup.py bdist_wheel mechanism, which will be removed in a future version. pip 25.3 will enforce this behaviour change. A possible replacement is to use the standardized build interface by setting the `--use-pep517` option, (possibly combined with `--no-build-isolation`), or adding a `pyproject.toml` file to the source tree of 'pytweening'. Discussion can be found at https://github.com/pypa/pip/issues/6334\n",
      "  DEPRECATION: Building 'mouseinfo' using the legacy setup.py bdist_wheel mechanism, which will be removed in a future version. pip 25.3 will enforce this behaviour change. A possible replacement is to use the standardized build interface by setting the `--use-pep517` option, (possibly combined with `--no-build-isolation`), or adding a `pyproject.toml` file to the source tree of 'mouseinfo'. Discussion can be found at https://github.com/pypa/pip/issues/6334\n",
      "  DEPRECATION: Building 'pyrect' using the legacy setup.py bdist_wheel mechanism, which will be removed in a future version. pip 25.3 will enforce this behaviour change. A possible replacement is to use the standardized build interface by setting the `--use-pep517` option, (possibly combined with `--no-build-isolation`), or adding a `pyproject.toml` file to the source tree of 'pyrect'. Discussion can be found at https://github.com/pypa/pip/issues/6334\n"
     ]
    }
   ],
   "source": [
    "pip install pyautogui"
   ]
  },
  {
   "cell_type": "code",
   "execution_count": null,
   "id": "5e97cb5a",
   "metadata": {},
   "outputs": [],
   "source": [
    "import pyautogui"
   ]
  },
  {
   "cell_type": "code",
   "execution_count": null,
   "id": "17eb3b6c",
   "metadata": {},
   "outputs": [
    {
     "data": {
      "text/plain": [
       "Point(x=1790, y=1032)"
      ]
     },
     "execution_count": 100,
     "metadata": {},
     "output_type": "execute_result"
    }
   ],
   "source": [
    "pyautogui.position()"
   ]
  },
  {
   "cell_type": "code",
   "execution_count": null,
   "id": "4b379d1b",
   "metadata": {},
   "outputs": [],
   "source": [
    "pyautogui.moveTo(-827, 888)"
   ]
  },
  {
   "cell_type": "code",
   "execution_count": null,
   "id": "10de9825",
   "metadata": {},
   "outputs": [],
   "source": [
    "pyautogui.moveTo(-864, 475)\n",
    "pyautogui.leftClick()"
   ]
  },
  {
   "cell_type": "markdown",
   "id": "e9ceecf9",
   "metadata": {},
   "source": [
    "- libraries >> package >> module, module is just one python file containing functions and variables\n",
    "- In order to create a new module in python, the first thing we do is initialize the process, or start the process, by creating a __init__.py file, telling that we initialised or started creating our own modules, now every .py file we create in this folder will be considered as a module in python."
   ]
  },
  {
   "cell_type": "code",
   "execution_count": 127,
   "id": "b7626650",
   "metadata": {},
   "outputs": [],
   "source": [
    "def power(x,y):\n",
    "    return x ** y"
   ]
  },
  {
   "cell_type": "code",
   "execution_count": 128,
   "id": "91bffff3",
   "metadata": {},
   "outputs": [
    {
     "data": {
      "text/plain": [
       "8"
      ]
     },
     "execution_count": 128,
     "metadata": {},
     "output_type": "execute_result"
    }
   ],
   "source": [
    "power(2, 3)"
   ]
  },
  {
   "cell_type": "code",
   "execution_count": 129,
   "id": "a9256f04",
   "metadata": {},
   "outputs": [
    {
     "data": {
      "text/plain": [
       "64"
      ]
     },
     "execution_count": 129,
     "metadata": {},
     "output_type": "execute_result"
    }
   ],
   "source": [
    "power(4,3)"
   ]
  },
  {
   "cell_type": "code",
   "execution_count": 133,
   "id": "9131a92d",
   "metadata": {},
   "outputs": [],
   "source": [
    "def sqroot(x):\n",
    "    return int(x**0.5)"
   ]
  },
  {
   "cell_type": "code",
   "execution_count": 137,
   "id": "b71e0307",
   "metadata": {},
   "outputs": [
    {
     "data": {
      "text/plain": [
       "5"
      ]
     },
     "execution_count": 137,
     "metadata": {},
     "output_type": "execute_result"
    }
   ],
   "source": [
    "sqroot(25)"
   ]
  },
  {
   "cell_type": "code",
   "execution_count": 136,
   "id": "3e4b676a",
   "metadata": {},
   "outputs": [],
   "source": [
    "def sqroot2(x):\n",
    "    return x**0.5"
   ]
  },
  {
   "cell_type": "code",
   "execution_count": 138,
   "id": "a96180ba",
   "metadata": {},
   "outputs": [
    {
     "data": {
      "text/plain": [
       "6.0"
      ]
     },
     "execution_count": 138,
     "metadata": {},
     "output_type": "execute_result"
    }
   ],
   "source": [
    "sqroot2(36)"
   ]
  },
  {
   "cell_type": "code",
   "execution_count": 139,
   "metadata": {},
   "outputs": [
    {
     "data": {
      "text/plain": [
       "9"
      ]
     },
     "execution_count": 139,
     "metadata": {},
     "output_type": "execute_result"
    }
   ],
   "source": [
    "sqroot(81)"
   ]
  },
  {
   "cell_type": "code",
   "execution_count": 8,
   "id": "6f550115",
   "metadata": {},
   "outputs": [],
   "source": [
    "import my_math"
   ]
  },
  {
   "cell_type": "code",
   "execution_count": 9,
   "metadata": {},
   "outputs": [
    {
     "data": {
      "text/plain": [
       "9.0"
      ]
     },
     "execution_count": 9,
     "metadata": {},
     "output_type": "execute_result"
    }
   ],
   "source": [
    "my_math.sqroot2(81)"
   ]
  },
  {
   "cell_type": "code",
   "execution_count": 10,
   "metadata": {},
   "outputs": [
    {
     "data": {
      "text/plain": [
       "3.14"
      ]
     },
     "execution_count": 10,
     "metadata": {},
     "output_type": "execute_result"
    }
   ],
   "source": [
    "my_math.pi"
   ]
  },
  {
   "cell_type": "code",
   "execution_count": 4,
   "metadata": {},
   "outputs": [],
   "source": [
    "import sys"
   ]
  },
  {
   "cell_type": "code",
   "execution_count": 6,
   "id": "857038ed",
   "metadata": {},
   "outputs": [
    {
     "data": {
      "text/plain": [
       "['c:\\\\Users\\\\mehme\\\\anaconda3\\\\python313.zip',\n",
       " 'c:\\\\Users\\\\mehme\\\\anaconda3\\\\DLLs',\n",
       " 'c:\\\\Users\\\\mehme\\\\anaconda3\\\\Lib',\n",
       " 'c:\\\\Users\\\\mehme\\\\anaconda3',\n",
       " '',\n",
       " 'c:\\\\Users\\\\mehme\\\\anaconda3\\\\Lib\\\\site-packages',\n",
       " 'c:\\\\Users\\\\mehme\\\\anaconda3\\\\Lib\\\\site-packages\\\\win32',\n",
       " 'c:\\\\Users\\\\mehme\\\\anaconda3\\\\Lib\\\\site-packages\\\\win32\\\\lib',\n",
       " 'c:\\\\Users\\\\mehme\\\\anaconda3\\\\Lib\\\\site-packages\\\\Pythonwin']"
      ]
     },
     "execution_count": 6,
     "metadata": {},
     "output_type": "execute_result"
    }
   ],
   "source": [
    "sys.path"
   ]
  },
  {
   "cell_type": "markdown",
   "id": "e5b1953a",
   "metadata": {},
   "source": [
    "- If we initialize a package(with multiple modules) in a location and can't import them and also don't see it in sys.path, we cn add our pakage's location like the following:"
   ]
  },
  {
   "cell_type": "code",
   "execution_count": 14,
   "metadata": {},
   "outputs": [],
   "source": [
    "my_module_path = 'C:\\\\Users\\\\mehme\\\\OneDrive\\\\Documents\\\\programming_paradigm\\\\data_science\\\\Advanced Python 1'\n",
    "sys.path.append(my_module_path)"
   ]
  },
  {
   "cell_type": "code",
   "execution_count": 15,
   "metadata": {},
   "outputs": [
    {
     "data": {
      "text/plain": [
       "['c:\\\\Users\\\\mehme\\\\anaconda3\\\\python313.zip',\n",
       " 'c:\\\\Users\\\\mehme\\\\anaconda3\\\\DLLs',\n",
       " 'c:\\\\Users\\\\mehme\\\\anaconda3\\\\Lib',\n",
       " 'c:\\\\Users\\\\mehme\\\\anaconda3',\n",
       " '',\n",
       " 'c:\\\\Users\\\\mehme\\\\anaconda3\\\\Lib\\\\site-packages',\n",
       " 'c:\\\\Users\\\\mehme\\\\anaconda3\\\\Lib\\\\site-packages\\\\win32',\n",
       " 'c:\\\\Users\\\\mehme\\\\anaconda3\\\\Lib\\\\site-packages\\\\win32\\\\lib',\n",
       " 'c:\\\\Users\\\\mehme\\\\anaconda3\\\\Lib\\\\site-packages\\\\Pythonwin',\n",
       " 'C:\\\\Users\\\\mehme\\\\OneDrive\\\\Documents\\\\programming_paradigm\\\\data_science\\\\Advanced Python 1']"
      ]
     },
     "execution_count": 15,
     "metadata": {},
     "output_type": "execute_result"
    }
   ],
   "source": [
    "sys.path"
   ]
  },
  {
   "cell_type": "code",
   "execution_count": 17,
   "metadata": {},
   "outputs": [
    {
     "name": "stdout",
     "output_type": "stream",
     "text": [
      "(2, 3, 4)\n"
     ]
    }
   ],
   "source": [
    "x = (1, 2, 3, 4, 5)\n",
    "print(x[1:-1])"
   ]
  },
  {
   "cell_type": "code",
   "execution_count": 22,
   "id": "47316048",
   "metadata": {},
   "outputs": [],
   "source": [
    "values = (1,)"
   ]
  },
  {
   "cell_type": "code",
   "execution_count": 23,
   "id": "f00a8059",
   "metadata": {},
   "outputs": [
    {
     "data": {
      "text/plain": [
       "tuple"
      ]
     },
     "execution_count": 23,
     "metadata": {},
     "output_type": "execute_result"
    }
   ],
   "source": [
    "type(values)"
   ]
  },
  {
   "cell_type": "code",
   "execution_count": 24,
   "id": "c624a5cf",
   "metadata": {},
   "outputs": [],
   "source": [
    "fruits = ['Apple', 'Cherry', 'Grape', 'Orange', 'Melon', 'Strawberry']"
   ]
  },
  {
   "cell_type": "code",
   "execution_count": 25,
   "id": "8d0a4fd8",
   "metadata": {},
   "outputs": [
    {
     "name": "stdout",
     "output_type": "stream",
     "text": [
      "['Melon', 'Grape', 'Apple']\n"
     ]
    }
   ],
   "source": [
    "print(fruits[4::-2])"
   ]
  },
  {
   "cell_type": "code",
   "execution_count": 26,
   "metadata": {},
   "outputs": [
    {
     "name": "stdout",
     "output_type": "stream",
     "text": [
      "Apple\n"
     ]
    }
   ],
   "source": [
    "print(fruits[-6])"
   ]
  },
  {
   "cell_type": "code",
   "execution_count": 27,
   "id": "efe43ddc",
   "metadata": {},
   "outputs": [
    {
     "name": "stdout",
     "output_type": "stream",
     "text": [
      "['Cherry', 'Grape']\n"
     ]
    }
   ],
   "source": [
    "print(fruits[-5:-3])\n"
   ]
  },
  {
   "cell_type": "code",
   "execution_count": 28,
   "id": "5b7b8a09",
   "metadata": {},
   "outputs": [
    {
     "name": "stdout",
     "output_type": "stream",
     "text": [
      "['Apple', 'Cherry', 'Grape', 'Orange', 'Melon', 'Strawberry']\n"
     ]
    }
   ],
   "source": [
    "print(fruits[:])"
   ]
  },
  {
   "cell_type": "code",
   "execution_count": 29,
   "id": "2ace5a51",
   "metadata": {},
   "outputs": [
    {
     "name": "stdout",
     "output_type": "stream",
     "text": [
      "['Apple', 'Cherry', 'Grape', 'Orange', 'Melon', 'Strawberry']\n"
     ]
    }
   ],
   "source": [
    "print(fruits[:])"
   ]
  },
  {
   "cell_type": "code",
   "execution_count": 30,
   "id": "ee6c629b",
   "metadata": {},
   "outputs": [
    {
     "name": "stdout",
     "output_type": "stream",
     "text": [
      "False\n"
     ]
    }
   ],
   "source": [
    "print(fruits[:] is fruits)"
   ]
  },
  {
   "cell_type": "code",
   "execution_count": 31,
   "id": "d251eed8",
   "metadata": {},
   "outputs": [
    {
     "name": "stdout",
     "output_type": "stream",
     "text": [
      "Lizzy 73 1st Claire 68 2:1 Georgios 55 2:2 Jack 60 2:1 "
     ]
    }
   ],
   "source": [
    "cohort = [\n",
    "    (\"Lizzy\", 73, \"1st\"),\n",
    "    (\"Claire\", 68, \"2:1\"),\n",
    "    (\"Georgios\", 55, \"2:2\"),\n",
    "    (\"Jack\", 60, \"2:1\")\n",
    "]\n",
    "\n",
    "for student in cohort:\n",
    "    for individual in student:\n",
    "        print(individual, end=\" \")\n"
   ]
  },
  {
   "cell_type": "code",
   "execution_count": 37,
   "id": "5382f29b",
   "metadata": {},
   "outputs": [],
   "source": [
    "import my_math"
   ]
  },
  {
   "cell_type": "code",
   "execution_count": 38,
   "id": "4185a591",
   "metadata": {},
   "outputs": [
    {
     "ename": "AttributeError",
     "evalue": "module 'my_math' has no attribute 'power'",
     "output_type": "error",
     "traceback": [
      "\u001b[1;31m---------------------------------------------------------------------------\u001b[0m",
      "\u001b[1;31mAttributeError\u001b[0m                            Traceback (most recent call last)",
      "Cell \u001b[1;32mIn[38], line 1\u001b[0m\n\u001b[1;32m----> 1\u001b[0m my_math\u001b[38;5;241m.\u001b[39mpower(\u001b[38;5;241m4\u001b[39m, \u001b[38;5;241m5\u001b[39m)\n",
      "\u001b[1;31mAttributeError\u001b[0m: module 'my_math' has no attribute 'power'"
     ]
    }
   ],
   "source": [
    "my_math.power(4, 5)"
   ]
  },
  {
   "cell_type": "code",
   "execution_count": 39,
   "id": "702ddf02",
   "metadata": {},
   "outputs": [],
   "source": [
    "import my_math"
   ]
  },
  {
   "cell_type": "code",
   "execution_count": 41,
   "id": "555a0864",
   "metadata": {},
   "outputs": [
    {
     "data": {
      "text/plain": [
       "2"
      ]
     },
     "execution_count": 41,
     "metadata": {},
     "output_type": "execute_result"
    }
   ],
   "source": [
    "my_math.sqroot(4)"
   ]
  },
  {
   "cell_type": "code",
   "execution_count": 50,
   "id": "944b94c7",
   "metadata": {},
   "outputs": [],
   "source": [
    "# Define a function that performs the factorial operation.\n",
    "\n",
    "def factorial(n):\n",
    "    result = 1\n",
    "    while n > 1:\n",
    "        result *= n\n",
    "        n -= 1\n",
    "    return result\n",
    "\n"
   ]
  },
  {
   "cell_type": "code",
   "execution_count": 51,
   "id": "c5f990c9",
   "metadata": {},
   "outputs": [
    {
     "data": {
      "text/plain": [
       "120"
      ]
     },
     "execution_count": 51,
     "metadata": {},
     "output_type": "execute_result"
    }
   ],
   "source": [
    "factorial(5)"
   ]
  },
  {
   "cell_type": "code",
   "execution_count": 53,
   "id": "59aaff26",
   "metadata": {},
   "outputs": [],
   "source": [
    "def factorial2(n):\n",
    "    result = 1\n",
    "    for i in range(1, n + 1):\n",
    "        result *= i\n",
    "    return result"
   ]
  },
  {
   "cell_type": "code",
   "execution_count": 54,
   "id": "3e86f47c",
   "metadata": {},
   "outputs": [
    {
     "data": {
      "text/plain": [
       "720"
      ]
     },
     "execution_count": 54,
     "metadata": {},
     "output_type": "execute_result"
    }
   ],
   "source": [
    "factorial2(6)"
   ]
  },
  {
   "cell_type": "code",
   "execution_count": null,
   "id": "17ba3979",
   "metadata": {},
   "outputs": [],
   "source": [
    "def factorial3(x):\n",
    "    '''This function calculates factorial of a given number.'''\n",
    "    if x == 0 or x == 1:\n",
    "        return 1\n",
    "    else:\n",
    "        return x * factorial3(x - 1)"
   ]
  },
  {
   "cell_type": "code",
   "execution_count": 56,
   "id": "0a21b2ec",
   "metadata": {},
   "outputs": [
    {
     "data": {
      "text/plain": [
       "24"
      ]
     },
     "execution_count": 56,
     "metadata": {},
     "output_type": "execute_result"
    }
   ],
   "source": [
    "factorial3(4)"
   ]
  },
  {
   "cell_type": "code",
   "execution_count": 57,
   "id": "48002e95",
   "metadata": {},
   "outputs": [],
   "source": [
    "# Define a function that calculates n number of elements in a fibonacci series\n",
    "def fib_serias(n):\n",
    "    '''Returns the fibonacci series with n elements'''\n",
    "    fibonacci = [0, 1]\n",
    "    while len(fibonacci) < n:\n",
    "        next_element = fibonacci[-1] + fibonacci[-2]\n",
    "        fibonacci.append(next_element)\n",
    "    return fibonacci"
   ]
  },
  {
   "cell_type": "code",
   "execution_count": 58,
   "id": "73def9e1",
   "metadata": {},
   "outputs": [
    {
     "data": {
      "text/plain": [
       "[0, 1, 1, 2, 3, 5, 8, 13, 21]"
      ]
     },
     "execution_count": 58,
     "metadata": {},
     "output_type": "execute_result"
    }
   ],
   "source": [
    "fib_serias(9)"
   ]
  },
  {
   "cell_type": "code",
   "execution_count": 59,
   "id": "65495ace",
   "metadata": {},
   "outputs": [],
   "source": [
    "import my_math"
   ]
  },
  {
   "cell_type": "code",
   "execution_count": 60,
   "id": "ab8f1792",
   "metadata": {},
   "outputs": [
    {
     "data": {
      "text/plain": [
       "3.14"
      ]
     },
     "execution_count": 60,
     "metadata": {},
     "output_type": "execute_result"
    }
   ],
   "source": [
    "my_math.pi"
   ]
  },
  {
   "cell_type": "code",
   "execution_count": 64,
   "id": "d2077e21",
   "metadata": {},
   "outputs": [
    {
     "ename": "AttributeError",
     "evalue": "module 'my_math' has no attribute 'power'",
     "output_type": "error",
     "traceback": [
      "\u001b[1;31m---------------------------------------------------------------------------\u001b[0m",
      "\u001b[1;31mAttributeError\u001b[0m                            Traceback (most recent call last)",
      "Cell \u001b[1;32mIn[64], line 1\u001b[0m\n\u001b[1;32m----> 1\u001b[0m my_math\u001b[38;5;241m.\u001b[39mpower(\u001b[38;5;241m3\u001b[39m)\n",
      "\u001b[1;31mAttributeError\u001b[0m: module 'my_math' has no attribute 'power'"
     ]
    }
   ],
   "source": [
    "my_math.power(3)"
   ]
  },
  {
   "cell_type": "code",
   "execution_count": 65,
   "id": "50f4797a",
   "metadata": {},
   "outputs": [],
   "source": [
    "# importing just the module\n",
    "import useful_functions\n",
    "# when you inport just the module, you have to call the module \n",
    "# to use the functions or variables inside it "
   ]
  },
  {
   "cell_type": "code",
   "execution_count": 66,
   "id": "b0bb05cc",
   "metadata": {},
   "outputs": [
    {
     "data": {
      "text/plain": [
       "24"
      ]
     },
     "execution_count": 66,
     "metadata": {},
     "output_type": "execute_result"
    }
   ],
   "source": [
    "useful_functions.factorial3(4)"
   ]
  },
  {
   "cell_type": "code",
   "execution_count": 69,
   "id": "d8ccb65c",
   "metadata": {},
   "outputs": [],
   "source": [
    "# you can call a module with a nickname or an alias\n",
    "import useful_functions as usefun \n",
    "# again as we are only importing the module, we can access or use the functions \n",
    "# or the variables through the module, the only difference is that we use the alias \n",
    "# or nickname instead of the module "
   ]
  },
  {
   "cell_type": "code",
   "execution_count": 70,
   "id": "82158166",
   "metadata": {},
   "outputs": [
    {
     "data": {
      "text/plain": [
       "[0, 1, 1, 2, 3, 5, 8, 13]"
      ]
     },
     "execution_count": 70,
     "metadata": {},
     "output_type": "execute_result"
    }
   ],
   "source": [
    "usefun.fib_serias(8)"
   ]
  },
  {
   "cell_type": "code",
   "execution_count": null,
   "id": "d88e0f29",
   "metadata": {},
   "outputs": [],
   "source": [
    "# you can import spesific functions or variables from a module\n",
    "from useful_functions import pi\n",
    "# now that you are directly importing a function or a variable, \n",
    "# you dont need to use the module itself in order to use the imported element"
   ]
  },
  {
   "cell_type": "code",
   "execution_count": 73,
   "id": "4738283e",
   "metadata": {},
   "outputs": [
    {
     "data": {
      "text/plain": [
       "3.14"
      ]
     },
     "execution_count": 73,
     "metadata": {},
     "output_type": "execute_result"
    }
   ],
   "source": [
    "pi"
   ]
  },
  {
   "cell_type": "code",
   "execution_count": 74,
   "id": "7f0a8025",
   "metadata": {},
   "outputs": [],
   "source": [
    "# you can import spesific functions or variables from a module with an alias or nickname\n",
    "from useful_functions import factorial3 as fact3\n",
    "# now that you are directly importing a function or a variable, \n",
    "# you dont need to use the module itself in order to use the imported element"
   ]
  },
  {
   "cell_type": "code",
   "execution_count": 75,
   "id": "43029fd8",
   "metadata": {},
   "outputs": [
    {
     "data": {
      "text/plain": [
       "120"
      ]
     },
     "execution_count": 75,
     "metadata": {},
     "output_type": "execute_result"
    }
   ],
   "source": [
    "fact3(5)"
   ]
  },
  {
   "cell_type": "code",
   "execution_count": 76,
   "id": "9ce8dd30",
   "metadata": {},
   "outputs": [],
   "source": [
    "a = 2\n",
    "b = 34"
   ]
  },
  {
   "cell_type": "code",
   "execution_count": 77,
   "id": "b2695611",
   "metadata": {},
   "outputs": [
    {
     "name": "stdout",
     "output_type": "stream",
     "text": [
      "hello\n"
     ]
    }
   ],
   "source": [
    "print('hello')"
   ]
  },
  {
   "cell_type": "code",
   "execution_count": 78,
   "id": "0da3b87a",
   "metadata": {},
   "outputs": [
    {
     "data": {
      "text/plain": [
       "7"
      ]
     },
     "execution_count": 78,
     "metadata": {},
     "output_type": "execute_result"
    }
   ],
   "source": [
    "3 + 4"
   ]
  },
  {
   "cell_type": "code",
   "execution_count": 79,
   "id": "182ba942",
   "metadata": {},
   "outputs": [],
   "source": [
    "import random"
   ]
  },
  {
   "cell_type": "code",
   "execution_count": 82,
   "id": "736ca78b",
   "metadata": {},
   "outputs": [
    {
     "data": {
      "text/plain": [
       "0.22579822107855796"
      ]
     },
     "execution_count": 82,
     "metadata": {},
     "output_type": "execute_result"
    }
   ],
   "source": [
    "random.random()"
   ]
  },
  {
   "cell_type": "code",
   "execution_count": 85,
   "id": "07d54816",
   "metadata": {},
   "outputs": [],
   "source": [
    "def square(x):\n",
    "    return x ** 2"
   ]
  },
  {
   "cell_type": "code",
   "execution_count": 86,
   "id": "263b0fcb",
   "metadata": {},
   "outputs": [
    {
     "data": {
      "text/plain": [
       "4"
      ]
     },
     "execution_count": 86,
     "metadata": {},
     "output_type": "execute_result"
    }
   ],
   "source": [
    "square(2)"
   ]
  },
  {
   "cell_type": "code",
   "execution_count": 87,
   "id": "8602efdb",
   "metadata": {},
   "outputs": [],
   "source": [
    "from useful_functions import factorial3, pi "
   ]
  },
  {
   "cell_type": "code",
   "execution_count": 88,
   "id": "64b1fb7a",
   "metadata": {},
   "outputs": [
    {
     "data": {
      "text/plain": [
       "3.14"
      ]
     },
     "execution_count": 88,
     "metadata": {},
     "output_type": "execute_result"
    }
   ],
   "source": [
    "pi"
   ]
  },
  {
   "cell_type": "code",
   "execution_count": 89,
   "id": "1e8397c6",
   "metadata": {},
   "outputs": [
    {
     "data": {
      "text/plain": [
       "5040"
      ]
     },
     "execution_count": 89,
     "metadata": {},
     "output_type": "execute_result"
    }
   ],
   "source": [
    "factorial3(7)"
   ]
  },
  {
   "cell_type": "code",
   "execution_count": null,
   "id": "b5703c06",
   "metadata": {},
   "outputs": [],
   "source": [
    "# if you want to import all functions and parameters:\n",
    "from useful_functions import *\n",
    "# * means all "
   ]
  },
  {
   "cell_type": "code",
   "execution_count": 93,
   "id": "0654c634",
   "metadata": {},
   "outputs": [
    {
     "data": {
      "text/plain": [
       "720"
      ]
     },
     "execution_count": 93,
     "metadata": {},
     "output_type": "execute_result"
    }
   ],
   "source": [
    "factorial3(6)"
   ]
  },
  {
   "cell_type": "code",
   "execution_count": 94,
   "id": "0df13180",
   "metadata": {},
   "outputs": [
    {
     "data": {
      "text/plain": [
       "[0, 1, 1, 2]"
      ]
     },
     "execution_count": 94,
     "metadata": {},
     "output_type": "execute_result"
    }
   ],
   "source": [
    "fib_serias(4)"
   ]
  },
  {
   "cell_type": "code",
   "execution_count": null,
   "id": "f64fd28a",
   "metadata": {},
   "outputs": [
    {
     "data": {
      "text/plain": [
       "3.14"
      ]
     },
     "execution_count": 95,
     "metadata": {},
     "output_type": "execute_result"
    }
   ],
   "source": [
    "pi"
   ]
  },
  {
   "cell_type": "code",
   "execution_count": 1,
   "id": "123bcd1c",
   "metadata": {},
   "outputs": [],
   "source": [
    "import useful_functions"
   ]
  },
  {
   "cell_type": "code",
   "execution_count": null,
   "id": "465e7593",
   "metadata": {},
   "outputs": [
    {
     "data": {
      "text/plain": [
       "'c:\\\\Users\\\\mehme\\\\OneDrive\\\\Documents\\\\programming_paradigm\\\\data_science\\\\Advanced Python 1\\\\useful_functions.py'"
      ]
     },
     "execution_count": 97,
     "metadata": {},
     "output_type": "execute_result"
    }
   ],
   "source": [
    "useful_functions.__file__\n",
    "# the location of the module "
   ]
  },
  {
   "cell_type": "code",
   "execution_count": 98,
   "id": "45a132c9",
   "metadata": {},
   "outputs": [
    {
     "data": {
      "text/plain": [
       "{'__name__': 'useful_functions',\n",
       " '__doc__': None,\n",
       " '__package__': '',\n",
       " '__loader__': <_frozen_importlib_external.SourceFileLoader at 0x1e9c74a42f0>,\n",
       " '__spec__': ModuleSpec(name='useful_functions', loader=<_frozen_importlib_external.SourceFileLoader object at 0x000001E9C74A42F0>, origin='c:\\\\Users\\\\mehme\\\\OneDrive\\\\Documents\\\\programming_paradigm\\\\data_science\\\\Advanced Python 1\\\\useful_functions.py'),\n",
       " '__file__': 'c:\\\\Users\\\\mehme\\\\OneDrive\\\\Documents\\\\programming_paradigm\\\\data_science\\\\Advanced Python 1\\\\useful_functions.py',\n",
       " '__cached__': 'c:\\\\Users\\\\mehme\\\\OneDrive\\\\Documents\\\\programming_paradigm\\\\data_science\\\\Advanced Python 1\\\\__pycache__\\\\useful_functions.cpython-313.pyc',\n",
       " '__builtins__': {'__name__': 'builtins',\n",
       "  '__doc__': \"Built-in functions, types, exceptions, and other objects.\\n\\nThis module provides direct access to all 'built-in'\\nidentifiers of Python; for example, builtins.len is\\nthe full name for the built-in function len().\\n\\nThis module is not normally accessed explicitly by most\\napplications, but can be useful in modules that provide\\nobjects with the same name as a built-in value, but in\\nwhich the built-in of that name is also needed.\",\n",
       "  '__package__': '',\n",
       "  '__loader__': _frozen_importlib.BuiltinImporter,\n",
       "  '__spec__': ModuleSpec(name='builtins', loader=<class '_frozen_importlib.BuiltinImporter'>, origin='built-in'),\n",
       "  '__build_class__': <function __build_class__>,\n",
       "  '__import__': <function __import__(name, globals=None, locals=None, fromlist=(), level=0)>,\n",
       "  'abs': <function abs(x, /)>,\n",
       "  'all': <function all(iterable, /)>,\n",
       "  'any': <function any(iterable, /)>,\n",
       "  'ascii': <function ascii(obj, /)>,\n",
       "  'bin': <function bin(number, /)>,\n",
       "  'breakpoint': <function breakpoint(*args, **kws)>,\n",
       "  'callable': <function callable(obj, /)>,\n",
       "  'chr': <function chr(i, /)>,\n",
       "  'compile': <function compile(source, filename, mode, flags=0, dont_inherit=False, optimize=-1, *, _feature_version=-1)>,\n",
       "  'delattr': <function delattr(obj, name, /)>,\n",
       "  'dir': <function dir>,\n",
       "  'divmod': <function divmod(x, y, /)>,\n",
       "  'eval': <function eval(source, /, globals=None, locals=None)>,\n",
       "  'exec': <function exec(source, /, globals=None, locals=None, *, closure=None)>,\n",
       "  'format': <function format(value, format_spec='', /)>,\n",
       "  'getattr': <function getattr>,\n",
       "  'globals': <function globals()>,\n",
       "  'hasattr': <function hasattr(obj, name, /)>,\n",
       "  'hash': <function hash(obj, /)>,\n",
       "  'hex': <function hex(number, /)>,\n",
       "  'id': <function id(obj, /)>,\n",
       "  'input': <bound method Kernel.raw_input of <ipykernel.ipkernel.IPythonKernel object at 0x000001E9C48AD010>>,\n",
       "  'isinstance': <function isinstance(obj, class_or_tuple, /)>,\n",
       "  'issubclass': <function issubclass(cls, class_or_tuple, /)>,\n",
       "  'iter': <function iter>,\n",
       "  'aiter': <function aiter(async_iterable, /)>,\n",
       "  'len': <function len(obj, /)>,\n",
       "  'locals': <function locals()>,\n",
       "  'max': <function max>,\n",
       "  'min': <function min>,\n",
       "  'next': <function next>,\n",
       "  'anext': <function anext>,\n",
       "  'oct': <function oct(number, /)>,\n",
       "  'ord': <function ord(c, /)>,\n",
       "  'pow': <function pow(base, exp, mod=None)>,\n",
       "  'print': <function print(*args, sep=' ', end='\\n', file=None, flush=False)>,\n",
       "  'repr': <function repr(obj, /)>,\n",
       "  'round': <function round(number, ndigits=None)>,\n",
       "  'setattr': <function setattr(obj, name, value, /)>,\n",
       "  'sorted': <function sorted(iterable, /, *, key=None, reverse=False)>,\n",
       "  'sum': <function sum(iterable, /, start=0)>,\n",
       "  'vars': <function vars>,\n",
       "  'None': None,\n",
       "  'Ellipsis': Ellipsis,\n",
       "  'NotImplemented': NotImplemented,\n",
       "  'False': False,\n",
       "  'True': True,\n",
       "  'bool': bool,\n",
       "  'memoryview': memoryview,\n",
       "  'bytearray': bytearray,\n",
       "  'bytes': bytes,\n",
       "  'classmethod': classmethod,\n",
       "  'complex': complex,\n",
       "  'dict': dict,\n",
       "  'enumerate': enumerate,\n",
       "  'filter': filter,\n",
       "  'float': float,\n",
       "  'frozenset': frozenset,\n",
       "  'property': property,\n",
       "  'int': int,\n",
       "  'list': list,\n",
       "  'map': map,\n",
       "  'object': object,\n",
       "  'range': range,\n",
       "  'reversed': reversed,\n",
       "  'set': set,\n",
       "  'slice': slice,\n",
       "  'staticmethod': staticmethod,\n",
       "  'str': str,\n",
       "  'super': super,\n",
       "  'tuple': tuple,\n",
       "  'type': type,\n",
       "  'zip': zip,\n",
       "  '__debug__': True,\n",
       "  'BaseException': BaseException,\n",
       "  'BaseExceptionGroup': BaseExceptionGroup,\n",
       "  'Exception': Exception,\n",
       "  'GeneratorExit': GeneratorExit,\n",
       "  'KeyboardInterrupt': KeyboardInterrupt,\n",
       "  'SystemExit': SystemExit,\n",
       "  'ArithmeticError': ArithmeticError,\n",
       "  'AssertionError': AssertionError,\n",
       "  'AttributeError': AttributeError,\n",
       "  'BufferError': BufferError,\n",
       "  'EOFError': EOFError,\n",
       "  'ImportError': ImportError,\n",
       "  'LookupError': LookupError,\n",
       "  'MemoryError': MemoryError,\n",
       "  'NameError': NameError,\n",
       "  'OSError': OSError,\n",
       "  'ReferenceError': ReferenceError,\n",
       "  'RuntimeError': RuntimeError,\n",
       "  'StopAsyncIteration': StopAsyncIteration,\n",
       "  'StopIteration': StopIteration,\n",
       "  'SyntaxError': SyntaxError,\n",
       "  'SystemError': SystemError,\n",
       "  'TypeError': TypeError,\n",
       "  'ValueError': ValueError,\n",
       "  'Warning': Warning,\n",
       "  'FloatingPointError': FloatingPointError,\n",
       "  'OverflowError': OverflowError,\n",
       "  'ZeroDivisionError': ZeroDivisionError,\n",
       "  'BytesWarning': BytesWarning,\n",
       "  'DeprecationWarning': DeprecationWarning,\n",
       "  'EncodingWarning': EncodingWarning,\n",
       "  'FutureWarning': FutureWarning,\n",
       "  'ImportWarning': ImportWarning,\n",
       "  'PendingDeprecationWarning': PendingDeprecationWarning,\n",
       "  'ResourceWarning': ResourceWarning,\n",
       "  'RuntimeWarning': RuntimeWarning,\n",
       "  'SyntaxWarning': SyntaxWarning,\n",
       "  'UnicodeWarning': UnicodeWarning,\n",
       "  'UserWarning': UserWarning,\n",
       "  'BlockingIOError': BlockingIOError,\n",
       "  'ChildProcessError': ChildProcessError,\n",
       "  'ConnectionError': ConnectionError,\n",
       "  'FileExistsError': FileExistsError,\n",
       "  'FileNotFoundError': FileNotFoundError,\n",
       "  'InterruptedError': InterruptedError,\n",
       "  'IsADirectoryError': IsADirectoryError,\n",
       "  'NotADirectoryError': NotADirectoryError,\n",
       "  'PermissionError': PermissionError,\n",
       "  'ProcessLookupError': ProcessLookupError,\n",
       "  'TimeoutError': TimeoutError,\n",
       "  'IndentationError': IndentationError,\n",
       "  '_IncompleteInputError': _IncompleteInputError,\n",
       "  'IndexError': IndexError,\n",
       "  'KeyError': KeyError,\n",
       "  'ModuleNotFoundError': ModuleNotFoundError,\n",
       "  'NotImplementedError': NotImplementedError,\n",
       "  'PythonFinalizationError': PythonFinalizationError,\n",
       "  'RecursionError': RecursionError,\n",
       "  'UnboundLocalError': UnboundLocalError,\n",
       "  'UnicodeError': UnicodeError,\n",
       "  'BrokenPipeError': BrokenPipeError,\n",
       "  'ConnectionAbortedError': ConnectionAbortedError,\n",
       "  'ConnectionRefusedError': ConnectionRefusedError,\n",
       "  'ConnectionResetError': ConnectionResetError,\n",
       "  'TabError': TabError,\n",
       "  'UnicodeDecodeError': UnicodeDecodeError,\n",
       "  'UnicodeEncodeError': UnicodeEncodeError,\n",
       "  'UnicodeTranslateError': UnicodeTranslateError,\n",
       "  'ExceptionGroup': ExceptionGroup,\n",
       "  'EnvironmentError': OSError,\n",
       "  'IOError': OSError,\n",
       "  'WindowsError': OSError,\n",
       "  'open': <function _io.open(file, mode='r', buffering=-1, encoding=None, errors=None, newline=None, closefd=True, opener=None)>,\n",
       "  'copyright': Copyright (c) 2001-2024 Python Software Foundation.\n",
       "  All Rights Reserved.\n",
       "  \n",
       "  Copyright (c) 2000 BeOpen.com.\n",
       "  All Rights Reserved.\n",
       "  \n",
       "  Copyright (c) 1995-2001 Corporation for National Research Initiatives.\n",
       "  All Rights Reserved.\n",
       "  \n",
       "  Copyright (c) 1991-1995 Stichting Mathematisch Centrum, Amsterdam.\n",
       "  All Rights Reserved.,\n",
       "  'credits':     Thanks to CWI, CNRI, BeOpen, Zope Corporation, the Python Software\n",
       "      Foundation, and a cast of thousands for supporting Python\n",
       "      development.  See www.python.org for more information.,\n",
       "  'license': See https://www.python.org/psf/license/,\n",
       "  'help': Type help() for interactive help, or help(object) for help about object.,\n",
       "  'execfile': <function _pydev_bundle._pydev_execfile.execfile(file, glob=None, loc=None)>,\n",
       "  'runfile': <function _pydev_bundle.pydev_umd.runfile(filename, args=None, wdir=None, namespace=None)>,\n",
       "  '__IPYTHON__': True,\n",
       "  'display': <function IPython.core.display_functions.display(*objs, include=None, exclude=None, metadata=None, transient=None, display_id=None, raw=False, clear=False, **kwargs)>,\n",
       "  'get_ipython': <bound method InteractiveShell.get_ipython of <ipykernel.zmqshell.ZMQInteractiveShell object at 0x000001E9C5E56A50>>},\n",
       " 'factorial3': <function useful_functions.factorial3(x)>,\n",
       " 'fib_serias': <function useful_functions.fib_serias(n)>,\n",
       " 'pi': 3.14}"
      ]
     },
     "execution_count": 98,
     "metadata": {},
     "output_type": "execute_result"
    }
   ],
   "source": [
    "useful_functions.__dict__"
   ]
  },
  {
   "cell_type": "code",
   "execution_count": 99,
   "id": "ed903be8",
   "metadata": {},
   "outputs": [
    {
     "data": {
      "text/plain": [
       "'useful_functions'"
      ]
     },
     "execution_count": 99,
     "metadata": {},
     "output_type": "execute_result"
    }
   ],
   "source": [
    "useful_functions.__name__"
   ]
  },
  {
   "cell_type": "code",
   "execution_count": 100,
   "id": "0fc9da3b",
   "metadata": {},
   "outputs": [
    {
     "data": {
      "text/plain": [
       "''"
      ]
     },
     "execution_count": 100,
     "metadata": {},
     "output_type": "execute_result"
    }
   ],
   "source": [
    "useful_functions.__package__"
   ]
  },
  {
   "cell_type": "code",
   "execution_count": 2,
   "id": "e813c0fc",
   "metadata": {},
   "outputs": [
    {
     "data": {
      "text/plain": [
       "'This module contains useful mathematical functions and variables'"
      ]
     },
     "execution_count": 2,
     "metadata": {},
     "output_type": "execute_result"
    }
   ],
   "source": [
    "useful_functions.__doc__"
   ]
  },
  {
   "cell_type": "code",
   "execution_count": 3,
   "id": "2880ab24",
   "metadata": {},
   "outputs": [
    {
     "data": {
      "text/plain": [
       "['c:\\\\Users\\\\mehme\\\\anaconda3\\\\python313.zip',\n",
       " 'c:\\\\Users\\\\mehme\\\\anaconda3\\\\DLLs',\n",
       " 'c:\\\\Users\\\\mehme\\\\anaconda3\\\\Lib',\n",
       " 'c:\\\\Users\\\\mehme\\\\anaconda3',\n",
       " '',\n",
       " 'c:\\\\Users\\\\mehme\\\\anaconda3\\\\Lib\\\\site-packages',\n",
       " 'c:\\\\Users\\\\mehme\\\\anaconda3\\\\Lib\\\\site-packages\\\\win32',\n",
       " 'c:\\\\Users\\\\mehme\\\\anaconda3\\\\Lib\\\\site-packages\\\\win32\\\\lib',\n",
       " 'c:\\\\Users\\\\mehme\\\\anaconda3\\\\Lib\\\\site-packages\\\\Pythonwin']"
      ]
     },
     "execution_count": 3,
     "metadata": {},
     "output_type": "execute_result"
    }
   ],
   "source": [
    "import sys\n",
    "sys.path"
   ]
  },
  {
   "cell_type": "code",
   "execution_count": 4,
   "id": "2c092744",
   "metadata": {},
   "outputs": [],
   "source": [
    "from mathpackages import games"
   ]
  },
  {
   "cell_type": "code",
   "execution_count": null,
   "id": "de14e6db",
   "metadata": {},
   "outputs": [],
   "source": [
    "x = 1\n",
    "y = 2\n",
    "z = 3\n",
    "\n",
    "def multiply_and_add(x, y):\n",
    "    z = multiply(x, y)"
   ]
  },
  {
   "cell_type": "code",
   "execution_count": null,
   "id": "2e0fbbb4",
   "metadata": {},
   "outputs": [],
   "source": []
  },
  {
   "cell_type": "code",
   "execution_count": null,
   "id": "f4281ba5",
   "metadata": {},
   "outputs": [],
   "source": []
  },
  {
   "cell_type": "code",
   "execution_count": null,
   "id": "38bceb50",
   "metadata": {},
   "outputs": [],
   "source": []
  },
  {
   "cell_type": "code",
   "execution_count": null,
   "id": "3ba09642",
   "metadata": {},
   "outputs": [],
   "source": []
  },
  {
   "cell_type": "code",
   "execution_count": null,
   "id": "4e3654d8",
   "metadata": {},
   "outputs": [],
   "source": []
  },
  {
   "cell_type": "code",
   "execution_count": null,
   "id": "4ceb30c3",
   "metadata": {},
   "outputs": [],
   "source": []
  },
  {
   "cell_type": "code",
   "execution_count": null,
   "id": "173a9f2e",
   "metadata": {},
   "outputs": [],
   "source": []
  }
 ],
 "metadata": {
  "kernelspec": {
   "display_name": "base",
   "language": "python",
   "name": "python3"
  },
  "language_info": {
   "codemirror_mode": {
    "name": "ipython",
    "version": 3
   },
   "file_extension": ".py",
   "mimetype": "text/x-python",
   "name": "python",
   "nbconvert_exporter": "python",
   "pygments_lexer": "ipython3",
   "version": "3.13.5"
  }
 },
 "nbformat": 4,
 "nbformat_minor": 5
}
