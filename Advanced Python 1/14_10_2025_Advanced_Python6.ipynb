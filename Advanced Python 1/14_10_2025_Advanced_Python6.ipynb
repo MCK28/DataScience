{
 "cells": [
  {
   "cell_type": "code",
   "execution_count": 1,
   "id": "62f6c3a1",
   "metadata": {},
   "outputs": [],
   "source": [
    "import math"
   ]
  },
  {
   "cell_type": "code",
   "execution_count": 2,
   "id": "d8ae570d",
   "metadata": {},
   "outputs": [
    {
     "data": {
      "text/plain": [
       "3.141592653589793"
      ]
     },
     "execution_count": 2,
     "metadata": {},
     "output_type": "execute_result"
    }
   ],
   "source": [
    "math.pi"
   ]
  },
  {
   "cell_type": "code",
   "execution_count": 3,
   "id": "b5dbfc42",
   "metadata": {},
   "outputs": [
    {
     "data": {
      "text/plain": [
       "2.718281828459045"
      ]
     },
     "execution_count": 3,
     "metadata": {},
     "output_type": "execute_result"
    }
   ],
   "source": [
    "math.e"
   ]
  },
  {
   "cell_type": "code",
   "execution_count": 5,
   "id": "0538cd67",
   "metadata": {},
   "outputs": [],
   "source": [
    "import random"
   ]
  },
  {
   "cell_type": "code",
   "execution_count": 6,
   "id": "8ea77e1e",
   "metadata": {},
   "outputs": [
    {
     "data": {
      "text/plain": [
       "0.8135509465970958"
      ]
     },
     "execution_count": 6,
     "metadata": {},
     "output_type": "execute_result"
    }
   ],
   "source": [
    "random.random()"
   ]
  },
  {
   "cell_type": "code",
   "execution_count": 7,
   "id": "662d97e1",
   "metadata": {},
   "outputs": [],
   "source": [
    "import random as rd"
   ]
  },
  {
   "cell_type": "code",
   "execution_count": 9,
   "id": "76c9d290",
   "metadata": {},
   "outputs": [
    {
     "data": {
      "text/plain": [
       "0.3987430499165956"
      ]
     },
     "execution_count": 9,
     "metadata": {},
     "output_type": "execute_result"
    }
   ],
   "source": [
    "rd.random()"
   ]
  },
  {
   "cell_type": "code",
   "execution_count": null,
   "id": "43053cd2",
   "metadata": {},
   "outputs": [],
   "source": [
    "def numbers():\n",
    "    num_list = [1, 2, 3, 4, 5, 6, 7, 8, 9, 10] \n",
    "    odds = []   \n",
    "    evens = [] \n",
    "    for i in num_list:\n",
    "        if i % 2 == 0:\n",
    "            evens.append(i)\n",
    "        else:\n",
    "            odds.append(i)\n",
    "    print(f'The list of odd numbers: {odds}, and the list of even numbers: {evens}')\n",
    "    "
   ]
  },
  {
   "cell_type": "code",
   "execution_count": 17,
   "id": "203568fa",
   "metadata": {},
   "outputs": [
    {
     "name": "stdout",
     "output_type": "stream",
     "text": [
      "The list of odd numbers: [1, 3, 5, 7, 9], and the list of even numbers: [2, 4, 6, 8, 10]\n"
     ]
    }
   ],
   "source": [
    "numbers()"
   ]
  },
  {
   "cell_type": "code",
   "execution_count": 21,
   "id": "f5475b88",
   "metadata": {},
   "outputs": [],
   "source": [
    "def numbers(num_list):\n",
    "    odds = []   \n",
    "    evens = [] \n",
    "    for i in num_list:\n",
    "        if i % 2 == 0:\n",
    "            evens.append(i)\n",
    "        else:\n",
    "            odds.append(i)\n",
    "    print(f'The list of odd numbers: {odds}, and the list of even numbers: {evens}')"
   ]
  },
  {
   "cell_type": "code",
   "execution_count": 22,
   "id": "2f470f61",
   "metadata": {},
   "outputs": [
    {
     "name": "stdout",
     "output_type": "stream",
     "text": [
      "The list of odd numbers: [1, 35, 21, 45], and the list of even numbers: [24, 12, 40, 456]\n"
     ]
    }
   ],
   "source": [
    "numbers([1, 24, 12, 40, 35, 21, 456, 45])"
   ]
  },
  {
   "cell_type": "code",
   "execution_count": 29,
   "id": "4d87e20b",
   "metadata": {},
   "outputs": [],
   "source": [
    "def upper_sum(list):\n",
    "    upper = []\n",
    "    total = 0\n",
    "\n",
    "    for i in list:\n",
    "        if isinstance(i, str):\n",
    "            upper.append(i.upper())\n",
    "        elif isinstance(i, int):\n",
    "            total += i\n",
    "\n",
    "    print(f\"The upper strings: {upper} and the sum of integers: {total}\")\n",
    " \n"
   ]
  },
  {
   "cell_type": "code",
   "execution_count": 30,
   "id": "20aa2681",
   "metadata": {},
   "outputs": [
    {
     "name": "stdout",
     "output_type": "stream",
     "text": [
      "The upper strings: ['HELLO', 'FRIENDS'] and the sum of integers: 65\n"
     ]
    }
   ],
   "source": [
    "upper_sum(['hello', 45, 'friends', 20])"
   ]
  },
  {
   "cell_type": "code",
   "execution_count": 33,
   "id": "16496f15",
   "metadata": {},
   "outputs": [
    {
     "ename": "SyntaxError",
     "evalue": "invalid syntax (277798977.py, line 3)",
     "output_type": "error",
     "traceback": [
      "\u001b[1;36m  Cell \u001b[1;32mIn[33], line 3\u001b[1;36m\u001b[0m\n\u001b[1;33m    total = sum[i for i in list1 if isinstance(i, int)]\u001b[0m\n\u001b[1;37m                  ^\u001b[0m\n\u001b[1;31mSyntaxError\u001b[0m\u001b[1;31m:\u001b[0m invalid syntax\n"
     ]
    }
   ],
   "source": [
    "def upper_sum2(list1):\n",
    "    upper1 = [i.upper() for i in list1 if isinstance(i, str)]\n",
    "    total = sum[i for i in list1 if isinstance(i, int)]\n",
    "\n",
    "    print(f\"The upper strings: {upper1} and the sum of integers: {total}\")"
   ]
  },
  {
   "cell_type": "code",
   "execution_count": 32,
   "id": "7eae9b0a",
   "metadata": {},
   "outputs": [
    {
     "name": "stdout",
     "output_type": "stream",
     "text": [
      "The upper strings: ['HELLO', 'FRIENDS'] and the sum of integers: 75\n"
     ]
    }
   ],
   "source": [
    "upper_sum2(['hello', 53, 'friends', 22])"
   ]
  }
 ],
 "metadata": {
  "kernelspec": {
   "display_name": "base",
   "language": "python",
   "name": "python3"
  },
  "language_info": {
   "codemirror_mode": {
    "name": "ipython",
    "version": 3
   },
   "file_extension": ".py",
   "mimetype": "text/x-python",
   "name": "python",
   "nbconvert_exporter": "python",
   "pygments_lexer": "ipython3",
   "version": "3.13.5"
  }
 },
 "nbformat": 4,
 "nbformat_minor": 5
}
