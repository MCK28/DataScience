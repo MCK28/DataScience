{
 "cells": [
  {
   "cell_type": "code",
   "execution_count": 1,
   "id": "26ff8179",
   "metadata": {},
   "outputs": [],
   "source": [
    "import my_module"
   ]
  },
  {
   "cell_type": "code",
   "execution_count": 2,
   "id": "353eff33",
   "metadata": {},
   "outputs": [
    {
     "data": {
      "text/plain": [
       "8"
      ]
     },
     "execution_count": 2,
     "metadata": {},
     "output_type": "execute_result"
    }
   ],
   "source": [
    "my_module.power(2, 3)"
   ]
  },
  {
   "cell_type": "code",
   "execution_count": 5,
   "id": "0cd76707",
   "metadata": {},
   "outputs": [
    {
     "data": {
      "text/plain": [
       "2.7"
      ]
     },
     "execution_count": 2,
     "metadata": {},
     "output_type": "execute_result"
    }
   ],
   "source": [
    "my_module.e"
   ]
  },
  {
   "cell_type": "code",
   "execution_count": 3,
   "id": "04bb2f2b",
   "metadata": {},
   "outputs": [],
   "source": [
    "import random"
   ]
  },
  {
   "cell_type": "code",
   "execution_count": 34,
   "id": "04a2349e",
   "metadata": {},
   "outputs": [],
   "source": [
    "# rock-paper-scissors\n",
    "def rps():\n",
    "    pc_choices = ['r', 'p', 's']\n",
    "    while True:\n",
    "        pc = pc_choices[random.randint(0, 2)]\n",
    "        user = input('For rock:r, for paper:p, for scissors:s, and to exit the game, enter q').lower()\n",
    "        if user == 'q':\n",
    "            print('Exiting game...')\n",
    "            break\n",
    "        elif pc == user:\n",
    "            print(f'PC: {pc}, User: {user}. It is a tie')\n",
    "        elif (pc == 'r' and user == 's') or (pc == 's' and user == 'p') or (pc == 'p' and user == 'r'):\n",
    "            print(f'PC: {pc}, User: {user}. PC Won!')\n",
    "        elif (pc == 's' and user == 'r') or (pc == 'p' and user == 's') or (pc == 'r' and user == 'p'):\n",
    "            print(f'PC: {pc}, User: {user}. You Won!')\n",
    "        else:\n",
    "            print('Please enter valid inputs as r, p, s and for quitting q.')\n"
   ]
  },
  {
   "cell_type": "code",
   "execution_count": 35,
   "id": "d59ef9ff",
   "metadata": {},
   "outputs": [
    {
     "name": "stdout",
     "output_type": "stream",
     "text": [
      "PC: r, User: p. You Won!\n",
      "PC: p, User: r. PC Won!\n",
      "PC: r, User: s. PC Won!\n",
      "PC: p, User: s. You Won!\n",
      "PC: r, User: r. It is a tie\n",
      "PC: s, User: p. PC Won!\n",
      "PC: p, User: r. PC Won!\n",
      "PC: s, User: r. You Won!\n",
      "PC: r, User: s. PC Won!\n",
      "PC: p, User: p. It is a tie\n",
      "PC: p, User: p. It is a tie\n",
      "PC: r, User: p. You Won!\n",
      "Exiting game...\n"
     ]
    }
   ],
   "source": [
    "rps()"
   ]
  },
  {
   "cell_type": "code",
   "execution_count": 36,
   "id": "ba7b22eb",
   "metadata": {},
   "outputs": [],
   "source": [
    "import games"
   ]
  },
  {
   "cell_type": "code",
   "execution_count": 37,
   "id": "7f96b8d6",
   "metadata": {},
   "outputs": [
    {
     "name": "stdout",
     "output_type": "stream",
     "text": [
      "PC: s, User: p. PC Won!\n",
      "PC: p, User: p. It is a tie\n",
      "PC: s, User: r. You Won!\n",
      "PC: r, User: s. PC Won!\n",
      "PC: s, User: r. You Won!\n",
      "PC: s, User: s. It is a tie\n",
      "Please enter valid inputs as r, p, s and for quitting q.\n",
      "PC: s, User: r. You Won!\n",
      "Exiting game...\n"
     ]
    }
   ],
   "source": [
    "games.rps()"
   ]
  },
  {
   "cell_type": "code",
   "execution_count": null,
   "id": "f6d058f8",
   "metadata": {},
   "outputs": [],
   "source": []
  },
  {
   "cell_type": "code",
   "execution_count": null,
   "id": "00a6a2ae",
   "metadata": {},
   "outputs": [],
   "source": []
  },
  {
   "cell_type": "code",
   "execution_count": null,
   "id": "396fd5a4",
   "metadata": {},
   "outputs": [],
   "source": []
  },
  {
   "cell_type": "code",
   "execution_count": null,
   "id": "8c864cb1",
   "metadata": {},
   "outputs": [],
   "source": []
  },
  {
   "cell_type": "code",
   "execution_count": null,
   "id": "1353973e",
   "metadata": {},
   "outputs": [],
   "source": []
  },
  {
   "cell_type": "code",
   "execution_count": null,
   "id": "70f376cb",
   "metadata": {},
   "outputs": [],
   "source": []
  },
  {
   "cell_type": "code",
   "execution_count": null,
   "id": "5049311e",
   "metadata": {},
   "outputs": [],
   "source": []
  },
  {
   "cell_type": "code",
   "execution_count": null,
   "id": "5e8e9340",
   "metadata": {},
   "outputs": [],
   "source": []
  }
 ],
 "metadata": {
  "kernelspec": {
   "display_name": "base",
   "language": "python",
   "name": "python3"
  },
  "language_info": {
   "codemirror_mode": {
    "name": "ipython",
    "version": 3
   },
   "file_extension": ".py",
   "mimetype": "text/x-python",
   "name": "python",
   "nbconvert_exporter": "python",
   "pygments_lexer": "ipython3",
   "version": "3.13.5"
  }
 },
 "nbformat": 4,
 "nbformat_minor": 5
}
