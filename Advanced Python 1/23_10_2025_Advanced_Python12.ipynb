{
 "cells": [
  {
   "cell_type": "markdown",
   "id": "9c68a038",
   "metadata": {},
   "source": [
    "# REGEX\n",
    "\n",
    "- Regular Expression"
   ]
  },
  {
   "cell_type": "code",
   "execution_count": null,
   "id": "a65093cf",
   "metadata": {},
   "outputs": [],
   "source": [
    "# importing regex\n",
    "import re"
   ]
  },
  {
   "cell_type": "code",
   "execution_count": 2,
   "id": "6d04fdad",
   "metadata": {},
   "outputs": [
    {
     "data": {
      "text/plain": [
       "['A',\n",
       " 'ASCII',\n",
       " 'DEBUG',\n",
       " 'DOTALL',\n",
       " 'I',\n",
       " 'IGNORECASE',\n",
       " 'L',\n",
       " 'LOCALE',\n",
       " 'M',\n",
       " 'MULTILINE',\n",
       " 'Match',\n",
       " 'NOFLAG',\n",
       " 'Pattern',\n",
       " 'PatternError',\n",
       " 'RegexFlag',\n",
       " 'S',\n",
       " 'Scanner',\n",
       " 'U',\n",
       " 'UNICODE',\n",
       " 'VERBOSE',\n",
       " 'X',\n",
       " '_MAXCACHE',\n",
       " '_MAXCACHE2',\n",
       " '_ZeroSentinel',\n",
       " '__all__',\n",
       " '__builtins__',\n",
       " '__cached__',\n",
       " '__doc__',\n",
       " '__file__',\n",
       " '__loader__',\n",
       " '__name__',\n",
       " '__package__',\n",
       " '__path__',\n",
       " '__spec__',\n",
       " '__version__',\n",
       " '_cache',\n",
       " '_cache2',\n",
       " '_casefix',\n",
       " '_compile',\n",
       " '_compile_template',\n",
       " '_compiler',\n",
       " '_constants',\n",
       " '_parser',\n",
       " '_pickle',\n",
       " '_special_chars_map',\n",
       " '_sre',\n",
       " '_zero_sentinel',\n",
       " 'compile',\n",
       " 'copyreg',\n",
       " 'enum',\n",
       " 'error',\n",
       " 'escape',\n",
       " 'findall',\n",
       " 'finditer',\n",
       " 'fullmatch',\n",
       " 'functools',\n",
       " 'match',\n",
       " 'purge',\n",
       " 'search',\n",
       " 'split',\n",
       " 'sub',\n",
       " 'subn']"
      ]
     },
     "execution_count": 2,
     "metadata": {},
     "output_type": "execute_result"
    }
   ],
   "source": [
    "dir(re)"
   ]
  },
  {
   "cell_type": "code",
   "execution_count": 4,
   "metadata": {},
   "outputs": [
    {
     "data": {
      "text/plain": [
       "'c:\\\\Users\\\\mehme\\\\anaconda3\\\\Lib\\\\re\\\\__init__.py'"
      ]
     },
     "execution_count": 4,
     "metadata": {},
     "output_type": "execute_result"
    }
   ],
   "source": [
    "re.__file__"
   ]
  },
  {
   "cell_type": "code",
   "execution_count": 6,
   "id": "3aa87d7f",
   "metadata": {},
   "outputs": [
    {
     "data": {
      "text/plain": [
       "['ck']"
      ]
     },
     "execution_count": 6,
     "metadata": {},
     "output_type": "execute_result"
    }
   ],
   "source": [
    "import re\n",
    "string = 'The quick brown fox jumps over the lazy dog.'\n",
    "re.findall('ck', string)"
   ]
  },
  {
   "cell_type": "code",
   "execution_count": 8,
   "id": "d017eb91",
   "metadata": {},
   "outputs": [
    {
     "data": {
      "text/plain": [
       "['ey', 'ey']"
      ]
     },
     "execution_count": 8,
     "metadata": {},
     "output_type": "execute_result"
    }
   ],
   "source": [
    "import re\n",
    "string = 'Tatli dillim, ey guler gozlum, ceylan gozlum.'\n",
    "re.findall('ey', string)"
   ]
  },
  {
   "cell_type": "code",
   "execution_count": 9,
   "id": "04687682",
   "metadata": {},
   "outputs": [
    {
     "data": {
      "text/plain": [
       "['The qui', ' brown fox jumps over the lazy dog.']"
      ]
     },
     "execution_count": 9,
     "metadata": {},
     "output_type": "execute_result"
    }
   ],
   "source": [
    "import re\n",
    "string = 'The quick brown fox jumps over the lazy dog.'\n",
    "re.split('ck', string)"
   ]
  },
  {
   "cell_type": "code",
   "execution_count": 10,
   "id": "e3f6c435",
   "metadata": {},
   "outputs": [
    {
     "data": {
      "text/plain": [
       "['Tatli dillim, ', ' guler gozlum, c', 'lan gozlum.']"
      ]
     },
     "execution_count": 10,
     "metadata": {},
     "output_type": "execute_result"
    }
   ],
   "source": [
    "import re\n",
    "string = 'Tatli dillim, ey guler gozlum, ceylan gozlum.'\n",
    "re.split('ey', string)"
   ]
  },
  {
   "cell_type": "code",
   "execution_count": 12,
   "id": "47b25be5",
   "metadata": {},
   "outputs": [
    {
     "data": {
      "text/plain": [
       "['The', 'quick', 'brown', 'fox', 'jumps', 'over', 'the', 'lazy', 'dog.']"
      ]
     },
     "execution_count": 12,
     "metadata": {},
     "output_type": "execute_result"
    }
   ],
   "source": [
    "import re\n",
    "string = 'The quick brown fox jumps over the lazy dog.'\n",
    "re.split(' ', string)"
   ]
  },
  {
   "cell_type": "code",
   "execution_count": 13,
   "id": "61398b50",
   "metadata": {},
   "outputs": [
    {
     "data": {
      "text/plain": [
       "'The-quick-brown-fox-jumps-over-the-lazy-dog.'"
      ]
     },
     "execution_count": 13,
     "metadata": {},
     "output_type": "execute_result"
    }
   ],
   "source": [
    "import re\n",
    "string = 'The quick brown fox jumps over the lazy dog.'\n",
    "re.sub(' ', \"-\", string)"
   ]
  },
  {
   "cell_type": "code",
   "execution_count": 16,
   "metadata": {},
   "outputs": [
    {
     "data": {
      "text/plain": [
       "'The-quick-brown-fox-jumps-over-the-lazy-dog.'"
      ]
     },
     "execution_count": 16,
     "metadata": {},
     "output_type": "execute_result"
    }
   ],
   "source": [
    "import re\n",
    "string = 'The quick brown fox jumps over the lazy dog.'\n",
    "re.sub('\\s', \"-\", string)\n",
    "# \\s means space"
   ]
  },
  {
   "cell_type": "code",
   "execution_count": null,
   "id": "bad81c1f",
   "metadata": {},
   "outputs": [
    {
     "name": "stdout",
     "output_type": "stream",
     "text": [
      "<re.Match object; span=(12, 14), match='ow'>\n",
      "(12, 14)\n"
     ]
    }
   ],
   "source": [
    "import re\n",
    "string = 'The quick brown fox jumps over the lazy dog.'\n",
    "print(re.search('ow', string))\n",
    "# it will return the index of the string we are looking for \n",
    "\n",
    "print(re.search('ow', string).span())"
   ]
  },
  {
   "cell_type": "code",
   "execution_count": 22,
   "id": "cfb645ca",
   "metadata": {},
   "outputs": [
    {
     "name": "stdout",
     "output_type": "stream",
     "text": [
      "<re.Match object; span=(12, 14), match='ow'>\n",
      "(12, 14)\n",
      "12\n",
      "14\n",
      "ow\n"
     ]
    }
   ],
   "source": [
    "import re\n",
    "string = 'The quick brown fox jumps over the lazy dog.'\n",
    "result = re.search('ow', string)\n",
    "print(result)\n",
    "\n",
    "print(result.span())\n",
    "# finds the exact address of the first occurence of the pattern we are looking for\n",
    "\n",
    "print(result.start())\n",
    "# the starting index\n",
    "\n",
    "print(result.end())\n",
    "# the ending index\n",
    "\n",
    "print(result.group())\n",
    "# the pattern we are looking for "
   ]
  },
  {
   "cell_type": "code",
   "execution_count": null,
   "id": "49ddf6aa",
   "metadata": {},
   "outputs": [
    {
     "name": "stdout",
     "output_type": "stream",
     "text": [
      "['ex', 'ex', 'ex', 'ex']\n",
      "['e', 'e', 'x', 'e', 'e', 'e', 'x', 'e', 'e', 'x', 'e', 'e', 'e', 'e', 'e', 'e', 'e', 'e', 'e', 'e', 'e', 'x', 'e']\n",
      "['e', 'a', 'e', 'e', 'e', 'e', 'e', 'e', 'd', 'e', 'a', 'e', 'f', 'a', 'e', 'a', 'c', 'a', 'c', 'a', 'd', 'a', 'a', 'e', 'b', 'a', 'e', 'd', 'e', 'f', 'c', 'a', 'e', 'b', 'e', 'd', 'e', 'e', 'a', 'e', 'e']\n",
      "['R', 'P', 'P']\n",
      "['R', 'e', 'g', 'u', 'l', 'a', 'r', 'e', 'x', 'p', 'r', 'e', 's', 's', 'i', 'o', 'n', 's', 'r', 'e', 'g', 'e', 'x', 'o', 'r', 'r', 'e', 'g', 'e', 'x', 'p', 'i', 'n', 'P', 'y', 't', 'h', 'o', 'n', 'p', 'r', 'o', 'v', 'i', 'd', 'e', 'a', 'p', 'o', 'w', 'e', 'r', 'f', 'u', 'l', 'w', 'a', 'y', 't', 'o', 's', 'e', 'a', 'r', 'c', 'h', 'm', 'a', 't', 'c', 'h', 'a', 'n', 'd', 'm', 'a', 'n', 'i', 'p', 'u', 'l', 'a', 't', 'e', 's', 't', 'r', 'i', 'n', 'g', 's', 'b', 'a', 's', 'e', 'd', 'o', 'n', 's', 'p', 'e', 's', 'i', 'f', 'i', 'c', 'p', 'a', 't', 't', 'e', 'r', 'n', 's', 'P', 'y', 't', 'h', 'o', 'n', 's', 'b', 'u', 'i', 'l', 't', 'i', 'n', 'r', 'e', 'm', 'o', 'd', 'u', 'l', 'e', 's', 'u', 'p', 'p', 'o', 'r', 't', 's', 'r', 'e', 'g', 'u', 'l', 'a', 'r', 'e', 'x', 'p', 'r', 'e', 's', 's', 'i', 'o', 'n', 's']\n",
      "['R', 'e', 'g', 'u', 'l', 'a', 'r', ' ', 'e', 'x', 'p', 'r', 'e', 's', 's', 'i', 'o', 'n', 's', ' ', 'r', 'e', 'g', 'e', 'x', ' ', 'o', 'r', ' ', 'r', 'e', 'g', 'e', 'x', 'p', ' ', 'i', 'n', ' ', 'P', 'y', 't', 'h', 'o', 'n', ' ', 'p', 'r', 'o', 'v', 'i', 'd', 'e', ' ', 'a', ' ', 'p', 'o', 'w', 'e', 'r', 'f', 'u', 'l', ' ', 'w', 'a', 'y', ' ', 't', 'o', ' ', 's', 'e', 'a', 'r', 'c', 'h', ',', ' ', 'm', 'a', 't', 'c', 'h', ' ', 'a', 'n', 'd', ' ', 'm', 'a', 'n', 'i', 'p', 'u', 'l', 'a', 't', 'e', ' ', 's', 't', 'r', 'i', 'n', 'g', 's', ' ', 'b', 'a', 's', 'e', 'd', ' ', 'o', 'n', ' ', 's', 'p', 'e', 's', 'i', 'f', 'i', 'c', ' ', 'p', 'a', 't', 't', 'e', 'r', 'n', 's', ' ', 'P', 'y', 't', 'h', 'o', 'n', 's', ' ', 'b', 'u', 'i', 'l', 't', ' ', 'i', 'n', ' ', 'r', 'e', ' ', 'm', 'o', 'd', 'u', 'l', 'e', ' ', 's', 'u', 'p', 'p', 'o', 'r', 't', 's', ' ', 'r', 'e', 'g', 'u', 'l', 'a', 'r', ' ', 'e', 'x', 'p', 'r', 'e', 's', 's', 'i', 'o', 'n', 's']\n"
     ]
    }
   ],
   "source": [
    "string2 = '''Regular expressions (regex or regexp) in Python provide a powerful way to search, \n",
    "match and manipulate strings based on spesific patterns. \n",
    "Python's built in re module supports regular expressions.'''\n",
    "\n",
    "print(re.findall('ex', string2))\n",
    "# It will find the exact pattern in the string, and return each one in a list.\n",
    "\n",
    "print(re.findall('[ex]', string2))\n",
    "# It will return each oxxurance of each of the characters in this pattern.\n",
    "\n",
    "print(re.findall('[a-f]', string2))\n",
    "# It will return each occurence of characters between a and f.\n",
    "\n",
    "print(re.findall('[A-Z]', string2))\n",
    "# It will return each occurence of characters between A and Z.\n",
    "\n",
    "print(re.findall('[A-Za-z]', string2))\n",
    "# It will return each occurence of characters between A-Z and a-z.\n",
    "\n",
    "print(re.findall('[A-Z, a-z]', string2))\n",
    "# It will return each occurence of characters between A-Z and a-z.\n",
    "# also returns commas"
   ]
  },
  {
   "cell_type": "code",
   "execution_count": null,
   "id": "1346da7a",
   "metadata": {},
   "outputs": [
    {
     "name": "stdout",
     "output_type": "stream",
     "text": [
      "['Reg', 'ula', 'r e', 'xpr', 'ess', 'ion', 's (', 'reg', 'ex ', 'or ', 'reg', 'exp', ') i', 'n P', 'yth', 'on ', 'pro', 'vid', 'e a', ' po', 'wer', 'ful', ' wa', 'y t', 'o s', 'ear', 'ch,', 'mat', 'ch ', 'and', ' ma', 'nip', 'ula', 'te ', 'str', 'ing', 's b', 'ase', 'd o', 'n s', 'pes', 'ifi', 'c p', 'att', 'ern', 's. ', 'Pyt', 'hon', \"'s \", 'bui', 'lt ', 'in ', 're ', 'mod', 'ule', ' su', 'ppo', 'rts', ' re', 'gul', 'ar ', 'exp', 'res', 'sio', 'ns.']\n",
      "['Regu', 'lar ', 'expr', 'essi', 'ons ', '(reg', 'ex o', 'r re', 'gexp', ') in', ' Pyt', 'hon ', 'prov', 'ide ', 'a po', 'werf', 'ul w', 'ay t', 'o se', 'arch', 'matc', 'h an', 'd ma', 'nipu', 'late', ' str', 'ings', ' bas', 'ed o', 'n sp', 'esif', 'ic p', 'atte', 'rns.', 'Pyth', \"on's\", ' bui', 'lt i', 'n re', ' mod', 'ule ', 'supp', 'orts', ' reg', 'ular', ' exp', 'ress', 'ions']\n"
     ]
    }
   ],
   "source": [
    "string2 = '''Regular expressions (regex or regexp) in Python provide a powerful way to search, \n",
    "match and manipulate strings based on spesific patterns. \n",
    "Python's built in re module supports regular expressions.'''\n",
    "\n",
    "print(re.findall('...', string2))\n",
    "# It will divide this string into pieces with 3 charachters.\n",
    "\n",
    "print(re.findall('....', string2))\n",
    "# It will divide this string into pieces with 4 charachters.\n",
    "\n"
   ]
  },
  {
   "cell_type": "code",
   "execution_count": 31,
   "id": "f1a637d3",
   "metadata": {},
   "outputs": [
    {
     "name": "stdout",
     "output_type": "stream",
     "text": [
      "['.', '.']\n"
     ]
    }
   ],
   "source": [
    "string2 = '''Regular expressions (regex or regexp) in Python provide a powerful way to search, \n",
    "match and manipulate strings based on spesific patterns. \n",
    "Python's built in re module supports regular expressions.'''\n",
    "\n",
    "print(re.findall('[.]', string2))\n",
    "# It will return any fullstop it finds."
   ]
  },
  {
   "cell_type": "code",
   "execution_count": 39,
   "id": "5a311a97",
   "metadata": {},
   "outputs": [
    {
     "name": "stdout",
     "output_type": "stream",
     "text": [
      "['Arden', 'Aylin', 'Aydan']\n"
     ]
    }
   ],
   "source": [
    "string3 = '''Arden Aylin Acil Alperen Aydan Arslan Ali'''\n",
    "print(re.findall('A...n', string3))\n",
    "# Looking for strings starting with A and ending with n, with three characters between them"
   ]
  },
  {
   "cell_type": "code",
   "execution_count": null,
   "id": "60251aea",
   "metadata": {},
   "outputs": [
    {
     "name": "stdout",
     "output_type": "stream",
     "text": [
      "['ee', 'ee']\n",
      "['45', '23', '34', '12', '34']\n",
      "['4', '5', '2', '3', '3', '4', '1', '2', '3', '4', '5']\n",
      "['45', '23', '34', '12345']\n"
     ]
    }
   ],
   "source": [
    "string3 = '''45 Ardeen Ayliin Acil 23 Alpereen Aydan 34 Arslan Ali 12345'''\n",
    "print(re.findall('e{2}', string3)) # e repeating twice\n",
    "print(re.findall('[0-9]{2}', string3)) # numeric characters given in pairs\n",
    "print(re.findall('\\d', string3)) # d for digits, return digits\n",
    "print(re.findall('\\d+', string3)) # return digits as it is"
   ]
  },
  {
   "cell_type": "code",
   "execution_count": 49,
   "id": "5ffbeb9f",
   "metadata": {},
   "outputs": [
    {
     "name": "stdout",
     "output_type": "stream",
     "text": [
      "['24/10/2025', '27/10/2025']\n"
     ]
    }
   ],
   "source": [
    "string4 = \"'The meeting dates are 24/10/2025 and 27/10/2025. Let's all be here at 1PM\"\n",
    "print(re.findall('\\d{2}/\\d{2}/\\d{4}', string4))"
   ]
  },
  {
   "cell_type": "code",
   "execution_count": 50,
   "id": "be92b4b6",
   "metadata": {},
   "outputs": [
    {
     "name": "stdout",
     "output_type": "stream",
     "text": [
      "['123-45-6789']\n"
     ]
    }
   ],
   "source": [
    "string5 = 'Hi, my social security number is: 123-45-6789'\n",
    "print(re.findall('\\d{3}-\\d{2}-\\d{4}', string5))"
   ]
  },
  {
   "cell_type": "markdown",
   "id": "c6f07a1c",
   "metadata": {},
   "source": [
    "# File Management\n",
    "\n",
    "- w --> write mode, used to start writing on a blank file\n",
    "- r --> read mode\n",
    "- a --> append mode, to add text at the end of a given file\n",
    "\n",
    "\n",
    "Functions:\n",
    "- write function - to write a string on a file \n",
    "- read function\n",
    "- open functioon\n",
    "- close function"
   ]
  },
  {
   "cell_type": "code",
   "execution_count": 52,
   "id": "de856725",
   "metadata": {},
   "outputs": [
    {
     "ename": "FileNotFoundError",
     "evalue": "[Errno 2] No such file or directory: '10_23_2025_filemanagement.txt'",
     "output_type": "error",
     "traceback": [
      "\u001b[1;31m---------------------------------------------------------------------------\u001b[0m",
      "\u001b[1;31mFileNotFoundError\u001b[0m                         Traceback (most recent call last)",
      "Cell \u001b[1;32mIn[52], line 1\u001b[0m\n\u001b[1;32m----> 1\u001b[0m result \u001b[38;5;241m=\u001b[39m \u001b[38;5;28mopen\u001b[39m(\u001b[38;5;124m'\u001b[39m\u001b[38;5;124m10_23_2025_filemanagement.txt\u001b[39m\u001b[38;5;124m'\u001b[39m)\n\u001b[0;32m      2\u001b[0m \u001b[38;5;66;03m# If there is a file with the same name, open function will allow us to open it\u001b[39;00m\n\u001b[0;32m      3\u001b[0m \u001b[38;5;66;03m# and bring it in jupyter notebook\u001b[39;00m\n\u001b[0;32m      4\u001b[0m \u001b[38;5;28mprint\u001b[39m(result)\n",
      "File \u001b[1;32mc:\\Users\\mehme\\anaconda3\\Lib\\site-packages\\IPython\\core\\interactiveshell.py:324\u001b[0m, in \u001b[0;36m_modified_open\u001b[1;34m(file, *args, **kwargs)\u001b[0m\n\u001b[0;32m    317\u001b[0m \u001b[38;5;28;01mif\u001b[39;00m file \u001b[38;5;129;01min\u001b[39;00m {\u001b[38;5;241m0\u001b[39m, \u001b[38;5;241m1\u001b[39m, \u001b[38;5;241m2\u001b[39m}:\n\u001b[0;32m    318\u001b[0m     \u001b[38;5;28;01mraise\u001b[39;00m \u001b[38;5;167;01mValueError\u001b[39;00m(\n\u001b[0;32m    319\u001b[0m         \u001b[38;5;124mf\u001b[39m\u001b[38;5;124m\"\u001b[39m\u001b[38;5;124mIPython won\u001b[39m\u001b[38;5;124m'\u001b[39m\u001b[38;5;124mt let you open fd=\u001b[39m\u001b[38;5;132;01m{\u001b[39;00mfile\u001b[38;5;132;01m}\u001b[39;00m\u001b[38;5;124m by default \u001b[39m\u001b[38;5;124m\"\u001b[39m\n\u001b[0;32m    320\u001b[0m         \u001b[38;5;124m\"\u001b[39m\u001b[38;5;124mas it is likely to crash IPython. If you know what you are doing, \u001b[39m\u001b[38;5;124m\"\u001b[39m\n\u001b[0;32m    321\u001b[0m         \u001b[38;5;124m\"\u001b[39m\u001b[38;5;124myou can use builtins\u001b[39m\u001b[38;5;124m'\u001b[39m\u001b[38;5;124m open.\u001b[39m\u001b[38;5;124m\"\u001b[39m\n\u001b[0;32m    322\u001b[0m     )\n\u001b[1;32m--> 324\u001b[0m \u001b[38;5;28;01mreturn\u001b[39;00m io_open(file, \u001b[38;5;241m*\u001b[39margs, \u001b[38;5;241m*\u001b[39m\u001b[38;5;241m*\u001b[39mkwargs)\n",
      "\u001b[1;31mFileNotFoundError\u001b[0m: [Errno 2] No such file or directory: '10_23_2025_filemanagement.txt'"
     ]
    }
   ],
   "source": [
    "result = open('10_23_2025_filemanagement.txt')\n",
    "# If there is a file with the same name, open function will allow us to open it\n",
    "# and bring it in jupyter notebook\n",
    "print(result)\n",
    "result.close()\n",
    "# If we are opening a file using open function, we must close it otherwise it will consume our memory."
   ]
  },
  {
   "cell_type": "code",
   "execution_count": 62,
   "id": "83a1e5f1",
   "metadata": {},
   "outputs": [
    {
     "name": "stdout",
     "output_type": "stream",
     "text": [
      "<_io.TextIOWrapper name='23_10_2025_filemanagement.txt' mode='w' encoding='utf-8'>\n"
     ]
    }
   ],
   "source": [
    "result = open('23_10_2025_filemanagement.txt', 'w')\n",
    "print(result)\n",
    "result.close()\n",
    "# w or write mode, will check if there is a file with the same name\n",
    "# if there is one, it will clear the data inside it,\n",
    "# otherwise it will create such a file "
   ]
  },
  {
   "cell_type": "code",
   "execution_count": 63,
   "metadata": {},
   "outputs": [],
   "source": [
    "result = open('23_10_2025_filemanagement.txt', 'w')\n",
    "result.write('This is the final Adv Python 1 session.')\n",
    "result.close()"
   ]
  },
  {
   "cell_type": "code",
   "execution_count": 64,
   "id": "e17d3d55",
   "metadata": {},
   "outputs": [],
   "source": [
    "result = open('23_10_2025_filemanagement.txt', 'w')\n",
    "result.write('This is the final Adv Python 1 session. Congratulations in successfully completing this amazing module.')\n",
    "result.close()"
   ]
  },
  {
   "cell_type": "code",
   "execution_count": 70,
   "id": "2fdd28e4",
   "metadata": {},
   "outputs": [],
   "source": [
    "result = open('23_10_2025_filemanagement.txt', 'w')\n",
    "result.write('This is a sample text.')\n",
    "result.close()"
   ]
  },
  {
   "cell_type": "code",
   "execution_count": 73,
   "id": "36b28810",
   "metadata": {},
   "outputs": [],
   "source": [
    "result = open('23_10_2025_filemanagement.txt', 'a')\n",
    "result.write('\\nThis is the final Adv Python 1 session. Congratulations in successfully completing this amazing module.')\n",
    "result.close()"
   ]
  },
  {
   "cell_type": "code",
   "execution_count": 75,
   "id": "117c62c7",
   "metadata": {},
   "outputs": [
    {
     "name": "stdout",
     "output_type": "stream",
     "text": [
      "T\n",
      "h\n",
      "i\n",
      "s\n",
      " \n",
      "i\n",
      "s\n",
      " \n",
      "a\n",
      " \n",
      "s\n",
      "a\n",
      "m\n",
      "p\n",
      "l\n",
      "e\n",
      " \n",
      "t\n",
      "e\n",
      "x\n",
      "t\n",
      ".\n",
      "\n",
      "\n",
      "T\n",
      "h\n",
      "i\n",
      "s\n",
      " \n",
      "i\n",
      "s\n",
      " \n",
      "t\n",
      "h\n",
      "e\n",
      " \n",
      "f\n",
      "i\n",
      "n\n",
      "a\n",
      "l\n",
      " \n",
      "A\n",
      "d\n",
      "v\n",
      " \n",
      "P\n",
      "y\n",
      "t\n",
      "h\n",
      "o\n",
      "n\n",
      " \n",
      "1\n",
      " \n",
      "s\n",
      "e\n",
      "s\n",
      "s\n",
      "i\n",
      "o\n",
      "n\n",
      ".\n",
      " \n",
      "C\n",
      "o\n",
      "n\n",
      "g\n",
      "r\n",
      "a\n",
      "t\n",
      "u\n",
      "l\n",
      "a\n",
      "t\n",
      "i\n",
      "o\n",
      "n\n",
      "s\n",
      " \n",
      "i\n",
      "n\n",
      " \n",
      "s\n",
      "u\n",
      "c\n",
      "c\n",
      "e\n",
      "s\n",
      "s\n",
      "f\n",
      "u\n",
      "l\n",
      "l\n",
      "y\n",
      " \n",
      "c\n",
      "o\n",
      "m\n",
      "p\n",
      "l\n",
      "e\n",
      "t\n",
      "i\n",
      "n\n",
      "g\n",
      " \n",
      "t\n",
      "h\n",
      "i\n",
      "s\n",
      " \n",
      "a\n",
      "m\n",
      "a\n",
      "z\n",
      "i\n",
      "n\n",
      "g\n",
      " \n",
      "m\n",
      "o\n",
      "d\n",
      "u\n",
      "l\n",
      "e\n",
      ".\n",
      "\n",
      "\n",
      "T\n",
      "h\n",
      "i\n",
      "s\n",
      " \n",
      "i\n",
      "s\n",
      " \n",
      "t\n",
      "h\n",
      "e\n",
      " \n",
      "f\n",
      "i\n",
      "n\n",
      "a\n",
      "l\n",
      " \n",
      "A\n",
      "d\n",
      "v\n",
      " \n",
      "P\n",
      "y\n",
      "t\n",
      "h\n",
      "o\n",
      "n\n",
      " \n",
      "1\n",
      " \n",
      "s\n",
      "e\n",
      "s\n",
      "s\n",
      "i\n",
      "o\n",
      "n\n",
      ".\n",
      " \n",
      "C\n",
      "o\n",
      "n\n",
      "g\n",
      "r\n",
      "a\n",
      "t\n",
      "u\n",
      "l\n",
      "a\n",
      "t\n",
      "i\n",
      "o\n",
      "n\n",
      "s\n",
      " \n",
      "i\n",
      "n\n",
      " \n",
      "s\n",
      "u\n",
      "c\n",
      "c\n",
      "e\n",
      "s\n",
      "s\n",
      "f\n",
      "u\n",
      "l\n",
      "l\n",
      "y\n",
      " \n",
      "c\n",
      "o\n",
      "m\n",
      "p\n",
      "l\n",
      "e\n",
      "t\n",
      "i\n",
      "n\n",
      "g\n",
      " \n",
      "t\n",
      "h\n",
      "i\n",
      "s\n",
      " \n",
      "a\n",
      "m\n",
      "a\n",
      "z\n",
      "i\n",
      "n\n",
      "g\n",
      " \n",
      "m\n",
      "o\n",
      "d\n",
      "u\n",
      "l\n",
      "e\n",
      ".\n",
      "\n",
      "\n",
      "T\n",
      "h\n",
      "i\n",
      "s\n",
      " \n",
      "i\n",
      "s\n",
      " \n",
      "t\n",
      "h\n",
      "e\n",
      " \n",
      "f\n",
      "i\n",
      "n\n",
      "a\n",
      "l\n",
      " \n",
      "A\n",
      "d\n",
      "v\n",
      " \n",
      "P\n",
      "y\n",
      "t\n",
      "h\n",
      "o\n",
      "n\n",
      " \n",
      "1\n",
      " \n",
      "s\n",
      "e\n",
      "s\n",
      "s\n",
      "i\n",
      "o\n",
      "n\n",
      ".\n",
      " \n",
      "C\n",
      "o\n",
      "n\n",
      "g\n",
      "r\n",
      "a\n",
      "t\n",
      "u\n",
      "l\n",
      "a\n",
      "t\n",
      "i\n",
      "o\n",
      "n\n",
      "s\n",
      " \n",
      "i\n",
      "n\n",
      " \n",
      "s\n",
      "u\n",
      "c\n",
      "c\n",
      "e\n",
      "s\n",
      "s\n",
      "f\n",
      "u\n",
      "l\n",
      "l\n",
      "y\n",
      " \n",
      "c\n",
      "o\n",
      "m\n",
      "p\n",
      "l\n",
      "e\n",
      "t\n",
      "i\n",
      "n\n",
      "g\n",
      " \n",
      "t\n",
      "h\n",
      "i\n",
      "s\n",
      " \n",
      "a\n",
      "m\n",
      "a\n",
      "z\n",
      "i\n",
      "n\n",
      "g\n",
      " \n",
      "m\n",
      "o\n",
      "d\n",
      "u\n",
      "l\n",
      "e\n",
      ".\n"
     ]
    }
   ],
   "source": [
    "file = open('23_10_2025_filemanagement.txt', 'r') # r mode for reading only purposes\n",
    "text = file.read()\n",
    "\n",
    "for i in text:\n",
    "    print(i)\n",
    "file.close()"
   ]
  },
  {
   "cell_type": "code",
   "execution_count": 78,
   "id": "19538bb5",
   "metadata": {},
   "outputs": [
    {
     "name": "stdout",
     "output_type": "stream",
     "text": [
      "This is a sample text.\n",
      "\n",
      "This is the final Adv Python 1 session. Congratulations in successfully completing this amazing module.\n",
      "\n",
      "This is the final Adv Python 1 session. Congratulations in successfully completing this amazing module.\n",
      "\n",
      "This is the final Adv Python 1 session. Congratulations in successfully completing this amazing module.\n"
     ]
    }
   ],
   "source": [
    "file = open('23_10_2025_filemanagement.txt', 'r') # r mode for reading only purposes\n",
    "text = file.readlines()\n",
    "\n",
    "for i in text:\n",
    "    print(i)\n",
    "file.close()"
   ]
  },
  {
   "cell_type": "code",
   "execution_count": null,
   "id": "ef6a9259",
   "metadata": {},
   "outputs": [
    {
     "data": {
      "text/plain": [
       "15"
      ]
     },
     "execution_count": 81,
     "metadata": {},
     "output_type": "execute_result"
    }
   ],
   "source": [
    "result = open('23_10_2025_filemanagement.txt', 'a')"
   ]
  },
  {
   "cell_type": "code",
   "execution_count": 84,
   "id": "75ee470c",
   "metadata": {},
   "outputs": [
    {
     "name": "stdout",
     "output_type": "stream",
     "text": [
      "This is a sample text.\n",
      "This is the final Adv Python 1 session. Congratulations in successfully completing this amazing module.\n",
      "This is the final Adv Python 1 session. Congratulations in successfully completing this amazing module.\n",
      "This is the final Adv Python 1 session. Congratulations in successfully completing this amazing module.\n"
     ]
    }
   ],
   "source": [
    "with open('23_10_2025_filemanagement.txt', 'r') as file:\n",
    "    print(file.read())"
   ]
  },
  {
   "cell_type": "code",
   "execution_count": null,
   "id": "68498eb6",
   "metadata": {},
   "outputs": [],
   "source": []
  },
  {
   "cell_type": "code",
   "execution_count": null,
   "id": "f61dc019",
   "metadata": {},
   "outputs": [],
   "source": []
  },
  {
   "cell_type": "code",
   "execution_count": null,
   "id": "9bd6b481",
   "metadata": {},
   "outputs": [],
   "source": []
  }
 ],
 "metadata": {
  "kernelspec": {
   "display_name": "base",
   "language": "python",
   "name": "python3"
  },
  "language_info": {
   "codemirror_mode": {
    "name": "ipython",
    "version": 3
   },
   "file_extension": ".py",
   "mimetype": "text/x-python",
   "name": "python",
   "nbconvert_exporter": "python",
   "pygments_lexer": "ipython3",
   "version": "3.13.5"
  }
 },
 "nbformat": 4,
 "nbformat_minor": 5
}
