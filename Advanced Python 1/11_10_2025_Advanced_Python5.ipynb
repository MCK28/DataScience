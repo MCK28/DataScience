{
 "cells": [
  {
   "cell_type": "markdown",
   "id": "8044e03a",
   "metadata": {},
   "source": [
    "## Functions\n",
    "\n",
    "- we define a function using def\n",
    "- can be defined with or without a parameter\n",
    "- we have to call the functions to perform the operation with ()\n",
    "- we call the variable of the function as parameters\n",
    "- and the values after calling the function are arguments"
   ]
  },
  {
   "cell_type": "code",
   "execution_count": 3,
   "id": "6edcffc1",
   "metadata": {},
   "outputs": [],
   "source": [
    "def greet():\n",
    "    '''A simple function that greets the user.''' # Docstring\n",
    "    print(\"Hello! Welcome to Advanced Python.\")"
   ]
  },
  {
   "cell_type": "code",
   "execution_count": 4,
   "id": "8e79cd1f",
   "metadata": {},
   "outputs": [
    {
     "name": "stdout",
     "output_type": "stream",
     "text": [
      "Hello! Welcome to Advanced Python.\n"
     ]
    }
   ],
   "source": [
    "greet()"
   ]
  },
  {
   "cell_type": "code",
   "execution_count": null,
   "id": "63ed3e68",
   "metadata": {},
   "outputs": [
    {
     "name": "stdout",
     "output_type": "stream",
     "text": [
      "Hello! Welcome to Advanced Python.\n"
     ]
    }
   ],
   "source": [
    "greeting = greet()"
   ]
  },
  {
   "cell_type": "code",
   "execution_count": null,
   "id": "7b2ef5c3",
   "metadata": {},
   "outputs": [],
   "source": [
    "greeting"
   ]
  },
  {
   "cell_type": "code",
   "execution_count": 7,
   "id": "018d2228",
   "metadata": {},
   "outputs": [],
   "source": [
    "def greet():\n",
    "    '''A simple function that greets the user.''' # Docstring\n",
    "    return \"Hello! Welcome to Advanced Python.\""
   ]
  },
  {
   "cell_type": "code",
   "execution_count": 8,
   "id": "b9802eb3",
   "metadata": {},
   "outputs": [],
   "source": [
    "greeting = greet()"
   ]
  },
  {
   "cell_type": "code",
   "execution_count": 9,
   "metadata": {},
   "outputs": [
    {
     "data": {
      "text/plain": [
       "'Hello! Welcome to Advanced Python.'"
      ]
     },
     "execution_count": 9,
     "metadata": {},
     "output_type": "execute_result"
    }
   ],
   "source": [
    "greeting"
   ]
  },
  {
   "cell_type": "code",
   "execution_count": null,
   "id": "d14ec4f3",
   "metadata": {},
   "outputs": [],
   "source": [
    "def sum_of_squares(a, b): # a and b are parameters.\n",
    "    '''Prints the sum of squares of two numbers.'''\n",
    "    print(a**2 + b**2)"
   ]
  },
  {
   "cell_type": "code",
   "execution_count": 13,
   "metadata": {},
   "outputs": [
    {
     "name": "stdout",
     "output_type": "stream",
     "text": [
      "25\n"
     ]
    }
   ],
   "source": [
    "sum_of_squares(3, 4)"
   ]
  },
  {
   "cell_type": "code",
   "execution_count": 14,
   "id": "ed9b7142",
   "metadata": {},
   "outputs": [
    {
     "name": "stdout",
     "output_type": "stream",
     "text": [
      "25\n"
     ]
    }
   ],
   "source": [
    "sos3_4 = sum_of_squares(3, 4)"
   ]
  },
  {
   "cell_type": "code",
   "execution_count": 15,
   "metadata": {},
   "outputs": [],
   "source": [
    "sos3_4"
   ]
  },
  {
   "cell_type": "code",
   "execution_count": 16,
   "id": "c4e57c9a",
   "metadata": {},
   "outputs": [],
   "source": [
    "def sum_of_squares2(a, b): # a and b are parameters.\n",
    "    '''Returns the sum of squares of two numbers.'''\n",
    "    return a**2 + b**2"
   ]
  },
  {
   "cell_type": "code",
   "execution_count": 18,
   "id": "c736b8da",
   "metadata": {},
   "outputs": [
    {
     "data": {
      "text/plain": [
       "25"
      ]
     },
     "execution_count": 18,
     "metadata": {},
     "output_type": "execute_result"
    }
   ],
   "source": [
    "sum_of_squares2(3, 4)"
   ]
  },
  {
   "cell_type": "code",
   "execution_count": 21,
   "id": "3f742f63",
   "metadata": {},
   "outputs": [],
   "source": [
    "sos3_4 = sum_of_squares2(3, 4)"
   ]
  },
  {
   "cell_type": "code",
   "execution_count": 22,
   "id": "e3f5ea53",
   "metadata": {},
   "outputs": [
    {
     "data": {
      "text/plain": [
       "25"
      ]
     },
     "execution_count": 22,
     "metadata": {},
     "output_type": "execute_result"
    }
   ],
   "source": [
    "sos3_4"
   ]
  },
  {
   "cell_type": "code",
   "execution_count": null,
   "id": "cbc8cf37",
   "metadata": {},
   "outputs": [
    {
     "name": "stdout",
     "output_type": "stream",
     "text": [
      "Help on built-in function print in module builtins:\n",
      "\n",
      "print(*args, sep=' ', end='\\n', file=None, flush=False)\n",
      "    Prints the values to a stream, or to sys.stdout by default.\n",
      "\n",
      "    sep\n",
      "      string inserted between values, default a space.\n",
      "    end\n",
      "      string appended after the last value, default a newline.\n",
      "    file\n",
      "      a file-like object (stream); defaults to the current sys.stdout.\n",
      "    flush\n",
      "      whether to forcibly flush the stream.\n",
      "\n"
     ]
    }
   ],
   "source": [
    "help(print)"
   ]
  },
  {
   "cell_type": "code",
   "execution_count": 27,
   "id": "8d9c3eae",
   "metadata": {},
   "outputs": [
    {
     "name": "stdout",
     "output_type": "stream",
     "text": [
      "Help on function sum_of_squares in module __main__:\n",
      "\n",
      "sum_of_squares(a, b)\n",
      "    Prints the sum of squares of two numbers.\n",
      "\n"
     ]
    }
   ],
   "source": [
    "help(sum_of_squares)"
   ]
  },
  {
   "cell_type": "code",
   "execution_count": 28,
   "id": "7d54ea2d",
   "metadata": {},
   "outputs": [
    {
     "name": "stdout",
     "output_type": "stream",
     "text": [
      "Help on function sum_of_squares2 in module __main__:\n",
      "\n",
      "sum_of_squares2(a, b)\n",
      "    Returns the sum of squares of two numbers.\n",
      "\n"
     ]
    }
   ],
   "source": [
    "help(sum_of_squares2)"
   ]
  },
  {
   "cell_type": "code",
   "execution_count": 30,
   "id": "2e2d5062",
   "metadata": {},
   "outputs": [
    {
     "data": {
      "text/plain": [
       "'Prints the sum of squares of two numbers.'"
      ]
     },
     "execution_count": 30,
     "metadata": {},
     "output_type": "execute_result"
    }
   ],
   "source": [
    "sum_of_squares.__doc__"
   ]
  },
  {
   "cell_type": "code",
   "execution_count": 31,
   "metadata": {},
   "outputs": [
    {
     "data": {
      "text/plain": [
       "'Returns the sum of squares of two numbers.'"
      ]
     },
     "execution_count": 31,
     "metadata": {},
     "output_type": "execute_result"
    }
   ],
   "source": [
    "sum_of_squares2.__doc__"
   ]
  },
  {
   "cell_type": "code",
   "execution_count": 32,
   "metadata": {},
   "outputs": [],
   "source": [
    "def sum_of_squares3(a, b): # a and b are parameters.\n",
    "\n",
    "    return a**2 + b**2"
   ]
  },
  {
   "cell_type": "code",
   "execution_count": 33,
   "id": "eb6cc4cc",
   "metadata": {},
   "outputs": [
    {
     "name": "stdout",
     "output_type": "stream",
     "text": [
      "Help on function sum_of_squares3 in module __main__:\n",
      "\n",
      "sum_of_squares3(a, b)\n",
      "\n"
     ]
    }
   ],
   "source": [
    "help(sum_of_squares3)"
   ]
  },
  {
   "cell_type": "code",
   "execution_count": 34,
   "id": "bfafd370",
   "metadata": {},
   "outputs": [],
   "source": [
    "sum_of_squares3.__doc__"
   ]
  },
  {
   "cell_type": "code",
   "execution_count": null,
   "metadata": {},
   "outputs": [],
   "source": [
    "def calculator():\n",
    "    ''' Asimple calculatror that performs addition, substraction,\n",
    "    multiplication and division,'''\n",
    "    operation = input(\"Enter operation (+, -, *, /): \")\n",
    "    num1 = float(input(\"Enter the first number: \"))\n",
    "    num2 = float(input(\"Enter the second number: \"))\n",
    "    if operation == '+':\n",
    "        result = f'{num1} + {num2} = {num1 + num2}'\n",
    "    elif operation == '-':\n",
    "        result = f'{num1} - {num2} = {num1 - num2}'\n",
    "    elif operation == '*':\n",
    "        result = f'{num1} * {num2} = {num1 * num2}'\n",
    "    elif operation == '/':\n",
    "        if num2 == 0:\n",
    "            result = \"Error: Divison by zero is not allowed.\"\n",
    "        else:\n",
    "            result = f'{num1} / {num2} = {num1 / num2}'\n",
    "    else:\n",
    "        result = \"Invalid operation.\"\n",
    "    return result"
   ]
  },
  {
   "cell_type": "code",
   "execution_count": 45,
   "id": "9f0aebf8",
   "metadata": {},
   "outputs": [
    {
     "data": {
      "text/plain": [
       "'Error: Divison by zero is not allowed.'"
      ]
     },
     "execution_count": 45,
     "metadata": {},
     "output_type": "execute_result"
    }
   ],
   "source": [
    "calculator()"
   ]
  },
  {
   "cell_type": "code",
   "execution_count": 51,
   "id": "a713f0f0",
   "metadata": {},
   "outputs": [],
   "source": [
    "def calculator2(num1, num2, operation):\n",
    "    ''' Asimple calculatror that performs addition, substraction,\n",
    "    multiplication and division,'''\n",
    "    if operation == '+':\n",
    "        result = f'{num1} + {num2} = {num1 + num2}'\n",
    "    elif operation == '-':\n",
    "        result = f'{num1} - {num2} = {num1 - num2}'\n",
    "    elif operation == '*':\n",
    "        result = f'{num1} * {num2} = {num1 * num2}'\n",
    "    elif operation == '/':\n",
    "        if num2 == 0:\n",
    "            result = \"Error: Divison by zero is not allowed.\"\n",
    "        else:\n",
    "            result = f'{num1} / {num2} = {num1 / num2}'\n",
    "    else:\n",
    "        result = \"Invalid operation.\"\n",
    "    return result"
   ]
  },
  {
   "cell_type": "code",
   "execution_count": 56,
   "id": "dab60a1c",
   "metadata": {},
   "outputs": [
    {
     "data": {
      "text/plain": [
       "'10 - 5.2 = 4.8'"
      ]
     },
     "execution_count": 56,
     "metadata": {},
     "output_type": "execute_result"
    }
   ],
   "source": [
    "calculator2(10, 5.2, '-')"
   ]
  },
  {
   "cell_type": "code",
   "execution_count": 53,
   "id": "0e6efc75",
   "metadata": {},
   "outputs": [
    {
     "data": {
      "text/plain": [
       "'10 * 5 = 50'"
      ]
     },
     "execution_count": 53,
     "metadata": {},
     "output_type": "execute_result"
    }
   ],
   "source": [
    "calculator2(10, 5, '*')"
   ]
  },
  {
   "cell_type": "code",
   "execution_count": 54,
   "id": "51fb7d04",
   "metadata": {},
   "outputs": [
    {
     "data": {
      "text/plain": [
       "'10 / 5 = 2.0'"
      ]
     },
     "execution_count": 54,
     "metadata": {},
     "output_type": "execute_result"
    }
   ],
   "source": [
    "calculator2(10, 5, '/')"
   ]
  },
  {
   "cell_type": "code",
   "execution_count": 55,
   "id": "6a4f00d2",
   "metadata": {},
   "outputs": [
    {
     "data": {
      "text/plain": [
       "'Error: Divison by zero is not allowed.'"
      ]
     },
     "execution_count": 55,
     "metadata": {},
     "output_type": "execute_result"
    }
   ],
   "source": [
    "calculator2(10, 0, '/')"
   ]
  },
  {
   "cell_type": "code",
   "execution_count": 57,
   "id": "1f187050",
   "metadata": {},
   "outputs": [
    {
     "data": {
      "text/plain": [
       "15"
      ]
     },
     "execution_count": 57,
     "metadata": {},
     "output_type": "execute_result"
    }
   ],
   "source": [
    "len('Advanced Python')"
   ]
  },
  {
   "cell_type": "code",
   "execution_count": 58,
   "id": "cc272ae7",
   "metadata": {},
   "outputs": [
    {
     "data": {
      "text/plain": [
       "3"
      ]
     },
     "execution_count": 58,
     "metadata": {},
     "output_type": "execute_result"
    }
   ],
   "source": [
    "len([1, 2, 3])"
   ]
  },
  {
   "cell_type": "code",
   "execution_count": 59,
   "id": "ce2d1cd7",
   "metadata": {},
   "outputs": [
    {
     "data": {
      "text/plain": [
       "2"
      ]
     },
     "execution_count": 59,
     "metadata": {},
     "output_type": "execute_result"
    }
   ],
   "source": [
    "len({1: 'a', 2: 'b'})"
   ]
  },
  {
   "cell_type": "code",
   "execution_count": 62,
   "id": "9ef76829",
   "metadata": {},
   "outputs": [],
   "source": [
    "def int_len(num):\n",
    "    '''Returns the number of digits in an intiger.'''\n",
    "    return len(str(num))"
   ]
  },
  {
   "cell_type": "code",
   "execution_count": 63,
   "id": "742aea76",
   "metadata": {},
   "outputs": [
    {
     "data": {
      "text/plain": [
       "5"
      ]
     },
     "execution_count": 63,
     "metadata": {},
     "output_type": "execute_result"
    }
   ],
   "source": [
    "int_len(12345)"
   ]
  },
  {
   "cell_type": "code",
   "execution_count": 66,
   "id": "f1e2841b",
   "metadata": {},
   "outputs": [],
   "source": [
    "def int_len2(num):\n",
    "    '''Returns the number of digits in an intiger.'''\n",
    "    counter = 0\n",
    "    for digit in str(num):\n",
    "        counter += 1\n",
    "    return counter"
   ]
  },
  {
   "cell_type": "code",
   "execution_count": 67,
   "id": "22365a33",
   "metadata": {},
   "outputs": [
    {
     "data": {
      "text/plain": [
       "5"
      ]
     },
     "execution_count": 67,
     "metadata": {},
     "output_type": "execute_result"
    }
   ],
   "source": [
    "int_len2(12345)"
   ]
  },
  {
   "cell_type": "code",
   "execution_count": 68,
   "id": "e7302aed",
   "metadata": {},
   "outputs": [],
   "source": [
    "def reverse_iterable(data):\n",
    "    '''Returns the elements of an iterable in reverse order.'''\n",
    "    return data[::-1]"
   ]
  },
  {
   "cell_type": "code",
   "execution_count": 82,
   "id": "10cfe62c",
   "metadata": {},
   "outputs": [
    {
     "data": {
      "text/plain": [
       "'irf oll'"
      ]
     },
     "execution_count": 82,
     "metadata": {},
     "output_type": "execute_result"
    }
   ],
   "source": [
    "'hello friends'[8:1:-1]"
   ]
  },
  {
   "cell_type": "code",
   "execution_count": 83,
   "id": "f579259b",
   "metadata": {},
   "outputs": [
    {
     "data": {
      "text/plain": [
       "'sdneirf olleh'"
      ]
     },
     "execution_count": 83,
     "metadata": {},
     "output_type": "execute_result"
    }
   ],
   "source": [
    "'hello friends'[::-1]"
   ]
  },
  {
   "cell_type": "code",
   "execution_count": 84,
   "id": "3da87b6a",
   "metadata": {},
   "outputs": [
    {
     "data": {
      "text/plain": [
       "['hello', False, True, 3, 2, 1]"
      ]
     },
     "execution_count": 84,
     "metadata": {},
     "output_type": "execute_result"
    }
   ],
   "source": [
    "[1, 2, 3, True, False, 'hello'][::-1]"
   ]
  },
  {
   "cell_type": "code",
   "execution_count": 85,
   "id": "4c092f38",
   "metadata": {},
   "outputs": [
    {
     "data": {
      "text/plain": [
       "('hello', False, True, 3, 2, 1)"
      ]
     },
     "execution_count": 85,
     "metadata": {},
     "output_type": "execute_result"
    }
   ],
   "source": [
    "(1, 2, 3, True, False, 'hello')[::-1]"
   ]
  },
  {
   "cell_type": "code",
   "execution_count": 86,
   "id": "b22c1b82",
   "metadata": {},
   "outputs": [],
   "source": [
    "def reverse_iterable(data):\n",
    "    '''Returns the elements of an iterable in reverse order.'''\n",
    "    return data[::-1]"
   ]
  },
  {
   "cell_type": "code",
   "execution_count": 87,
   "id": "0504ced3",
   "metadata": {},
   "outputs": [
    {
     "data": {
      "text/plain": [
       "'sdneirf olleh'"
      ]
     },
     "execution_count": 87,
     "metadata": {},
     "output_type": "execute_result"
    }
   ],
   "source": [
    "reverse_iterable('hello friends')"
   ]
  },
  {
   "cell_type": "code",
   "execution_count": 88,
   "id": "2821440c",
   "metadata": {},
   "outputs": [
    {
     "data": {
      "text/plain": [
       "[False, True, 3, 2, 1]"
      ]
     },
     "execution_count": 88,
     "metadata": {},
     "output_type": "execute_result"
    }
   ],
   "source": [
    "reverse_iterable([1, 2, 3, True, False])"
   ]
  },
  {
   "cell_type": "code",
   "execution_count": 90,
   "id": "699799b6",
   "metadata": {},
   "outputs": [],
   "source": [
    "def reverse_iterable2(data):\n",
    "    i = len(data) - 1\n",
    "    reverse = ''\n",
    "    while i >= 0:\n",
    "        reverse += data[i]\n",
    "        i -= 1\n",
    "    return reverse"
   ]
  },
  {
   "cell_type": "code",
   "execution_count": 92,
   "id": "8d26385d",
   "metadata": {},
   "outputs": [
    {
     "data": {
      "text/plain": [
       "'sdneirf olleh'"
      ]
     },
     "execution_count": 92,
     "metadata": {},
     "output_type": "execute_result"
    }
   ],
   "source": [
    "reverse_iterable2('hello friends')"
   ]
  },
  {
   "cell_type": "code",
   "execution_count": 105,
   "id": "e3bb2052",
   "metadata": {},
   "outputs": [],
   "source": [
    "def reverse_iterable3(data):\n",
    "    reverse = ''\n",
    "    for i in range(len(data) - 1, -1, -1):\n",
    "        reverse += data[i]\n",
    "    return reverse"
   ]
  },
  {
   "cell_type": "code",
   "execution_count": 106,
   "id": "2c6c729c",
   "metadata": {},
   "outputs": [
    {
     "data": {
      "text/plain": [
       "'syob olleh'"
      ]
     },
     "execution_count": 106,
     "metadata": {},
     "output_type": "execute_result"
    }
   ],
   "source": [
    "reverse_iterable3('hello boys')"
   ]
  },
  {
   "cell_type": "code",
   "execution_count": 130,
   "id": "541ea262",
   "metadata": {},
   "outputs": [],
   "source": [
    "def even_odd_separator(numbers):\n",
    "    '''This function takes a collective data type like a list or tuple as value that has numbers \n",
    "    as its elements and seperates the odd and even numbers and puts them in proper lists '''\n",
    "    odds = []\n",
    "    even = []\n",
    "    for i in numbers:\n",
    "        if i % 2:\n",
    "            odds.append(i)\n",
    "        else:\n",
    "            even.append(i)\n",
    "    print(f'List of odd numbers: {odds} \\nList of even numbers: {even}')"
   ]
  },
  {
   "cell_type": "code",
   "execution_count": 131,
   "id": "8149c173",
   "metadata": {},
   "outputs": [
    {
     "name": "stdout",
     "output_type": "stream",
     "text": [
      "List of odd numbers: [1, 3, 5, 7, 9] \n",
      "List of even numbers: [2, 4, 6, 8]\n"
     ]
    }
   ],
   "source": [
    "even_odd_separator([1, 2, 3, 4, 5, 6, 7, 8, 9])"
   ]
  },
  {
   "cell_type": "code",
   "execution_count": 133,
   "id": "7fdbdfaf",
   "metadata": {},
   "outputs": [],
   "source": [
    "def even_odd_separator2(numbers):\n",
    "    '''This function takes a collective data type like a list or tuple as value that has numbers \n",
    "    as its elements and seperates the odd and even numbers and puts them in proper lists '''\n",
    "    odds = [i for i in numbers if i % 2 == 1]\n",
    "    even = [i for i in numbers if i % 2 == 0]\n",
    "    return f'List of odd numbers: {odds} \\nList of even numbers: {even}'"
   ]
  },
  {
   "cell_type": "code",
   "execution_count": 134,
   "id": "0908cdbf",
   "metadata": {},
   "outputs": [
    {
     "name": "stdout",
     "output_type": "stream",
     "text": [
      "List of odd numbers: [113, 31] \n",
      "List of even numbers: [112, 114, 12, 14, 14]\n"
     ]
    }
   ],
   "source": [
    "print(even_odd_separator2([112, 113, 114, 12, 31, 14, 14]))"
   ]
  },
  {
   "cell_type": "code",
   "execution_count": 138,
   "id": "b6df9dfb",
   "metadata": {},
   "outputs": [],
   "source": [
    "def hyp_perimeter(a, b):\n",
    "    hyp = (a**2 + b**2) ** 0.5\n",
    "    perimeter = a + b + hyp\n",
    "\n",
    "    return f'The hypotenuse: {hyp} and the perimeter: {perimeter}'"
   ]
  },
  {
   "cell_type": "code",
   "execution_count": 139,
   "id": "865281c8",
   "metadata": {},
   "outputs": [
    {
     "data": {
      "text/plain": [
       "'The hypotenuse: 5.0 and the perimeter: 12.0'"
      ]
     },
     "execution_count": 139,
     "metadata": {},
     "output_type": "execute_result"
    }
   ],
   "source": [
    "hyp_perimeter(3, 4)"
   ]
  },
  {
   "cell_type": "code",
   "execution_count": 145,
   "id": "d515508e",
   "metadata": {},
   "outputs": [],
   "source": [
    "import math\n",
    "\n",
    "def hyp_perimeter(a, b):\n",
    "    hyp = math.sqrt(a**2 + b**2) \n",
    "    perimeter = a + b + hyp\n",
    "\n",
    "    return f'The hypotenuse: {hyp} \\nThe perimeter: {perimeter}'"
   ]
  },
  {
   "cell_type": "code",
   "execution_count": 146,
   "id": "6e1f4396",
   "metadata": {},
   "outputs": [
    {
     "name": "stdout",
     "output_type": "stream",
     "text": [
      "The hypotenuse: 13.0 \n",
      "The perimeter: 30.0\n"
     ]
    }
   ],
   "source": [
    "print(hyp_perimeter(5, 12))"
   ]
  },
  {
   "cell_type": "code",
   "execution_count": 153,
   "id": "80236286",
   "metadata": {},
   "outputs": [],
   "source": [
    "def donate_pounds(name):\n",
    "    vowels = 'aeiouAEIOU'\n",
    "    vcounter = 0\n",
    "    for char in name:\n",
    "        if char in vowels:\n",
    "            vcounter += 1\n",
    "    return f'We will donate {vcounter * 10} pounds on your behalf.'"
   ]
  },
  {
   "cell_type": "code",
   "execution_count": 155,
   "id": "c6a1514c",
   "metadata": {},
   "outputs": [
    {
     "data": {
      "text/plain": [
       "'We will donate 20 pounds on your behalf.'"
      ]
     },
     "execution_count": 155,
     "metadata": {},
     "output_type": "execute_result"
    }
   ],
   "source": [
    "donate_pounds('Mehmet')"
   ]
  },
  {
   "cell_type": "code",
   "execution_count": 160,
   "id": "2c679c3d",
   "metadata": {},
   "outputs": [],
   "source": [
    "def donate_pounds(name):\n",
    "    vowels = 'aeiouAEIOU'\n",
    "    pounds = sum([10 for char in name if char in vowels])\n",
    "    return f'We will donate {pounds} pounds on your behalf.'"
   ]
  },
  {
   "cell_type": "code",
   "execution_count": 161,
   "id": "30163f0e",
   "metadata": {},
   "outputs": [
    {
     "data": {
      "text/plain": [
       "'We will donate 20 pounds on your behalf.'"
      ]
     },
     "execution_count": 161,
     "metadata": {},
     "output_type": "execute_result"
    }
   ],
   "source": [
    "donate_pounds('Mehmet')"
   ]
  },
  {
   "cell_type": "code",
   "execution_count": null,
   "id": "4dc5a842",
   "metadata": {},
   "outputs": [],
   "source": [
    "def prime_finder(number):\n",
    "    if number <= 1: # if s number is 1 or less than 1, not a prime number.\n",
    "        return 'Not a prime number'\n",
    "    \n",
    "    for i in range(2, number):\n",
    "        if number % i == 0: # if divisable, not a prime number.\n",
    "            return 'Not a prime number.'\n",
    "    return 'Prime number'"
   ]
  },
  {
   "cell_type": "code",
   "execution_count": 164,
   "id": "c709378b",
   "metadata": {},
   "outputs": [
    {
     "data": {
      "text/plain": [
       "'Prime number'"
      ]
     },
     "execution_count": 164,
     "metadata": {},
     "output_type": "execute_result"
    }
   ],
   "source": [
    "prime_finder(3)"
   ]
  },
  {
   "cell_type": "code",
   "execution_count": 165,
   "id": "b3683e73",
   "metadata": {},
   "outputs": [
    {
     "data": {
      "text/plain": [
       "'Not a prime number.'"
      ]
     },
     "execution_count": 165,
     "metadata": {},
     "output_type": "execute_result"
    }
   ],
   "source": [
    "prime_finder(6)"
   ]
  },
  {
   "cell_type": "code",
   "execution_count": null,
   "id": "29043a96",
   "metadata": {},
   "outputs": [],
   "source": []
  }
 ],
 "metadata": {
  "kernelspec": {
   "display_name": "base",
   "language": "python",
   "name": "python3"
  },
  "language_info": {
   "codemirror_mode": {
    "name": "ipython",
    "version": 3
   },
   "file_extension": ".py",
   "mimetype": "text/x-python",
   "name": "python",
   "nbconvert_exporter": "python",
   "pygments_lexer": "ipython3",
   "version": "3.13.5"
  }
 },
 "nbformat": 4,
 "nbformat_minor": 5
}
