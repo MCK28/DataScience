{
 "cells": [
  {
   "cell_type": "code",
   "execution_count": 5,
   "id": "8e7999c3",
   "metadata": {},
   "outputs": [],
   "source": [
    "def armstrong(num):\n",
    "    '''This function checks whether a given number is armstrong or not'''\n",
    "    digit = len(num)\n",
    "    a = [int(i) ** digit for i in num]\n",
    "    print(a)\n",
    "    total = sum([int(i) ** digit for i in num])\n",
    "    if total == int(num): \n",
    "        print(f'{num} is an Armstrong number.')\n",
    "    else:\n",
    "        print(f'{num} is not an Armstrong number.')"
   ]
  },
  {
   "cell_type": "code",
   "execution_count": 6,
   "id": "e66a394f",
   "metadata": {},
   "outputs": [
    {
     "name": "stdout",
     "output_type": "stream",
     "text": [
      "[64, 0, 343]\n",
      "407 is an Armstrong number.\n"
     ]
    }
   ],
   "source": [
    "num = input('Please provide a number to check if it is an Armstrong number or not.')\n",
    "armstrong(num)"
   ]
  },
  {
   "cell_type": "code",
   "execution_count": 11,
   "id": "91971e39",
   "metadata": {},
   "outputs": [],
   "source": [
    "def armstrong_num(num1):\n",
    "    num1 = str(num1)\n",
    "    total1 = 0\n",
    "    digits = len(num1)\n",
    "    for i in num1:\n",
    "        total1 += int(i) ** digits\n",
    "    if total1 == int(num1): \n",
    "        print(f'{num1} is an Armstrong number.')\n",
    "    else:\n",
    "        print(f'{num1} is not an Armstrong number.')\n",
    "\n"
   ]
  },
  {
   "cell_type": "code",
   "execution_count": 12,
   "metadata": {},
   "outputs": [
    {
     "name": "stdout",
     "output_type": "stream",
     "text": [
      "407 is an Armstrong number.\n"
     ]
    }
   ],
   "source": [
    "armstrong_num(407)"
   ]
  },
  {
   "cell_type": "code",
   "execution_count": 13,
   "id": "c503a7e0",
   "metadata": {},
   "outputs": [],
   "source": [
    "def armstrong_finder(num1):\n",
    "    num1 = str(num1)\n",
    "    total1 = 0\n",
    "    digits = len(num1)\n",
    "    for i in num1:\n",
    "        total1 += int(i) ** digits\n",
    "    if total1 == int(num1): \n",
    "        return True\n",
    "\n"
   ]
  },
  {
   "cell_type": "code",
   "execution_count": 15,
   "id": "a0f1eb6d",
   "metadata": {},
   "outputs": [
    {
     "name": "stdout",
     "output_type": "stream",
     "text": [
      "1 is an armstrong number.\n",
      "2 is an armstrong number.\n",
      "3 is an armstrong number.\n",
      "4 is an armstrong number.\n",
      "5 is an armstrong number.\n",
      "6 is an armstrong number.\n",
      "7 is an armstrong number.\n",
      "8 is an armstrong number.\n",
      "9 is an armstrong number.\n",
      "153 is an armstrong number.\n",
      "370 is an armstrong number.\n",
      "371 is an armstrong number.\n",
      "407 is an armstrong number.\n",
      "1634 is an armstrong number.\n",
      "8208 is an armstrong number.\n",
      "9474 is an armstrong number.\n"
     ]
    }
   ],
   "source": [
    "for i in range(1, 10001):\n",
    "    if armstrong_finder(i):\n",
    "        print(f\"{i} is an armstrong number.\")\n"
   ]
  },
  {
   "cell_type": "code",
   "execution_count": 19,
   "id": "552ae485",
   "metadata": {},
   "outputs": [
    {
     "name": "stdout",
     "output_type": "stream",
     "text": [
      "[1, 2, 3, 4, 5, 6, 7, 8, 9, 153, 370, 371, 407, 1634, 8208, 9474]\n"
     ]
    }
   ],
   "source": [
    "nums = [i for i in range(1,10001) if armstrong_finder(i)]\n",
    "print(nums)"
   ]
  },
  {
   "cell_type": "code",
   "execution_count": 20,
   "metadata": {},
   "outputs": [],
   "source": [
    "def my_name(first_name, last_name):\n",
    "    return f\"My name is {first_name} {last_name}\""
   ]
  },
  {
   "cell_type": "code",
   "execution_count": null,
   "id": "f746d404",
   "metadata": {},
   "outputs": [
    {
     "data": {
      "text/plain": [
       "'My name is Mehmet Koldemir'"
      ]
     },
     "execution_count": 21,
     "metadata": {},
     "output_type": "execute_result"
    }
   ],
   "source": [
    "my_name('Mehmet', 'Koldemir')\n",
    "# Providing arguments based on position. "
   ]
  },
  {
   "cell_type": "code",
   "execution_count": 22,
   "id": "6c9f57a3",
   "metadata": {},
   "outputs": [
    {
     "data": {
      "text/plain": [
       "'My name is Mehmet Koldemir'"
      ]
     },
     "execution_count": 22,
     "metadata": {},
     "output_type": "execute_result"
    }
   ],
   "source": [
    "my_name(last_name = 'Koldemir', first_name ='Mehmet')"
   ]
  },
  {
   "cell_type": "code",
   "execution_count": null,
   "id": "bbc17d1e",
   "metadata": {},
   "outputs": [],
   "source": [
    "def my_name2(first_name, last_name = 'Koldemir'): #Always provide the default argument at the end.\n",
    "    return f\"My name is {first_name} {last_name}\""
   ]
  },
  {
   "cell_type": "code",
   "execution_count": 29,
   "id": "9f41df20",
   "metadata": {},
   "outputs": [
    {
     "data": {
      "text/plain": [
       "'My name is Bilal Koldemir'"
      ]
     },
     "execution_count": 29,
     "metadata": {},
     "output_type": "execute_result"
    }
   ],
   "source": [
    "my_name2('Bilal')"
   ]
  },
  {
   "cell_type": "code",
   "execution_count": 27,
   "metadata": {},
   "outputs": [
    {
     "data": {
      "text/plain": [
       "'My name is Bilal Koldemir'"
      ]
     },
     "execution_count": 27,
     "metadata": {},
     "output_type": "execute_result"
    }
   ],
   "source": [
    "my_name2(first_name = 'Bilal')"
   ]
  },
  {
   "cell_type": "code",
   "execution_count": 36,
   "id": "86520d8e",
   "metadata": {},
   "outputs": [],
   "source": [
    "def my_name3(first_name, middle_name = 'Cevdet', last_name = 'Koldemir'):\n",
    "      return f\"My name is {first_name} {middle_name} {last_name}\""
   ]
  },
  {
   "cell_type": "code",
   "execution_count": 37,
   "metadata": {},
   "outputs": [
    {
     "data": {
      "text/plain": [
       "'My name is Mehmet Cevdet Koldemir'"
      ]
     },
     "execution_count": 37,
     "metadata": {},
     "output_type": "execute_result"
    }
   ],
   "source": [
    "my_name3('Mehmet')"
   ]
  },
  {
   "cell_type": "code",
   "execution_count": 38,
   "id": "44e2355b",
   "metadata": {},
   "outputs": [],
   "source": [
    "#Following function takes 5 inputs and provides \n",
    "#the odd numbers of these inputs in a list\n",
    "def odd_nums(a, b, c, d, e):\n",
    "    odd_list = []\n",
    "    for i in a, b, c, d, e:\n",
    "        if i % 2 == 1:\n",
    "            odd_list.append(i)\n",
    "    return odd_list"
   ]
  },
  {
   "cell_type": "code",
   "execution_count": 41,
   "id": "6c7c0dd8",
   "metadata": {},
   "outputs": [
    {
     "data": {
      "text/plain": [
       "[5, 3, 7]"
      ]
     },
     "execution_count": 41,
     "metadata": {},
     "output_type": "execute_result"
    }
   ],
   "source": [
    "odd_nums(2, 5, 3, 6, 7)"
   ]
  },
  {
   "cell_type": "code",
   "execution_count": 42,
   "id": "a358cd99",
   "metadata": {},
   "outputs": [],
   "source": [
    "def odd_nums2(num_list):\n",
    "    odd_list = []\n",
    "    for i in num_list:\n",
    "        if i % 2 == 1:\n",
    "            odd_list.append(i)\n",
    "    return odd_list"
   ]
  },
  {
   "cell_type": "code",
   "execution_count": 44,
   "id": "451777fc",
   "metadata": {},
   "outputs": [
    {
     "data": {
      "text/plain": [
       "[1, 3, 5, 7]"
      ]
     },
     "execution_count": 44,
     "metadata": {},
     "output_type": "execute_result"
    }
   ],
   "source": [
    "odd_nums2([1, 2, 3, 4, 5, 6, 7])"
   ]
  },
  {
   "cell_type": "markdown",
   "id": "519fd66e",
   "metadata": {},
   "source": [
    "## Arbitrary number of arguments(*args, **k.w.args)\n"
   ]
  },
  {
   "cell_type": "code",
   "execution_count": 45,
   "id": "c95c3f1c",
   "metadata": {},
   "outputs": [],
   "source": [
    "def odd_nums3(*numbers):\n",
    "    odd_list = []\n",
    "    for i in numbers:\n",
    "        if i % 2 == 1:\n",
    "            odd_list.append(i)\n",
    "    return odd_list"
   ]
  },
  {
   "cell_type": "code",
   "execution_count": null,
   "id": "1b4c3346",
   "metadata": {},
   "outputs": [
    {
     "data": {
      "text/plain": [
       "[1, 3, 5, 7, 9]"
      ]
     },
     "execution_count": 47,
     "metadata": {},
     "output_type": "execute_result"
    }
   ],
   "source": [
    "odd_nums3(1, 2, 3, 4, 5, 6, 7, 8, 9)"
   ]
  },
  {
   "cell_type": "code",
   "execution_count": null,
   "id": "ad445f74",
   "metadata": {},
   "outputs": [],
   "source": [
    "#Define a function that takes arbitrary inputs,\n",
    "#squares the even numbers \n",
    "#and doubles the odd numbers.\n",
    "def sqr_double(*numbers):\n",
    "    odd_list = []\n",
    "    even_list = []\n",
    "    for i in numbers:\n",
    "        if i % 2 == 1:\n",
    "            odd_list.append(i*2)\n",
    "        else:\n",
    "            even_list.append(i**2)\n",
    "    return odd_list, even_list"
   ]
  },
  {
   "cell_type": "code",
   "execution_count": 49,
   "id": "261eae50",
   "metadata": {},
   "outputs": [
    {
     "data": {
      "text/plain": [
       "([2, 6, 10, 14, 18], [4, 16, 36, 64])"
      ]
     },
     "execution_count": 49,
     "metadata": {},
     "output_type": "execute_result"
    }
   ],
   "source": [
    "sqr_double(1, 2, 3, 4, 5, 6, 7, 8, 9)"
   ]
  },
  {
   "cell_type": "code",
   "execution_count": 50,
   "id": "f6b1c9cb",
   "metadata": {},
   "outputs": [],
   "source": [
    "def sqr_double2(*numbers):\n",
    "    odd_list = [(i*2) for i in numbers if i % 2 == 1]\n",
    "    even_list = [(i**2) for i in numbers if i % 2 == 0]\n",
    "    return odd_list, even_list"
   ]
  },
  {
   "cell_type": "code",
   "execution_count": 53,
   "id": "7164b6d7",
   "metadata": {},
   "outputs": [
    {
     "data": {
      "text/plain": [
       "([2, 6, 10, 14, 18], [4, 16, 36, 64])"
      ]
     },
     "execution_count": 53,
     "metadata": {},
     "output_type": "execute_result"
    }
   ],
   "source": [
    "sqr_double2(1, 2, 3, 4, 5, 6, 7, 8, 9)"
   ]
  },
  {
   "cell_type": "code",
   "execution_count": 55,
   "id": "f85ed4e9",
   "metadata": {},
   "outputs": [],
   "source": [
    "def sqr_double3(*numbers):\n",
    "    list = [(i*2) if i % 2 == 1 else i**2 for i in numbers]\n",
    "    return list "
   ]
  },
  {
   "cell_type": "code",
   "execution_count": 56,
   "id": "af2a9009",
   "metadata": {},
   "outputs": [
    {
     "data": {
      "text/plain": [
       "[2, 4, 6, 16, 10, 36, 14, 64, 18]"
      ]
     },
     "execution_count": 56,
     "metadata": {},
     "output_type": "execute_result"
    }
   ],
   "source": [
    "sqr_double3(1, 2, 3, 4, 5, 6, 7, 8, 9)"
   ]
  },
  {
   "cell_type": "code",
   "execution_count": null,
   "id": "be0ad69f",
   "metadata": {},
   "outputs": [],
   "source": []
  },
  {
   "cell_type": "code",
   "execution_count": null,
   "id": "662360b2",
   "metadata": {},
   "outputs": [],
   "source": []
  },
  {
   "cell_type": "code",
   "execution_count": null,
   "id": "10b3ea3a",
   "metadata": {},
   "outputs": [],
   "source": []
  },
  {
   "cell_type": "code",
   "execution_count": null,
   "id": "0106d002",
   "metadata": {},
   "outputs": [],
   "source": []
  }
 ],
 "metadata": {
  "kernelspec": {
   "display_name": "base",
   "language": "python",
   "name": "python3"
  },
  "language_info": {
   "codemirror_mode": {
    "name": "ipython",
    "version": 3
   },
   "file_extension": ".py",
   "mimetype": "text/x-python",
   "name": "python",
   "nbconvert_exporter": "python",
   "pygments_lexer": "ipython3",
   "version": "3.13.5"
  }
 },
 "nbformat": 4,
 "nbformat_minor": 5
}
