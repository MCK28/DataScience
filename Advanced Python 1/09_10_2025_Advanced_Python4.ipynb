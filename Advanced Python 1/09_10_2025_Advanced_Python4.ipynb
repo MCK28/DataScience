{
 "cells": [
  {
   "cell_type": "markdown",
   "id": "bd8ba9d5",
   "metadata": {},
   "source": [
    "## List Comprehension\n",
    "\n",
    "- A simple way of performing for loops, to speed up operations, and performs the append operation in the background\n",
    "\n",
    "- Simple syntax: [operation for i in iterable_data]"
   ]
  },
  {
   "cell_type": "code",
   "execution_count": 1,
   "id": "1bd5ad13",
   "metadata": {},
   "outputs": [
    {
     "name": "stdout",
     "output_type": "stream",
     "text": [
      "[1, 9, 4, 64, 36, 49, 25]\n"
     ]
    }
   ],
   "source": [
    "nums = [1, 3, 2, 8, 6, 7, 5]\n",
    "nums_sq = []\n",
    "for i in nums:\n",
    "    nums_sq.append(i **2)\n",
    "print(nums_sq)"
   ]
  },
  {
   "cell_type": "code",
   "execution_count": 3,
   "id": "4acf70b7",
   "metadata": {},
   "outputs": [
    {
     "data": {
      "text/plain": [
       "[1, 9, 4, 64, 36, 49, 25]"
      ]
     },
     "execution_count": 3,
     "metadata": {},
     "output_type": "execute_result"
    }
   ],
   "source": [
    "num_squared = [i ** 2 for i in nums]\n",
    "num_squared"
   ]
  },
  {
   "cell_type": "code",
   "execution_count": 4,
   "id": "1ae0475b",
   "metadata": {},
   "outputs": [
    {
     "data": {
      "text/plain": [
       "['MEHMET', 'KATERYNA', 'ROVSHEN', 'VUSAL']"
      ]
     },
     "execution_count": 4,
     "metadata": {},
     "output_type": "execute_result"
    }
   ],
   "source": [
    "names = ['mehmet', 'kateryna', 'rovshen', 'vusal']\n",
    "[i.upper() for i in names]"
   ]
  },
  {
   "cell_type": "code",
   "execution_count": 5,
   "id": "e1bc58c5",
   "metadata": {},
   "outputs": [
    {
     "name": "stdout",
     "output_type": "stream",
     "text": [
      "mehmet\n",
      "kateryna\n",
      "rovshen\n",
      "vusal\n"
     ]
    },
    {
     "data": {
      "text/plain": [
       "[None, None, None, None]"
      ]
     },
     "execution_count": 5,
     "metadata": {},
     "output_type": "execute_result"
    }
   ],
   "source": [
    "[print(i) for i in names]"
   ]
  },
  {
   "cell_type": "code",
   "execution_count": 7,
   "id": "0c6ba9d5",
   "metadata": {},
   "outputs": [],
   "source": [
    "numbers = [12, 21, 34, 45, 56, 67, 78, 89, 90, 1]\n",
    "odds = [i for i in numbers if i % 2 == 1]\n",
    "evens = [i for i in numbers if i % 2 == 0]"
   ]
  },
  {
   "cell_type": "code",
   "execution_count": 8,
   "id": "b8cc673f",
   "metadata": {},
   "outputs": [
    {
     "data": {
      "text/plain": [
       "[12, 34, 56, 78, 90]"
      ]
     },
     "execution_count": 8,
     "metadata": {},
     "output_type": "execute_result"
    }
   ],
   "source": [
    "evens"
   ]
  },
  {
   "cell_type": "code",
   "execution_count": 9,
   "id": "ee1d9653",
   "metadata": {},
   "outputs": [
    {
     "data": {
      "text/plain": [
       "[21, 45, 67, 89, 1]"
      ]
     },
     "execution_count": 9,
     "metadata": {},
     "output_type": "execute_result"
    }
   ],
   "source": [
    "odds"
   ]
  },
  {
   "cell_type": "code",
   "execution_count": null,
   "id": "f432341f",
   "metadata": {},
   "outputs": [
    {
     "data": {
      "text/plain": [
       "['techpro', 'education']"
      ]
     },
     "execution_count": 10,
     "metadata": {},
     "output_type": "execute_result"
    }
   ],
   "source": [
    "list1 = ['..tech.pro..', '..educa.tion..']\n",
    "clean_strings = []\n",
    "for i in list1:\n",
    "    clean_strings.append(i.replace('.', ''))\n",
    "clean_strings"
   ]
  },
  {
   "cell_type": "code",
   "execution_count": 11,
   "id": "ca882e55",
   "metadata": {},
   "outputs": [
    {
     "data": {
      "text/plain": [
       "['techpro', 'education']"
      ]
     },
     "execution_count": 11,
     "metadata": {},
     "output_type": "execute_result"
    }
   ],
   "source": [
    "[i.replace('.', '') for i in list1]"
   ]
  },
  {
   "cell_type": "code",
   "execution_count": 12,
   "id": "9f82e52d",
   "metadata": {},
   "outputs": [
    {
     "data": {
      "text/plain": [
       "['techpro', 'education']"
      ]
     },
     "execution_count": 12,
     "metadata": {},
     "output_type": "execute_result"
    }
   ],
   "source": [
    "list1 = [' . . techpro . . ', ' . . education . . ']\n",
    "clean_strings = []\n",
    "for i in list1:\n",
    "    clean_strings.append(i.strip(' .'))\n",
    "clean_strings"
   ]
  },
  {
   "cell_type": "code",
   "execution_count": 13,
   "id": "6760f02f",
   "metadata": {},
   "outputs": [
    {
     "data": {
      "text/plain": [
       "['techpro', 'education']"
      ]
     },
     "execution_count": 13,
     "metadata": {},
     "output_type": "execute_result"
    }
   ],
   "source": [
    "[i.strip(' .') for i in list1]"
   ]
  },
  {
   "cell_type": "code",
   "execution_count": 14,
   "id": "6c70ce77",
   "metadata": {},
   "outputs": [
    {
     "data": {
      "text/plain": [
       "True"
      ]
     },
     "execution_count": 14,
     "metadata": {},
     "output_type": "execute_result"
    }
   ],
   "source": [
    "isinstance('aa', str)"
   ]
  },
  {
   "cell_type": "code",
   "execution_count": 15,
   "id": "bf653944",
   "metadata": {},
   "outputs": [
    {
     "data": {
      "text/plain": [
       "False"
      ]
     },
     "execution_count": 15,
     "metadata": {},
     "output_type": "execute_result"
    }
   ],
   "source": [
    "isinstance('aa', int)"
   ]
  },
  {
   "cell_type": "code",
   "execution_count": 16,
   "id": "06e7820c",
   "metadata": {},
   "outputs": [
    {
     "data": {
      "text/plain": [
       "False"
      ]
     },
     "execution_count": 16,
     "metadata": {},
     "output_type": "execute_result"
    }
   ],
   "source": [
    "isinstance('aa', list)"
   ]
  },
  {
   "cell_type": "code",
   "execution_count": 17,
   "id": "c2396738",
   "metadata": {},
   "outputs": [
    {
     "data": {
      "text/plain": [
       "True"
      ]
     },
     "execution_count": 17,
     "metadata": {},
     "output_type": "execute_result"
    }
   ],
   "source": [
    "isinstance(['aa'], list)"
   ]
  },
  {
   "cell_type": "code",
   "execution_count": 20,
   "id": "7091e3f4",
   "metadata": {},
   "outputs": [
    {
     "name": "stdout",
     "output_type": "stream",
     "text": [
      "[34, 67, 12]\n"
     ]
    }
   ],
   "source": [
    "list2 = [34, 67, 'tech', 'pro', 9.5, 12, 5.67, 'education']\n",
    "int_list = []\n",
    "for i in list2:\n",
    "    if isinstance(i, int):\n",
    "        int_list.append(i)\n",
    "print(int_list)"
   ]
  },
  {
   "cell_type": "code",
   "execution_count": 19,
   "id": "decbe7cf",
   "metadata": {},
   "outputs": [
    {
     "data": {
      "text/plain": [
       "[34, 67, 12]"
      ]
     },
     "execution_count": 19,
     "metadata": {},
     "output_type": "execute_result"
    }
   ],
   "source": [
    "list2 = [34, 67, 'tech', 'pro', 9.5, 12, 5.67, 'education']\n",
    "[i for i in list2 if isinstance(i, int)]"
   ]
  },
  {
   "cell_type": "code",
   "execution_count": 21,
   "id": "ac6bdc5c",
   "metadata": {},
   "outputs": [
    {
     "data": {
      "text/plain": [
       "['tech', 'pro', 'education']"
      ]
     },
     "execution_count": 21,
     "metadata": {},
     "output_type": "execute_result"
    }
   ],
   "source": [
    "list2 = [34, 67, 'tech', 'pro', 9.5, 12, 5.67, 'education']\n",
    "[i for i in list2 if isinstance(i, str)]"
   ]
  },
  {
   "cell_type": "code",
   "execution_count": 22,
   "id": "c0680dd1",
   "metadata": {},
   "outputs": [
    {
     "data": {
      "text/plain": [
       "[9.5, 5.67]"
      ]
     },
     "execution_count": 22,
     "metadata": {},
     "output_type": "execute_result"
    }
   ],
   "source": [
    "list2 = [34, 67, 'tech', 'pro', 9.5, 12, 5.67, 'education']\n",
    "[i for i in list2 if isinstance(i, float)]"
   ]
  },
  {
   "cell_type": "code",
   "execution_count": 23,
   "id": "6b6b1f5e",
   "metadata": {},
   "outputs": [
    {
     "name": "stdout",
     "output_type": "stream",
     "text": [
      "[9, 4489, 34, 81, 6, 1, 25, 78, 8, 25, 9, 9, 49, 6, 34]\n"
     ]
    }
   ],
   "source": [
    "list3 = [3, 67, 34, 9, 6, 1, 5, 78, 8, 5, 3, 3, 7, 6, 34]\n",
    "a = []\n",
    "for i in list3:\n",
    "    if i % 2:\n",
    "        a.append(i**2)\n",
    "    else:\n",
    "        a.append(i)\n",
    "print(a)\n"
   ]
  },
  {
   "cell_type": "code",
   "execution_count": 24,
   "id": "db14898e",
   "metadata": {},
   "outputs": [
    {
     "data": {
      "text/plain": [
       "[9, 4489, 34, 81, 6, 1, 25, 78, 8, 25, 9, 9, 49, 6, 34]"
      ]
     },
     "execution_count": 24,
     "metadata": {},
     "output_type": "execute_result"
    }
   ],
   "source": [
    "[i**2 if i % 2 else i for i in list3]"
   ]
  },
  {
   "cell_type": "code",
   "execution_count": 27,
   "id": "28dfb3fa",
   "metadata": {},
   "outputs": [
    {
     "name": "stdout",
     "output_type": "stream",
     "text": [
      "['MICAH', 'JERRY', 'Utah', 'Ben', 'GREECE', 'Iowa']\n"
     ]
    }
   ],
   "source": [
    "names = ['micah', 'jerry', 'utah', 'ben', 'greece', 'iowa']\n",
    "resultant_list = []\n",
    "for i in names:\n",
    "    if len(i) >= 5:\n",
    "        resultant_list.append(i.upper())\n",
    "    else:\n",
    "        resultant_list.append(i.capitalize())\n",
    "print(resultant_list)"
   ]
  },
  {
   "cell_type": "code",
   "execution_count": 29,
   "id": "02d175e7",
   "metadata": {},
   "outputs": [
    {
     "data": {
      "text/plain": [
       "['MICAH', 'JERRY', 'Utah', 'Ben', 'GREECE', 'Iowa']"
      ]
     },
     "execution_count": 29,
     "metadata": {},
     "output_type": "execute_result"
    }
   ],
   "source": [
    "[i.upper() if len(i) >= 5 else i.capitalize() for i in names]"
   ]
  },
  {
   "cell_type": "code",
   "execution_count": 30,
   "id": "6a32e4d8",
   "metadata": {},
   "outputs": [
    {
     "name": "stdout",
     "output_type": "stream",
     "text": [
      "hw fierro-math checked\n",
      "hw fierro-science checked\n",
      "hw mehmet-math checked\n",
      "hw mehmet-science checked\n",
      "hw ebrunur-math checked\n",
      "hw ebrunur-science checked\n"
     ]
    }
   ],
   "source": [
    "students = ['fierro', 'mehmet', 'ebrunur']\n",
    "subjects = ['math', 'science']\n",
    "for i in students:\n",
    "    for j in subjects:\n",
    "        print(f'hw {i}-{j} checked')"
   ]
  },
  {
   "cell_type": "code",
   "execution_count": 31,
   "id": "b1811daa",
   "metadata": {},
   "outputs": [
    {
     "data": {
      "text/plain": [
       "['hw fierro-math checked',\n",
       " 'hw fierro-science checked',\n",
       " 'hw mehmet-math checked',\n",
       " 'hw mehmet-science checked',\n",
       " 'hw ebrunur-math checked',\n",
       " 'hw ebrunur-science checked']"
      ]
     },
     "execution_count": 31,
     "metadata": {},
     "output_type": "execute_result"
    }
   ],
   "source": [
    "[f'hw {i}-{j} checked' for i in students for j in subjects]"
   ]
  },
  {
   "cell_type": "code",
   "execution_count": 43,
   "id": "35977d60",
   "metadata": {},
   "outputs": [
    {
     "name": "stdout",
     "output_type": "stream",
     "text": [
      "407 is an Armstrong number.\n"
     ]
    }
   ],
   "source": [
    "num = input('Please provide a number to check if it is an Armstrong number or not.')\n",
    "digit = len(num)\n",
    "total = 0\n",
    "for i in num:\n",
    "    total += int(i) ** digit\n",
    "if total == int(num): \n",
    "    print(f'{num} is an Armstrong number.')\n",
    "else:\n",
    "    print(f'{num} is not an Armstrong number.')"
   ]
  },
  {
   "cell_type": "code",
   "execution_count": 47,
   "id": "c9dcca87",
   "metadata": {},
   "outputs": [
    {
     "name": "stdout",
     "output_type": "stream",
     "text": [
      "[64, 0, 343]\n",
      "407 is an Armstrong number.\n"
     ]
    }
   ],
   "source": [
    "num = input('Please provide a number to check if it is an Armstrong number or not.')\n",
    "digit = len(num)\n",
    "a = [int(i) ** digit for i in num]\n",
    "print(a)\n",
    "total = sum([int(i) ** digit for i in num])\n",
    "if total == int(num): \n",
    "    print(f'{num} is an Armstrong number.')\n",
    "else:\n",
    "    print(f'{num} is not an Armstrong number.')"
   ]
  },
  {
   "cell_type": "code",
   "execution_count": 49,
   "id": "71b5d1b0",
   "metadata": {},
   "outputs": [],
   "source": [
    "number_list = [48, 10, 11, 21, 36, 5, 6, 52, 28, 29,\n",
    "         53, 54, 45, 19, 20, 47, 55, 39, 41, 7, \n",
    "         9, 17, 26, 27, 42, 22, 37, 51, 46, 18, \n",
    "         44, 30, 34, 13, 15, 35, 33, 16, 50, 24]"
   ]
  },
  {
   "cell_type": "code",
   "execution_count": 50,
   "id": "4c49dd36",
   "metadata": {},
   "outputs": [
    {
     "data": {
      "text/plain": [
       "55"
      ]
     },
     "execution_count": 50,
     "metadata": {},
     "output_type": "execute_result"
    }
   ],
   "source": [
    "max_num = max(number_list)\n",
    "max_num"
   ]
  },
  {
   "cell_type": "code",
   "execution_count": null,
   "id": "116d2275",
   "metadata": {},
   "outputs": [
    {
     "data": {
      "text/plain": [
       "5"
      ]
     },
     "execution_count": 51,
     "metadata": {},
     "output_type": "execute_result"
    }
   ],
   "source": [
    "min_num = min(number_list)\n",
    "min_num"
   ]
  },
  {
   "cell_type": "code",
   "execution_count": 52,
   "id": "fb0ff792",
   "metadata": {},
   "outputs": [
    {
     "data": {
      "text/plain": [
       "[8, 12, 14, 23, 25, 31, 32, 38, 40, 43, 49]"
      ]
     },
     "execution_count": 52,
     "metadata": {},
     "output_type": "execute_result"
    }
   ],
   "source": [
    "missing_nums = []\n",
    "for i in range(min_num, max_num):\n",
    "    if i not in number_list:\n",
    "        missing_nums.append(i)\n",
    "missing_nums"
   ]
  },
  {
   "cell_type": "code",
   "execution_count": 55,
   "id": "625cc864",
   "metadata": {},
   "outputs": [
    {
     "data": {
      "text/plain": [
       "[8, 12, 14, 23, 25, 31, 32, 38, 40, 43, 49]"
      ]
     },
     "execution_count": 55,
     "metadata": {},
     "output_type": "execute_result"
    }
   ],
   "source": [
    "[i for i in range(min_num, max_num) if i not in number_list]"
   ]
  },
  {
   "cell_type": "code",
   "execution_count": 56,
   "id": "e2a25f34",
   "metadata": {},
   "outputs": [
    {
     "data": {
      "text/plain": [
       "[8, 12, 14, 23, 25, 31, 32, 38, 40, 43, 49]"
      ]
     },
     "execution_count": 56,
     "metadata": {},
     "output_type": "execute_result"
    }
   ],
   "source": [
    "missing_nums = []\n",
    "for i in range(min_num, max_num):\n",
    "    if i in number_list:\n",
    "        continue\n",
    "    missing_nums.append(i)\n",
    "missing_nums"
   ]
  },
  {
   "cell_type": "code",
   "execution_count": 57,
   "id": "2c2d546d",
   "metadata": {},
   "outputs": [
    {
     "data": {
      "text/plain": [
       "[5,\n",
       " 6,\n",
       " 7,\n",
       " 8,\n",
       " 9,\n",
       " 10,\n",
       " 11,\n",
       " 12,\n",
       " 13,\n",
       " 14,\n",
       " 15,\n",
       " 16,\n",
       " 17,\n",
       " 18,\n",
       " 19,\n",
       " 20,\n",
       " 21,\n",
       " 22,\n",
       " 23,\n",
       " 24,\n",
       " 25,\n",
       " 26,\n",
       " 27,\n",
       " 28,\n",
       " 29,\n",
       " 30,\n",
       " 31,\n",
       " 32,\n",
       " 33,\n",
       " 34,\n",
       " 35,\n",
       " 36,\n",
       " 37,\n",
       " 38,\n",
       " 39,\n",
       " 40,\n",
       " 41,\n",
       " 42,\n",
       " 43,\n",
       " 44,\n",
       " 45,\n",
       " 46,\n",
       " 47,\n",
       " 48,\n",
       " 49,\n",
       " 50,\n",
       " 51,\n",
       " 52,\n",
       " 53,\n",
       " 54]"
      ]
     },
     "execution_count": 57,
     "metadata": {},
     "output_type": "execute_result"
    }
   ],
   "source": [
    "list(range(min_num, max_num))"
   ]
  },
  {
   "cell_type": "code",
   "execution_count": 59,
   "id": "e239bff7",
   "metadata": {},
   "outputs": [
    {
     "name": "stdout",
     "output_type": "stream",
     "text": [
      "{5, 6, 7, 8, 9, 10, 11, 12, 13, 14, 15, 16, 17, 18, 19, 20, 21, 22, 23, 24, 25, 26, 27, 28, 29, 30, 31, 32, 33, 34, 35, 36, 37, 38, 39, 40, 41, 42, 43, 44, 45, 46, 47, 48, 49, 50, 51, 52, 53, 54}\n"
     ]
    }
   ],
   "source": [
    "print(set(range(min_num, max_num)))"
   ]
  },
  {
   "cell_type": "code",
   "execution_count": 60,
   "id": "0c3f11c5",
   "metadata": {},
   "outputs": [
    {
     "name": "stdout",
     "output_type": "stream",
     "text": [
      "{5, 6, 7, 9, 10, 11, 13, 15, 16, 17, 18, 19, 20, 21, 22, 24, 26, 27, 28, 29, 30, 33, 34, 35, 36, 37, 39, 41, 42, 44, 45, 46, 47, 48, 50, 51, 52, 53, 54, 55}\n"
     ]
    }
   ],
   "source": [
    "print(set(number_list))"
   ]
  },
  {
   "cell_type": "code",
   "execution_count": 63,
   "id": "202989b4",
   "metadata": {},
   "outputs": [
    {
     "data": {
      "text/plain": [
       "{8, 12, 14, 23, 25, 31, 32, 38, 40, 43, 49}"
      ]
     },
     "execution_count": 63,
     "metadata": {},
     "output_type": "execute_result"
    }
   ],
   "source": [
    "set(range(min_num, max_num)) - set(number_list)"
   ]
  },
  {
   "cell_type": "code",
   "execution_count": 65,
   "id": "cbc6be61",
   "metadata": {},
   "outputs": [
    {
     "name": "stdout",
     "output_type": "stream",
     "text": [
      "Multiplication table for: 1\n",
      "1 x 0 = 0\n",
      "1 x 1 = 1\n",
      "1 x 2 = 2\n",
      "1 x 3 = 3\n",
      "1 x 4 = 4\n",
      "1 x 5 = 5\n",
      "1 x 6 = 6\n",
      "1 x 7 = 7\n",
      "1 x 8 = 8\n",
      "1 x 9 = 9\n",
      "1 x 10 = 10\n",
      "Multiplication table for: 2\n",
      "2 x 0 = 0\n",
      "2 x 1 = 2\n",
      "2 x 2 = 4\n",
      "2 x 3 = 6\n",
      "2 x 4 = 8\n",
      "2 x 5 = 10\n",
      "2 x 6 = 12\n",
      "2 x 7 = 14\n",
      "2 x 8 = 16\n",
      "2 x 9 = 18\n",
      "2 x 10 = 20\n",
      "Multiplication table for: 3\n",
      "3 x 0 = 0\n",
      "3 x 1 = 3\n",
      "3 x 2 = 6\n",
      "3 x 3 = 9\n",
      "3 x 4 = 12\n",
      "3 x 5 = 15\n",
      "3 x 6 = 18\n",
      "3 x 7 = 21\n",
      "3 x 8 = 24\n",
      "3 x 9 = 27\n",
      "3 x 10 = 30\n",
      "Multiplication table for: 4\n",
      "4 x 0 = 0\n",
      "4 x 1 = 4\n",
      "4 x 2 = 8\n",
      "4 x 3 = 12\n",
      "4 x 4 = 16\n",
      "4 x 5 = 20\n",
      "4 x 6 = 24\n",
      "4 x 7 = 28\n",
      "4 x 8 = 32\n",
      "4 x 9 = 36\n",
      "4 x 10 = 40\n",
      "Multiplication table for: 5\n",
      "5 x 0 = 0\n",
      "5 x 1 = 5\n",
      "5 x 2 = 10\n",
      "5 x 3 = 15\n",
      "5 x 4 = 20\n",
      "5 x 5 = 25\n",
      "5 x 6 = 30\n",
      "5 x 7 = 35\n",
      "5 x 8 = 40\n",
      "5 x 9 = 45\n",
      "5 x 10 = 50\n",
      "Multiplication table for: 6\n",
      "6 x 0 = 0\n",
      "6 x 1 = 6\n",
      "6 x 2 = 12\n",
      "6 x 3 = 18\n",
      "6 x 4 = 24\n",
      "6 x 5 = 30\n",
      "6 x 6 = 36\n",
      "6 x 7 = 42\n",
      "6 x 8 = 48\n",
      "6 x 9 = 54\n",
      "6 x 10 = 60\n",
      "Multiplication table for: 7\n",
      "7 x 0 = 0\n",
      "7 x 1 = 7\n",
      "7 x 2 = 14\n",
      "7 x 3 = 21\n",
      "7 x 4 = 28\n",
      "7 x 5 = 35\n",
      "7 x 6 = 42\n",
      "7 x 7 = 49\n",
      "7 x 8 = 56\n",
      "7 x 9 = 63\n",
      "7 x 10 = 70\n",
      "Multiplication table for: 8\n",
      "8 x 0 = 0\n",
      "8 x 1 = 8\n",
      "8 x 2 = 16\n",
      "8 x 3 = 24\n",
      "8 x 4 = 32\n",
      "8 x 5 = 40\n",
      "8 x 6 = 48\n",
      "8 x 7 = 56\n",
      "8 x 8 = 64\n",
      "8 x 9 = 72\n",
      "8 x 10 = 80\n",
      "Multiplication table for: 9\n",
      "9 x 0 = 0\n",
      "9 x 1 = 9\n",
      "9 x 2 = 18\n",
      "9 x 3 = 27\n",
      "9 x 4 = 36\n",
      "9 x 5 = 45\n",
      "9 x 6 = 54\n",
      "9 x 7 = 63\n",
      "9 x 8 = 72\n",
      "9 x 9 = 81\n",
      "9 x 10 = 90\n",
      "Multiplication table for: 10\n",
      "10 x 0 = 0\n",
      "10 x 1 = 10\n",
      "10 x 2 = 20\n",
      "10 x 3 = 30\n",
      "10 x 4 = 40\n",
      "10 x 5 = 50\n",
      "10 x 6 = 60\n",
      "10 x 7 = 70\n",
      "10 x 8 = 80\n",
      "10 x 9 = 90\n",
      "10 x 10 = 100\n"
     ]
    }
   ],
   "source": [
    "for i in range(1, 11):\n",
    "    print(f'Multiplication table for: {i}')\n",
    "    for j in range(11):\n",
    "        print(f'{i} x {j} = {i * j}')\n"
   ]
  }
 ],
 "metadata": {
  "kernelspec": {
   "display_name": "base",
   "language": "python",
   "name": "python3"
  },
  "language_info": {
   "codemirror_mode": {
    "name": "ipython",
    "version": 3
   },
   "file_extension": ".py",
   "mimetype": "text/x-python",
   "name": "python",
   "nbconvert_exporter": "python",
   "pygments_lexer": "ipython3",
   "version": "3.13.5"
  }
 },
 "nbformat": 4,
 "nbformat_minor": 5
}
