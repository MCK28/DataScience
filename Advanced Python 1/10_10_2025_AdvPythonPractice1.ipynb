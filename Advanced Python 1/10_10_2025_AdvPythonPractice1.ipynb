{
 "cells": [
  {
   "cell_type": "code",
   "execution_count": 4,
   "id": "bb7535d3",
   "metadata": {},
   "outputs": [
    {
     "name": "stdout",
     "output_type": "stream",
     "text": [
      "0\n",
      "1\n",
      "2\n",
      "3\n",
      "4\n",
      "5\n",
      "6\n",
      "7\n"
     ]
    }
   ],
   "source": [
    "for i in range(8):\n",
    "    print(i)"
   ]
  },
  {
   "cell_type": "code",
   "execution_count": 3,
   "id": "e49caba0",
   "metadata": {},
   "outputs": [
    {
     "name": "stdout",
     "output_type": "stream",
     "text": [
      "0\n",
      "1\n",
      "2\n",
      "3\n",
      "4\n",
      "5\n",
      "6\n",
      "7\n"
     ]
    }
   ],
   "source": [
    "i = 0\n",
    "while i < 8:\n",
    "    print(i)\n",
    "    i+= 1"
   ]
  },
  {
   "cell_type": "code",
   "execution_count": 5,
   "id": "46c6d40c",
   "metadata": {},
   "outputs": [
    {
     "name": "stdout",
     "output_type": "stream",
     "text": [
      "28\n"
     ]
    }
   ],
   "source": [
    "total = 0\n",
    "for i in range(8):\n",
    "    total += i\n",
    "print(total)"
   ]
  },
  {
   "cell_type": "code",
   "execution_count": 6,
   "id": "23c9b3a4",
   "metadata": {},
   "outputs": [
    {
     "data": {
      "text/plain": [
       "28"
      ]
     },
     "execution_count": 6,
     "metadata": {},
     "output_type": "execute_result"
    }
   ],
   "source": [
    "sum(range(8))"
   ]
  },
  {
   "cell_type": "code",
   "execution_count": 13,
   "id": "3f45dbfa",
   "metadata": {},
   "outputs": [
    {
     "name": "stdout",
     "output_type": "stream",
     "text": [
      "[1, 2, 4, 5, 8, 10, 20, 25, 40, 50, 100, 125, 200, 250, 500, 625, 1000, 1250, 2500, 5000]\n"
     ]
    }
   ],
   "source": [
    "divisables = []\n",
    "x = int(input('please enter a number: '))\n",
    "i = 1\n",
    "while i <= (x/2):\n",
    "    if x % i == 0:\n",
    "        divisables.append(i)\n",
    "    i += 1 \n",
    "\n",
    "divisables.append(x)\n",
    "print(divisables)"
   ]
  },
  {
   "cell_type": "code",
   "execution_count": null,
   "id": "b5e2b15e",
   "metadata": {},
   "outputs": [
    {
     "name": "stdout",
     "output_type": "stream",
     "text": [
      "uidrfhuifdjn\n",
      "difjrredrf\n",
      "irjf\n"
     ]
    }
   ],
   "source": [
    "exit = True\n",
    "while exit:\n",
    "    fruit = input(\"please enter a fruit name or type 'e' to quit\")\n",
    "    if fruit == 'e':\n",
    "        exit = False\n",
    "    else:\n",
    "        print(fruit)    "
   ]
  },
  {
   "cell_type": "code",
   "execution_count": 21,
   "metadata": {},
   "outputs": [
    {
     "name": "stdout",
     "output_type": "stream",
     "text": [
      "apple\n",
      "2\n",
      "there are 2 vowels in apple.\n"
     ]
    }
   ],
   "source": [
    "exit = True\n",
    "while exit:\n",
    "    fruit = input(\"please enter a fruit name or type 'e' to quit\")\n",
    "    if fruit == 'e':\n",
    "        exit = False\n",
    "    else:\n",
    "        print(fruit)\n",
    "        num_of_vowels = 0\n",
    "        numv = len([j for j in fruit if j in ['a', 'e', 'o', 'u', 'i' ]])\n",
    "        print(numv)\n",
    "        for j in fruit:\n",
    "            if j in ['a', 'e', 'o', 'u', 'i' ]:\n",
    "                num_of_vowels += 1\n",
    "        print(f'there are {num_of_vowels} vowels in {fruit}.')\n"
   ]
  },
  {
   "cell_type": "code",
   "execution_count": 25,
   "id": "d199b3dd",
   "metadata": {},
   "outputs": [
    {
     "name": "stdout",
     "output_type": "stream",
     "text": [
      "Finland's capital is Helsinki. Please try again for the next one.\n",
      "Your score is: 10\n",
      "Exiting\n"
     ]
    }
   ],
   "source": [
    "country_capitals = {\n",
    "'Turkey': 'Ankara',\n",
    "'France': 'Paris',\n",
    "'Germany': 'Berlin',\n",
    "'Italy': 'Rome',\n",
    "'Spain': 'Madrid',\n",
    "'Portugal': 'Lisbon',\n",
    "'Netherlands': 'Amsterdam',\n",
    "'Belgium': 'Brussels',\n",
    "'Switzerland': 'Bern',\n",
    "'Austria': 'Vienna',\n",
    "'Greece': 'Athens',\n",
    "'England': 'London',\n",
    "'Sweden': 'Stockholm',\n",
    "'Norway': 'Oslo',\n",
    "'Denmark': 'Copenhagen',\n",
    "'Finland': 'Helsinki',\n",
    "'Russia': 'Moscow',\n",
    "'China': 'Beijing',\n",
    "'Japan': 'Tokyo',\n",
    "'India': 'New Delhi'\n",
    "}\n",
    "\n",
    "import random\n",
    "while True:\n",
    "    country, capital = random.choice(list(country_capitals.items()))\n",
    "    \n",
    "    capital_guess = input(f\"Please enter the capital of {country}:\\n To quit press 'q'.\")\n",
    "\n",
    "    if capital_guess == 'q':\n",
    "        print('Exiting')\n",
    "        break\n",
    "    elif capital_guess.title == capital:\n",
    "        score += 10\n",
    "        print(f\"Congratulations, {country}'s capotal is {capital}\")\n",
    "    elif capital_guess.title != capital:\n",
    "        print(f\"{country}'s capital is {capital}. Please try again for the next one.\")\n",
    "    else:\n",
    "        print('smth went wrong.')\n",
    "    \n",
    "    print(f'Your score is: {score}')\n",
    "\n",
    "    "
   ]
  },
  {
   "cell_type": "code",
   "execution_count": 27,
   "id": "02163e78",
   "metadata": {},
   "outputs": [
    {
     "name": "stdout",
     "output_type": "stream",
     "text": [
      "['AdAnA', 'kebAp', 'bAhce']\n"
     ]
    }
   ],
   "source": [
    "words = ['adana', 'kebap', 'bahce']\n",
    "a_capital = [word.replace('a', 'A') for word in words]\n",
    "print(a_capital)"
   ]
  },
  {
   "cell_type": "code",
   "execution_count": 29,
   "id": "6e59e613",
   "metadata": {},
   "outputs": [
    {
     "data": {
      "text/plain": [
       "['AdAnA', 'kebAp', 'bAhce']"
      ]
     },
     "execution_count": 29,
     "metadata": {},
     "output_type": "execute_result"
    }
   ],
   "source": [
    "words = ['adana', 'kebap', 'bahce']\n",
    "new_words = []\n",
    "for word in words:\n",
    "    new_words.append(word.replace('a', 'A'))\n",
    "new_words"
   ]
  },
  {
   "cell_type": "code",
   "execution_count": 32,
   "id": "2a616494",
   "metadata": {},
   "outputs": [
    {
     "name": "stdout",
     "output_type": "stream",
     "text": [
      "220 and 284 are amicable numbers, num1 divisors sum: 284, num2 divisors sum: 220\n"
     ]
    }
   ],
   "source": [
    "num1 = 220\n",
    "num2 = 284\n",
    "num1_divisors = []\n",
    "num2_divisors = []\n",
    "\n",
    "for i in range(1, num1):\n",
    "    if num1 % i == 0:\n",
    "        num1_divisors.append(i)\n",
    "\n",
    "for i in range(1, num2):\n",
    "    if num2 % i == 0:\n",
    "        num2_divisors.append(i)\n",
    "\n",
    "if sum(num1_divisors) == num2 and sum(num2_divisors):\n",
    "    print(f\"{num1} and {num2} are amicable numbers, num1 divisors sum: {sum(num1_divisors)}, num2 divisors sum: {sum(num2_divisors)}\")\n",
    "else:\n",
    "    print(f\"{num1} and {num2} aren't amicable numbers.\")"
   ]
  },
  {
   "cell_type": "code",
   "execution_count": 33,
   "id": "3102251f",
   "metadata": {},
   "outputs": [
    {
     "name": "stdout",
     "output_type": "stream",
     "text": [
      "Ali's average: 81.67\n",
      "Ayse's average: 53.33\n",
      "Mehmet's average: 89.00\n",
      "Zeynep's average: 51.67\n",
      " Successful students: ['Ali', 'Mehmet']\n",
      "Unsuccessful students: ['Ayse', 'Zeynep']\n"
     ]
    }
   ],
   "source": [
    "students_grades = {\n",
    "    \"Ali\": [70, 85, 90],\n",
    "    \"Ayse\": [45, 60, 55],\n",
    "    \"Mehmet\": [80, 95, 92],\n",
    "    \"Zeynep\": [50, 40, 65]\n",
    "}\n",
    "\n",
    "successful = []\n",
    "unsuccessful = []\n",
    "\n",
    "for student, grades in students_grades.items():\n",
    "    avg = sum(grades) / len(grades)\n",
    "    print(f\"{student}'s average: {avg:.2f}\")\n",
    "\n",
    "    if avg >= 60:\n",
    "        successful.append(student)\n",
    "    else:\n",
    "        unsuccessful.append(student)\n",
    "\n",
    "print(\" Successful students:\", successful)\n",
    "print(\"Unsuccessful students:\", unsuccessful)"
   ]
  },
  {
   "cell_type": "code",
   "execution_count": 39,
   "id": "cc48c4df",
   "metadata": {},
   "outputs": [
    {
     "data": {
      "text/plain": [
       "{'Ali': 'Success', 'Ayse': 'Failed', 'Mehmet': 'Success', 'Zeynep': 'Failed'}"
      ]
     },
     "execution_count": 39,
     "metadata": {},
     "output_type": "execute_result"
    }
   ],
   "source": [
    "students_grades = {\n",
    "    \"Ali\": [70, 85, 90],\n",
    "    \"Ayse\": [45, 60, 55],\n",
    "    \"Mehmet\": [80, 95, 92],\n",
    "    \"Zeynep\": [50, 40, 65]\n",
    "}\n",
    "\n",
    "{name: 'Success' if round(sum(notes) / 3) >= 60 else 'Failed' for name, notes in students_grades.items()}\n"
   ]
  },
  {
   "cell_type": "code",
   "execution_count": 44,
   "id": "9b0e9fee",
   "metadata": {},
   "outputs": [
    {
     "data": {
      "text/plain": [
       "{'Ali': 'Passed', 'Ayse': 'Failed', 'Mehmet': 'Passed', 'Zeynep': 'Failed'}"
      ]
     },
     "execution_count": 44,
     "metadata": {},
     "output_type": "execute_result"
    }
   ],
   "source": [
    "students_grades = {\n",
    "    \"Ali\": [70, 85, 90],\n",
    "    \"Ayse\": [45, 60, 55],\n",
    "    \"Mehmet\": [80, 95, 92],\n",
    "    \"Zeynep\": [50, 40, 65]\n",
    "}\n",
    "\n",
    "for name, notes in students_grades.items():\n",
    "    if round(sum(notes)) / 3 >= 60:\n",
    "        students_grades.update({name: 'Passed'})\n",
    "    else:\n",
    "        students_grades.update({name: 'Failed'})\n",
    "\n",
    "students_grades"
   ]
  },
  {
   "cell_type": "code",
   "execution_count": 45,
   "id": "ede21ae0",
   "metadata": {},
   "outputs": [
    {
     "name": "stdout",
     "output_type": "stream",
     "text": [
      "Vehicles that havent passed the checkpoint:\n",
      "07JKL101\n",
      "38LMN707\n",
      "34XYZ606\n"
     ]
    }
   ],
   "source": [
    "on_the_road = {\n",
    "    '34ABC123', '06DEF456', '35GHI789', '07JKL101', '41MNO202',\n",
    "    '34PQR303', '45STU404', '32VWX505', '34XYZ606', '38LMN707'\n",
    "}\n",
    "\n",
    "checkpoint = {\n",
    "    '34ABC123', '06DEF456', '41MNO202', '34PQR303', '45STU404',\n",
    "    '35GHI789', '32VWX505'\n",
    "}\n",
    "\n",
    "not_passed = on_the_road - checkpoint\n",
    "\n",
    "print(\"Vehicles that havent passed the checkpoint:\")\n",
    "for vehicle in not_passed:\n",
    "    print(vehicle)"
   ]
  },
  {
   "cell_type": "code",
   "execution_count": 3,
   "id": "4901b29c",
   "metadata": {},
   "outputs": [
    {
     "name": "stdout",
     "output_type": "stream",
     "text": [
      "\n",
      "**\n",
      "****\n",
      "******\n",
      "********\n"
     ]
    }
   ],
   "source": [
    "for row in range(5):\n",
    "    print(\"**\"*row)"
   ]
  },
  {
   "cell_type": "code",
   "execution_count": 4,
   "id": "d1e9d94e",
   "metadata": {},
   "outputs": [
    {
     "name": "stdout",
     "output_type": "stream",
     "text": [
      "0 1 2 3 4 "
     ]
    }
   ],
   "source": [
    "n = 5\n",
    "for i in range(n):\n",
    "    print(i, end = \" \")\n",
    "    n = 2"
   ]
  },
  {
   "cell_type": "code",
   "execution_count": 5,
   "id": "1c2e908e",
   "metadata": {},
   "outputs": [
    {
     "name": "stdout",
     "output_type": "stream",
     "text": [
      "finished\n"
     ]
    }
   ],
   "source": [
    "while True:\n",
    "    break\n",
    "    print(\"looping\")\n",
    "print(\"finished\")"
   ]
  },
  {
   "cell_type": "code",
   "execution_count": 6,
   "id": "540f2049",
   "metadata": {},
   "outputs": [
    {
     "name": "stdout",
     "output_type": "stream",
     "text": [
      "0\n"
     ]
    }
   ],
   "source": [
    "for i in range(5):\n",
    "    break\n",
    "print(i)"
   ]
  },
  {
   "cell_type": "code",
   "execution_count": 7,
   "id": "91825153",
   "metadata": {},
   "outputs": [
    {
     "name": "stdout",
     "output_type": "stream",
     "text": [
      "3\n",
      "2\n",
      "1\n",
      "done\n"
     ]
    }
   ],
   "source": [
    "n = 3\n",
    "while n:\n",
    "    print(n)\n",
    "    n -= 1\n",
    "else:\n",
    "    print('done')"
   ]
  },
  {
   "cell_type": "code",
   "execution_count": 9,
   "id": "d8d47b1b",
   "metadata": {},
   "outputs": [
    {
     "name": "stdout",
     "output_type": "stream",
     "text": [
      "Thank you for entering your age. Your records are now up to date.\n"
     ]
    }
   ],
   "source": [
    "age = int(input(\"Please enter your age: \"))\n",
    "while age < 10 and age > 85:\n",
    "    print(\"The age entered is not valid in this application!\")\n",
    "    age = int(input(\"Please enter your age again: \"))\n",
    "print(\"Thank you for entering your age. Your records are now up to date.\")"
   ]
  },
  {
   "cell_type": "code",
   "execution_count": null,
   "id": "e06f559d",
   "metadata": {},
   "outputs": [],
   "source": []
  },
  {
   "cell_type": "code",
   "execution_count": null,
   "id": "0a3a5dbd",
   "metadata": {},
   "outputs": [],
   "source": []
  },
  {
   "cell_type": "code",
   "execution_count": null,
   "id": "641f18c5",
   "metadata": {},
   "outputs": [],
   "source": []
  }
 ],
 "metadata": {
  "kernelspec": {
   "display_name": "base",
   "language": "python",
   "name": "python3"
  },
  "language_info": {
   "codemirror_mode": {
    "name": "ipython",
    "version": 3
   },
   "file_extension": ".py",
   "mimetype": "text/x-python",
   "name": "python",
   "nbconvert_exporter": "python",
   "pygments_lexer": "ipython3",
   "version": "3.13.5"
  }
 },
 "nbformat": 4,
 "nbformat_minor": 5
}
