{
 "cells": [
  {
   "cell_type": "code",
   "execution_count": 1,
   "id": "5beb99f6",
   "metadata": {},
   "outputs": [
    {
     "name": "stdout",
     "output_type": "stream",
     "text": [
      "The word you entered is mehmet\n"
     ]
    }
   ],
   "source": [
    "word = input(\"Please enter a word(and provide a q to quit.)\")\n",
    "while word != 'q':\n",
    "    print(f'The word you entered is {word}')\n",
    "    break"
   ]
  },
  {
   "cell_type": "code",
   "execution_count": 3,
   "id": "7dc28c20",
   "metadata": {},
   "outputs": [
    {
     "name": "stdout",
     "output_type": "stream",
     "text": [
      "The word you entered is mehmet\n",
      "The word you entered is mehmet\n",
      "The word you entered is mehmet\n",
      "Quitting the program\n"
     ]
    }
   ],
   "source": [
    "while True:\n",
    "    word = input(\"Please enter a word(and provide a q to quit.)\")\n",
    "    if word == 'q':\n",
    "        print(\"Quitting the program\")\n",
    "        break\n",
    "    else:\n",
    "        print(f'The word you entered is {word}')"
   ]
  },
  {
   "cell_type": "code",
   "execution_count": 4,
   "id": "ab196f98",
   "metadata": {},
   "outputs": [
    {
     "name": "stdout",
     "output_type": "stream",
     "text": [
      "The word you entered is fghfgh\n",
      "The word you entered is guilgujl\n",
      "The word you entered is gjklgj\n",
      "The word you entered is Q\n",
      "Quitting the program\n"
     ]
    }
   ],
   "source": [
    "while True:\n",
    "    word = input(\"Please enter a word(and provide a q to quit.)\")\n",
    "    if word == 'q':\n",
    "        print(\"Quitting the program\")\n",
    "        break\n",
    "    print(f'The word you entered is {word}')"
   ]
  },
  {
   "cell_type": "code",
   "execution_count": 6,
   "id": "7a6c6402",
   "metadata": {},
   "outputs": [
    {
     "name": "stdout",
     "output_type": "stream",
     "text": [
      "Your number is 6 and its positive \n",
      "Your number is -3 and its negative \n",
      "Your number is 7 and its positive \n"
     ]
    }
   ],
   "source": [
    "\n",
    "while True:\n",
    "    number = int(input(\"Please enter a number: \"))\n",
    "    if number > 0:\n",
    "        print(f\"Your number is {number} and its positive \")\n",
    "    elif number < 0:\n",
    "        print(f\"Your number is {number} and its negative \")\n",
    "    elif number == 0:\n",
    "        break"
   ]
  },
  {
   "cell_type": "code",
   "execution_count": null,
   "id": "9bc93ca0",
   "metadata": {},
   "outputs": [
    {
     "name": "stdout",
     "output_type": "stream",
     "text": [
      "The double of positive numbers: [4, 6, 12, 24, 10, 2, 18, 10, 44, 82, 246]\n",
      "The double of positive numbers: [64, 49729, 8100, 484, 8281]\n"
     ]
    }
   ],
   "source": [
    "numbers = [2, 3, 6, 12, -8, -223, 5, 1, 9, 5, 22, 41, 123, -90, -22, -91]\n",
    "index = 0\n",
    "squares = []\n",
    "doubles = []\n",
    "while index < len(numbers):\n",
    "    if numbers[index] < 0:\n",
    "        squares.append(numbers[index]**2)\n",
    "    else:\n",
    "        doubles.append(numbers[index]*2)\n",
    "    index += 1\n",
    "\n",
    "print(f'The double of positive numbers: {doubles}')\n",
    "print(f'The square of positive numbers: {squares}')"
   ]
  },
  {
   "cell_type": "code",
   "execution_count": 8,
   "id": "ad41de0b",
   "metadata": {},
   "outputs": [],
   "source": [
    "import random"
   ]
  },
  {
   "cell_type": "code",
   "execution_count": 9,
   "id": "36621bb6",
   "metadata": {},
   "outputs": [
    {
     "data": {
      "text/plain": [
       "0.4721535832844984"
      ]
     },
     "execution_count": 9,
     "metadata": {},
     "output_type": "execute_result"
    }
   ],
   "source": [
    "random.random()"
   ]
  },
  {
   "cell_type": "code",
   "execution_count": 46,
   "id": "bf821f0d",
   "metadata": {},
   "outputs": [
    {
     "data": {
      "text/plain": [
       "4"
      ]
     },
     "execution_count": 46,
     "metadata": {},
     "output_type": "execute_result"
    }
   ],
   "source": [
    "random.randint(1, 8)"
   ]
  },
  {
   "cell_type": "code",
   "execution_count": 47,
   "id": "21bb9fd5",
   "metadata": {},
   "outputs": [
    {
     "data": {
      "text/plain": [
       "0.6325345634097094"
      ]
     },
     "execution_count": 47,
     "metadata": {},
     "output_type": "execute_result"
    }
   ],
   "source": [
    "random.random()"
   ]
  },
  {
   "cell_type": "code",
   "execution_count": 48,
   "id": "e5efe318",
   "metadata": {},
   "outputs": [
    {
     "data": {
      "text/plain": [
       "13.975877109632895"
      ]
     },
     "execution_count": 48,
     "metadata": {},
     "output_type": "execute_result"
    }
   ],
   "source": [
    "random.random() * 100"
   ]
  },
  {
   "cell_type": "code",
   "execution_count": 91,
   "id": "1e90dd23",
   "metadata": {},
   "outputs": [
    {
     "data": {
      "text/plain": [
       "62"
      ]
     },
     "execution_count": 91,
     "metadata": {},
     "output_type": "execute_result"
    }
   ],
   "source": [
    "int(random.random() * 100)"
   ]
  },
  {
   "cell_type": "code",
   "execution_count": 112,
   "id": "7cc729c1",
   "metadata": {},
   "outputs": [
    {
     "data": {
      "text/plain": [
       "['hello', -90]"
      ]
     },
     "execution_count": 112,
     "metadata": {},
     "output_type": "execute_result"
    }
   ],
   "source": [
    "random.sample([1, 223, True, 54, -90, 'hello', -12], 2)"
   ]
  },
  {
   "cell_type": "code",
   "execution_count": 114,
   "id": "a0009ed5",
   "metadata": {},
   "outputs": [
    {
     "data": {
      "text/plain": [
       "[1, 2, 3, 4, 5, 6, 7, 8, 9, 10]"
      ]
     },
     "execution_count": 114,
     "metadata": {},
     "output_type": "execute_result"
    }
   ],
   "source": [
    "list(range(1, 11))"
   ]
  },
  {
   "cell_type": "code",
   "execution_count": null,
   "id": "faac1d9f",
   "metadata": {},
   "outputs": [
    {
     "data": {
      "text/plain": [
       "(1, 2, 3, 4, 5, 6, 7, 8, 9, 10)"
      ]
     },
     "execution_count": 116,
     "metadata": {},
     "output_type": "execute_result"
    }
   ],
   "source": [
    "tuple(range(1, 11))"
   ]
  },
  {
   "cell_type": "code",
   "execution_count": 117,
   "id": "aa4e4a4e",
   "metadata": {},
   "outputs": [
    {
     "data": {
      "text/plain": [
       "[45, 69, 75]"
      ]
     },
     "execution_count": 117,
     "metadata": {},
     "output_type": "execute_result"
    }
   ],
   "source": [
    "random.sample(range(1, 100), 3)"
   ]
  },
  {
   "cell_type": "code",
   "execution_count": 152,
   "id": "2e643a69",
   "metadata": {},
   "outputs": [
    {
     "data": {
      "text/plain": [
       "0.9560342718892494"
      ]
     },
     "execution_count": 152,
     "metadata": {},
     "output_type": "execute_result"
    }
   ],
   "source": [
    "random.seed(2)\n",
    "\n",
    "random.random()"
   ]
  },
  {
   "cell_type": "code",
   "execution_count": 153,
   "id": "bac2cfda",
   "metadata": {},
   "outputs": [
    {
     "data": {
      "text/plain": [
       "1"
      ]
     },
     "execution_count": 153,
     "metadata": {},
     "output_type": "execute_result"
    }
   ],
   "source": [
    "random.randint(1, 11)"
   ]
  },
  {
   "cell_type": "code",
   "execution_count": 155,
   "id": "e39b2c7a",
   "metadata": {},
   "outputs": [
    {
     "name": "stdout",
     "output_type": "stream",
     "text": [
      "Welcome to the number guessing program.\n",
      "50 is higher than my number. Lower your guess.\n",
      "25 is higher than my number. Lower your guess.\n",
      "25 is higher than my number. Lower your guess.\n",
      "12 is higher than my number. Lower your guess.\n",
      "12 is higher than my number. Lower your guess.\n",
      "You've run out of guesses! GAME OVER\n",
      "6 is lower than my number. Increase your guess.\n"
     ]
    }
   ],
   "source": [
    "x = random.randint(1, 100)\n",
    "counter = 0\n",
    "start = True\n",
    "print(\"Welcome to the number guessing program.\")\n",
    "while start and counter <= 5:\n",
    "    counter += 1\n",
    "\n",
    "    user_number = int(input(\"Guess the integer I am thinking between 1 and 100.\"))\n",
    "    if user_number > x:\n",
    "        print(f\"{user_number} is higher than my number. Lower your guess.\")\n",
    "    elif user_number < x:\n",
    "        print(f\"{user_number} is lower than my number. Increase your guess.\")\n",
    "    elif user_number == x:\n",
    "        print(f\"Congratulations, the number is {x}. You guessed correctly after {counter} guesses.\")\n",
    "        start = False\n",
    "    else:\n",
    "        print(\"There is a problem, please try a valid guess.\")\n",
    "\n",
    "    \n",
    "    if counter == 5 and start:\n",
    "        print(\"You've run out of guesses! GAME OVER\")\n",
    "        "
   ]
  },
  {
   "cell_type": "code",
   "execution_count": 157,
   "id": "9f02ee24",
   "metadata": {},
   "outputs": [
    {
     "name": "stdout",
     "output_type": "stream",
     "text": [
      "As we came across a string, the loop breaks.\n",
      "The total of integers before string is: 10\n"
     ]
    }
   ],
   "source": [
    "nums = [1, 2, 3, 4, 'Techpro', 5, 6, 7]\n",
    "total = 0\n",
    "index = 0\n",
    "while index < len(nums):\n",
    "    if type(nums[index]) == str:\n",
    "        print(\"As we came across a string, the loop breaks.\")\n",
    "        break\n",
    "    else:\n",
    "        total += nums[index]\n",
    "    index += 1\n",
    "\n",
    "print(f'The total of integers before string is: {total}')"
   ]
  },
  {
   "cell_type": "code",
   "execution_count": 161,
   "id": "a65eeb5c",
   "metadata": {},
   "outputs": [
    {
     "name": "stdout",
     "output_type": "stream",
     "text": [
      "The total of integers is: 28\n"
     ]
    }
   ],
   "source": [
    "nums = [1, 2, 3, 4, 'Techpro', 5, 6, 7]\n",
    "total = 0\n",
    "index = 0\n",
    "while index < len(nums):\n",
    "    if type(nums[index]) != str:\n",
    "        total += nums[index]\n",
    "    index += 1\n",
    "\n",
    "print(f'The total of integers is: {total}')"
   ]
  },
  {
   "cell_type": "code",
   "execution_count": 163,
   "id": "9e3d1abf",
   "metadata": {},
   "outputs": [
    {
     "name": "stdout",
     "output_type": "stream",
     "text": [
      "The total of integers before string is: 28\n"
     ]
    }
   ],
   "source": [
    "nums = [1, 2, 3, 4, 'Techpro', 5, 6, 7]\n",
    "total = 0\n",
    "index = 0\n",
    "while index < len(nums):\n",
    "    if type(nums[index]) == str:\n",
    "        None\n",
    "    else:\n",
    "        total += nums[index]\n",
    "    index += 1\n",
    "\n",
    "print(f'The total of integers before string is: {total}')"
   ]
  },
  {
   "cell_type": "code",
   "execution_count": 166,
   "id": "6dd0674b",
   "metadata": {},
   "outputs": [
    {
     "name": "stdout",
     "output_type": "stream",
     "text": [
      "The total of integers before string is: 28\n"
     ]
    }
   ],
   "source": [
    "nums = [1, 2, 3, 4, 'Techpro', 5, 6, 7]\n",
    "total = 0\n",
    "index = 0\n",
    "while index < len(nums):\n",
    "    if type(nums[index]) == str:\n",
    "        index += 1\n",
    "        continue\n",
    "    else:\n",
    "        total += nums[index]\n",
    "    index += 1\n",
    "print(f'The total of integers before string is: {total}')"
   ]
  },
  {
   "cell_type": "markdown",
   "id": "57401c7c",
   "metadata": {},
   "source": [
    "## HomeWork\n",
    "\n",
    " - In the number guessing game if the difference between my guess and the random number is too high, for example more than 50, it should say either your guess is too high or too low.\n",
    "\n",
    " - In nums = [1, 2, 3, 4, 'Techpro', 5, 6, 7, 'sena', True, 'Hello']"
   ]
  },
  {
   "cell_type": "code",
   "execution_count": 167,
   "id": "ed447dcb",
   "metadata": {},
   "outputs": [
    {
     "data": {
      "text/plain": [
       "True"
      ]
     },
     "execution_count": 167,
     "metadata": {},
     "output_type": "execute_result"
    }
   ],
   "source": [
    "'a' in 'apple'"
   ]
  },
  {
   "cell_type": "code",
   "execution_count": 168,
   "id": "18711b2e",
   "metadata": {},
   "outputs": [
    {
     "data": {
      "text/plain": [
       "False"
      ]
     },
     "execution_count": 168,
     "metadata": {},
     "output_type": "execute_result"
    }
   ],
   "source": [
    "'b' in 'apple'"
   ]
  },
  {
   "cell_type": "code",
   "execution_count": 169,
   "id": "5350fdce",
   "metadata": {},
   "outputs": [
    {
     "name": "stdout",
     "output_type": "stream",
     "text": [
      "1\n",
      "2\n",
      "3\n",
      "4\n",
      "5\n"
     ]
    }
   ],
   "source": [
    "for a in [1, 2, 3, 4, 5]:\n",
    "    print(a)"
   ]
  },
  {
   "cell_type": "code",
   "execution_count": 170,
   "id": "8bc00dd7",
   "metadata": {},
   "outputs": [
    {
     "data": {
      "text/plain": [
       "5"
      ]
     },
     "execution_count": 170,
     "metadata": {},
     "output_type": "execute_result"
    }
   ],
   "source": [
    "a"
   ]
  },
  {
   "cell_type": "code",
   "execution_count": 171,
   "id": "18ba8521",
   "metadata": {},
   "outputs": [
    {
     "name": "stdout",
     "output_type": "stream",
     "text": [
      "Hello\n",
      "67\n",
      "True\n",
      "World\n"
     ]
    }
   ],
   "source": [
    "for element in ['Hello', 67, True, 'World']:\n",
    "    print(element)"
   ]
  },
  {
   "cell_type": "code",
   "execution_count": 172,
   "id": "55bbac15",
   "metadata": {},
   "outputs": [
    {
     "name": "stdout",
     "output_type": "stream",
     "text": [
      "24\n",
      "42\n",
      "68\n",
      "86\n",
      "-180\n"
     ]
    }
   ],
   "source": [
    "for number in [12, 21, 34, 43, -90]:\n",
    "    print(number*2)"
   ]
  },
  {
   "cell_type": "code",
   "execution_count": 173,
   "id": "3e7a7f31",
   "metadata": {},
   "outputs": [
    {
     "name": "stdout",
     "output_type": "stream",
     "text": [
      "4\n",
      "9\n",
      "36\n",
      "25\n",
      "1\n",
      "81\n",
      "25\n"
     ]
    }
   ],
   "source": [
    "for i in [2, 3, 6, 5, 1, 9, 5]:\n",
    "    print(i ** 2)"
   ]
  },
  {
   "cell_type": "code",
   "execution_count": 174,
   "id": "9d63b268",
   "metadata": {},
   "outputs": [
    {
     "name": "stdout",
     "output_type": "stream",
     "text": [
      "4\n",
      "9\n",
      "36\n",
      "25\n",
      "1\n",
      "81\n",
      "25\n"
     ]
    }
   ],
   "source": [
    "numbers = [2, 3, 6, 5, 1, 9, 5]\n",
    "for i in numbers:\n",
    "    print(i ** 2)"
   ]
  },
  {
   "cell_type": "code",
   "execution_count": 177,
   "id": "5b07e402",
   "metadata": {},
   "outputs": [
    {
     "name": "stdout",
     "output_type": "stream",
     "text": [
      "4\n",
      "9\n",
      "36\n",
      "25\n",
      "1\n",
      "81\n",
      "25\n"
     ]
    }
   ],
   "source": [
    "numbers = [2, 3, 6, 5, 1, 9, 5]\n",
    "i = 0\n",
    "while i < len(numbers):\n",
    "    print(numbers[i]**2)\n",
    "    i += 1"
   ]
  },
  {
   "cell_type": "code",
   "execution_count": 179,
   "id": "0e9a41ed",
   "metadata": {},
   "outputs": [
    {
     "data": {
      "text/plain": [
       "['Ohio', 'Oklahoma', 'New york', 'California']"
      ]
     },
     "execution_count": 179,
     "metadata": {},
     "output_type": "execute_result"
    }
   ],
   "source": [
    "states = ['ohio', 'oklahoma', 'new york', 'california']\n",
    "cstates = []\n",
    "for i in states:\n",
    "    cstates.append(i.capitalize())\n",
    "cstates"
   ]
  },
  {
   "cell_type": "code",
   "execution_count": 185,
   "id": "bc507625",
   "metadata": {},
   "outputs": [
    {
     "data": {
      "text/plain": [
       "['Ohio', 'Oklahoma', 'New york', 'California']"
      ]
     },
     "execution_count": 185,
     "metadata": {},
     "output_type": "execute_result"
    }
   ],
   "source": [
    "states = ['ohio', 'oklahoma', 'new york', 'california']\n",
    "cstates = []\n",
    "i = 0\n",
    "while i < len(states):\n",
    "    cstates.append(states[i].capitalize())\n",
    "    i += 1\n",
    "cstates"
   ]
  },
  {
   "cell_type": "code",
   "execution_count": 189,
   "id": "d23299a7",
   "metadata": {},
   "outputs": [
    {
     "name": "stdout",
     "output_type": "stream",
     "text": [
      "28\n"
     ]
    }
   ],
   "source": [
    "i = 0\n",
    "total = 0\n",
    "while i < 8:\n",
    "    total += i \n",
    "    i += 1\n",
    "print(total)"
   ]
  },
  {
   "cell_type": "code",
   "execution_count": 190,
   "id": "4f40b195",
   "metadata": {},
   "outputs": [
    {
     "name": "stdout",
     "output_type": "stream",
     "text": [
      "28\n"
     ]
    }
   ],
   "source": [
    "total = 0\n",
    "for i in range(0, 8):\n",
    "    total += i\n",
    "print(total)"
   ]
  },
  {
   "cell_type": "code",
   "execution_count": 198,
   "id": "93ecf6ef",
   "metadata": {},
   "outputs": [
    {
     "name": "stdout",
     "output_type": "stream",
     "text": [
      "Even list: [4, 112, 132, 24]\n",
      "Odd list: [1, 1849, 3025, 4225]\n"
     ]
    }
   ],
   "source": [
    "numbers = [2, 1, 43, 55, 65, 56, 66, 12]\n",
    "odd = []\n",
    "even = []\n",
    "for i in numbers:\n",
    "    if i % 2 == 0:\n",
    "        even.append(i*2)\n",
    "    else:\n",
    "        odd.append(i**2)\n",
    "\n",
    "print(f'Even list: {even}')\n",
    "print(f'Odd list: {odd}')"
   ]
  },
  {
   "cell_type": "code",
   "execution_count": 199,
   "id": "fd134d85",
   "metadata": {},
   "outputs": [
    {
     "name": "stdout",
     "output_type": "stream",
     "text": [
      "88\n"
     ]
    }
   ],
   "source": [
    "numbers = [23, 32, 12, 21]\n",
    "total = 0\n",
    "for i in numbers:\n",
    "    total += i\n",
    "print(total)"
   ]
  },
  {
   "cell_type": "code",
   "execution_count": 200,
   "id": "1cf8f6e5",
   "metadata": {},
   "outputs": [
    {
     "name": "stdout",
     "output_type": "stream",
     "text": [
      "88\n"
     ]
    }
   ],
   "source": [
    "numbers = [23, 32, 12, 21]\n",
    "total = 0\n",
    "index = 0\n",
    "while index < len(numbers):\n",
    "    total += numbers[index]\n",
    "    index += 1\n",
    "print(total)"
   ]
  },
  {
   "cell_type": "code",
   "execution_count": null,
   "id": "3d8b6daf",
   "metadata": {},
   "outputs": [],
   "source": [
    "x = random.randint(1, 100)\n",
    "counter = 0\n",
    "start = True\n",
    "print(\"Welcome to the number guessing program.\")\n",
    "    if user_number > x:\n",
    "        if diff > 50:\n",
    "            print(\"Your guess is WAY too high!\")\n",
    "        else:\n",
    "            print(f\"{user_number} is higher than my number. Lower your guess.\")\n",
    "    elif user_number < x:\n",
    "        if diff > 50:\n",
    "            print(\"Your guess is WAY too low!\")\n",
    "        else:\n",
    "            print(f\"{user_number} is lower than my number. Increase your guess.\")\n",
    "    else:\n",
    "        print(f\"Congratulations! The number is {x}. You guessed correctly after {counter} guesses.\")\n",
    "        start = False\n",
    "\n",
    "if counter == 5 and start:\n",
    "    print(\"You've run out of guesses! GAME OVER \")\n"
   ]
  },
  {
   "cell_type": "code",
   "execution_count": null,
   "id": "57ccf5e8",
   "metadata": {},
   "outputs": [
    {
     "name": "stdout",
     "output_type": "stream",
     "text": [
      "Welcome to the number guessing program.\n",
      "80 is higher than my number. Lower your guess.\n",
      "95 is too high. Lower your guess.\n",
      "95 is too high. Lower your guess.\n",
      "-20 is too low. Increase your guess.\n",
      "Congratulations, the number is 40. You guessed correctly after 5 guesses.\n"
     ]
    }
   ],
   "source": [
    "x = random.randint(1, 100)\n",
    "counter = 0\n",
    "start = True\n",
    "print(\"Welcome to the number guessing program.\")\n",
    "while start and counter <= 5:\n",
    "    counter += 1\n",
    "\n",
    "    user_number = int(input(\"Guess the integer I am thinking between 1 and 100.\"))\n",
    "    if (user_number - x) > 50:\n",
    "        print(f\"{user_number} is too high. Lower your guess.\")\n",
    "    elif  (x - user_number) > 50:\n",
    "        print(f\"{user_number} is too low. Increase your guess.\")\n",
    "    elif user_number > x:\n",
    "        print(f\"{user_number} is higher than my number. Lower your guess.\")\n",
    "    elif  x > user_number:\n",
    "        print(f\"{user_number} is lower than my number. Increase your guess.\")\n",
    "    elif user_number == x:\n",
    "        print(f\"Congratulations, the number is {x}. You guessed correctly after {counter} guesses.\")\n",
    "        start = False\n",
    "    else:\n",
    "        print(\"There is a problem, please try a valid guess.\")\n",
    "\n",
    "    \n",
    "    if counter == 5 and start:\n",
    "        print(\"You've run out of guesses! GAME OVER\")"
   ]
  },
  {
   "cell_type": "code",
   "execution_count": null,
   "id": "6796bf93",
   "metadata": {},
   "outputs": [],
   "source": []
  },
  {
   "cell_type": "code",
   "execution_count": null,
   "id": "f61759c4",
   "metadata": {},
   "outputs": [],
   "source": []
  }
 ],
 "metadata": {
  "kernelspec": {
   "display_name": "base",
   "language": "python",
   "name": "python3"
  },
  "language_info": {
   "codemirror_mode": {
    "name": "ipython",
    "version": 3
   },
   "file_extension": ".py",
   "mimetype": "text/x-python",
   "name": "python",
   "nbconvert_exporter": "python",
   "pygments_lexer": "ipython3",
   "version": "3.13.5"
  }
 },
 "nbformat": 4,
 "nbformat_minor": 5
}
