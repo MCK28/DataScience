{
 "cells": [
  {
   "cell_type": "code",
   "execution_count": 5,
   "id": "49a42ef1",
   "metadata": {},
   "outputs": [],
   "source": [
    "def name(f_name, l_name):\n",
    "    return f\"My first name is {f_name} and my last name is {l_name}\""
   ]
  },
  {
   "cell_type": "code",
   "execution_count": 6,
   "id": "208f4ee1",
   "metadata": {},
   "outputs": [
    {
     "data": {
      "text/plain": [
       "'My first name is Mehmet and my last name is Koldemir'"
      ]
     },
     "execution_count": 6,
     "metadata": {},
     "output_type": "execute_result"
    }
   ],
   "source": [
    "name('Mehmet', 'Koldemir')"
   ]
  },
  {
   "cell_type": "code",
   "execution_count": 7,
   "id": "8015f04c",
   "metadata": {},
   "outputs": [
    {
     "data": {
      "text/plain": [
       "'My first name is Mehmet and my last name is Koldemir'"
      ]
     },
     "execution_count": 7,
     "metadata": {},
     "output_type": "execute_result"
    }
   ],
   "source": [
    "name(l_name='Koldemir', f_name='Mehmet')"
   ]
  },
  {
   "cell_type": "code",
   "execution_count": 8,
   "id": "0a6fde20",
   "metadata": {},
   "outputs": [],
   "source": [
    "def odd_even(*numbers):\n",
    "    even = []\n",
    "    odd = []\n",
    "    for i in numbers:\n",
    "        if i % 2 == 0:\n",
    "            even.append(i**2)\n",
    "        else:\n",
    "            odd.append(i*2)\n",
    "    return f'The double of odd numbers: {odd}, and the square of even numbers: {even}'"
   ]
  },
  {
   "cell_type": "code",
   "execution_count": 9,
   "id": "ffbec1ef",
   "metadata": {},
   "outputs": [
    {
     "data": {
      "text/plain": [
       "'The double of odd numbers: [2, 6, 10, 14, 46, 90, 134, 134], and the square of even numbers: [4, 16, 36, 64, 144, 1156, 3136, 6084]'"
      ]
     },
     "execution_count": 9,
     "metadata": {},
     "output_type": "execute_result"
    }
   ],
   "source": [
    "odd_even(1, 2, 3, 4, 5, 6, 7, 8, 12, 23, 34, 45, 56, 67, 67, 78)"
   ]
  },
  {
   "cell_type": "code",
   "execution_count": 10,
   "id": "ef5fba9c",
   "metadata": {},
   "outputs": [
    {
     "ename": "TypeError",
     "evalue": "unsupported operand type(s) for %: 'list' and 'int'",
     "output_type": "error",
     "traceback": [
      "\u001b[1;31m---------------------------------------------------------------------------\u001b[0m",
      "\u001b[1;31mTypeError\u001b[0m                                 Traceback (most recent call last)",
      "Cell \u001b[1;32mIn[10], line 1\u001b[0m\n\u001b[1;32m----> 1\u001b[0m odd_even([\u001b[38;5;241m1\u001b[39m, \u001b[38;5;241m2\u001b[39m, \u001b[38;5;241m3\u001b[39m, \u001b[38;5;241m4\u001b[39m, \u001b[38;5;241m5\u001b[39m, \u001b[38;5;241m6\u001b[39m, \u001b[38;5;241m7\u001b[39m, \u001b[38;5;241m8\u001b[39m, \u001b[38;5;241m12\u001b[39m, \u001b[38;5;241m23\u001b[39m, \u001b[38;5;241m34\u001b[39m, \u001b[38;5;241m45\u001b[39m, \u001b[38;5;241m56\u001b[39m, \u001b[38;5;241m67\u001b[39m, \u001b[38;5;241m67\u001b[39m, \u001b[38;5;241m78\u001b[39m])\n",
      "Cell \u001b[1;32mIn[8], line 5\u001b[0m, in \u001b[0;36modd_even\u001b[1;34m(*numbers)\u001b[0m\n\u001b[0;32m      3\u001b[0m odd \u001b[38;5;241m=\u001b[39m []\n\u001b[0;32m      4\u001b[0m \u001b[38;5;28;01mfor\u001b[39;00m i \u001b[38;5;129;01min\u001b[39;00m numbers:\n\u001b[1;32m----> 5\u001b[0m     \u001b[38;5;28;01mif\u001b[39;00m i \u001b[38;5;241m%\u001b[39m \u001b[38;5;241m2\u001b[39m \u001b[38;5;241m==\u001b[39m \u001b[38;5;241m0\u001b[39m:\n\u001b[0;32m      6\u001b[0m         even\u001b[38;5;241m.\u001b[39mappend(i\u001b[38;5;241m*\u001b[39m\u001b[38;5;241m*\u001b[39m\u001b[38;5;241m2\u001b[39m)\n\u001b[0;32m      7\u001b[0m     \u001b[38;5;28;01melse\u001b[39;00m:\n",
      "\u001b[1;31mTypeError\u001b[0m: unsupported operand type(s) for %: 'list' and 'int'"
     ]
    }
   ],
   "source": [
    "odd_even([1, 2, 3, 4, 5, 6, 7, 8, 12, 23, 34, 45, 56, 67, 67, 78])\n",
    "# doesnt expect a group or a collection"
   ]
  },
  {
   "cell_type": "code",
   "execution_count": 11,
   "id": "144d393f",
   "metadata": {},
   "outputs": [
    {
     "data": {
      "text/plain": [
       "'The double of odd numbers: [2, 6, 10, 14, 46, 90, 134, 134], and the square of even numbers: [4, 16, 36, 64, 144, 1156, 3136, 6084]'"
      ]
     },
     "execution_count": 11,
     "metadata": {},
     "output_type": "execute_result"
    }
   ],
   "source": [
    "odd_even(*[1, 2, 3, 4, 5, 6, 7, 8, 12, 23, 34, 45, 56, 67, 67, 78])"
   ]
  },
  {
   "cell_type": "code",
   "execution_count": 12,
   "id": "66fc38c0",
   "metadata": {},
   "outputs": [
    {
     "name": "stdout",
     "output_type": "stream",
     "text": [
      "techpro\n"
     ]
    }
   ],
   "source": [
    "print(\"techpro\")"
   ]
  },
  {
   "cell_type": "code",
   "execution_count": 13,
   "metadata": {},
   "outputs": [
    {
     "name": "stdout",
     "output_type": "stream",
     "text": [
      "t e c h p r o\n"
     ]
    }
   ],
   "source": [
    "print(*\"techpro\")"
   ]
  },
  {
   "cell_type": "code",
   "execution_count": 14,
   "id": "e719a7d4",
   "metadata": {},
   "outputs": [],
   "source": [
    "def reverse_iterable(iterable_data):\n",
    "    return iterable_data[:: -1]\n"
   ]
  },
  {
   "cell_type": "code",
   "execution_count": 15,
   "metadata": {},
   "outputs": [
    {
     "data": {
      "text/plain": [
       "'orphcet'"
      ]
     },
     "execution_count": 15,
     "metadata": {},
     "output_type": "execute_result"
    }
   ],
   "source": [
    "reverse_iterable('techpro')"
   ]
  },
  {
   "cell_type": "code",
   "execution_count": 16,
   "id": "7f712fab",
   "metadata": {},
   "outputs": [
    {
     "data": {
      "text/plain": [
       "[4, 3, 2, 1]"
      ]
     },
     "execution_count": 16,
     "metadata": {},
     "output_type": "execute_result"
    }
   ],
   "source": [
    "reverse_iterable([1, 2, 3, 4])"
   ]
  },
  {
   "cell_type": "code",
   "execution_count": null,
   "id": "bc92e15e",
   "metadata": {},
   "outputs": [],
   "source": [
    "def reverse_iterable2(*iterable_data):\n",
    "    return iterable_data[:: -1]"
   ]
  },
  {
   "cell_type": "code",
   "execution_count": 21,
   "id": "439a7d09",
   "metadata": {},
   "outputs": [
    {
     "data": {
      "text/plain": [
       "('bye', 'friends', 'hello')"
      ]
     },
     "execution_count": 21,
     "metadata": {},
     "output_type": "execute_result"
    }
   ],
   "source": [
    "reverse_iterable2('hello', 'friends', 'bye')"
   ]
  },
  {
   "cell_type": "code",
   "execution_count": 22,
   "id": "de966380",
   "metadata": {},
   "outputs": [
    {
     "data": {
      "text/plain": [
       "('o', 'l', 'l', 'e', 'h')"
      ]
     },
     "execution_count": 22,
     "metadata": {},
     "output_type": "execute_result"
    }
   ],
   "source": [
    "reverse_iterable2(*'hello')"
   ]
  },
  {
   "cell_type": "code",
   "execution_count": 23,
   "id": "0b9f88cb",
   "metadata": {},
   "outputs": [
    {
     "data": {
      "text/plain": [
       "('bye', 'friends', 'o', 'l', 'l', 'e', 'h')"
      ]
     },
     "execution_count": 23,
     "metadata": {},
     "output_type": "execute_result"
    }
   ],
   "source": [
    "reverse_iterable2(*'hello', 'friends', 'bye')"
   ]
  },
  {
   "cell_type": "code",
   "execution_count": 26,
   "id": "68041a80",
   "metadata": {},
   "outputs": [],
   "source": [
    "def reverse_iterable3(*iterable_data):\n",
    "    reverse_list = []\n",
    "    for i in iterable_data:\n",
    "        reverse_list.append(i[::-1])\n",
    "    return reverse_list\n"
   ]
  },
  {
   "cell_type": "code",
   "execution_count": 27,
   "id": "231e3a94",
   "metadata": {},
   "outputs": [
    {
     "data": {
      "text/plain": [
       "['runurbe', 'rimed', 'alokin', 'nhoj']"
      ]
     },
     "execution_count": 27,
     "metadata": {},
     "output_type": "execute_result"
    }
   ],
   "source": [
    "reverse_iterable3('ebrunur', 'demir', 'nikola', 'john')"
   ]
  },
  {
   "cell_type": "code",
   "execution_count": 28,
   "id": "613591b9",
   "metadata": {},
   "outputs": [
    {
     "data": {
      "text/plain": [
       "[['john', 'nikola', 'demir', 'ebrunur']]"
      ]
     },
     "execution_count": 28,
     "metadata": {},
     "output_type": "execute_result"
    }
   ],
   "source": [
    "reverse_iterable3(['ebrunur', 'demir', 'nikola', 'john'])"
   ]
  },
  {
   "cell_type": "code",
   "execution_count": 29,
   "id": "d3bb066f",
   "metadata": {},
   "outputs": [
    {
     "data": {
      "text/plain": [
       "['runurbe', 'rimed', 'alokin', 'nhoj']"
      ]
     },
     "execution_count": 29,
     "metadata": {},
     "output_type": "execute_result"
    }
   ],
   "source": [
    "reverse_iterable3(*['ebrunur', 'demir', 'nikola', 'john'])"
   ]
  },
  {
   "cell_type": "markdown",
   "id": "9806502b",
   "metadata": {},
   "source": [
    "## **K.w.args\n"
   ]
  },
  {
   "cell_type": "code",
   "execution_count": 30,
   "id": "bd7a9313",
   "metadata": {},
   "outputs": [
    {
     "data": {
      "text/plain": [
       "{'name1': 'Mehmet', 'name2': 'Rovshen', 'name3': 'Vusal'}"
      ]
     },
     "execution_count": 30,
     "metadata": {},
     "output_type": "execute_result"
    }
   ],
   "source": [
    "dict1 = {'name1': 'Mehmet', 'name2': 'Rovshen', 'name3': 'Vusal'}\n",
    "dict1"
   ]
  },
  {
   "cell_type": "code",
   "execution_count": 31,
   "metadata": {},
   "outputs": [
    {
     "name": "stdout",
     "output_type": "stream",
     "text": [
      "name1\n",
      "name2\n",
      "name3\n"
     ]
    }
   ],
   "source": [
    "for i in dict1:\n",
    "    print(i)"
   ]
  },
  {
   "cell_type": "code",
   "execution_count": 32,
   "id": "254e9a43",
   "metadata": {},
   "outputs": [
    {
     "data": {
      "text/plain": [
       "dict_items([('name1', 'Mehmet'), ('name2', 'Rovshen'), ('name3', 'Vusal')])"
      ]
     },
     "execution_count": 32,
     "metadata": {},
     "output_type": "execute_result"
    }
   ],
   "source": [
    "dict1.items()"
   ]
  },
  {
   "cell_type": "code",
   "execution_count": null,
   "id": "4686b171",
   "metadata": {},
   "outputs": [
    {
     "name": "stdout",
     "output_type": "stream",
     "text": [
      "name1 Mehmet\n",
      "name2 Rovshen\n",
      "name3 Vusal\n"
     ]
    }
   ],
   "source": [
    "for i, j in dict1.items():\n",
    "    print(i, j)"
   ]
  },
  {
   "cell_type": "code",
   "execution_count": null,
   "metadata": {},
   "outputs": [
    {
     "data": {
      "text/plain": [
       "{'name1': 'nikola', 'name2': 'techpro', 'name3': 'data science'}"
      ]
     },
     "execution_count": 36,
     "metadata": {},
     "output_type": "execute_result"
    }
   ],
   "source": [
    "dict(name1 = 'nikola', name2 = 'techpro', name3 = 'data science')"
   ]
  },
  {
   "cell_type": "code",
   "execution_count": 37,
   "id": "cde40ff6",
   "metadata": {},
   "outputs": [],
   "source": [
    "def kwfunction(**kwargs):\n",
    "    for i in kwargs:\n",
    "        print(i)"
   ]
  },
  {
   "cell_type": "code",
   "execution_count": 38,
   "id": "4223fd72",
   "metadata": {},
   "outputs": [
    {
     "name": "stdout",
     "output_type": "stream",
     "text": [
      "name1\n",
      "name2\n",
      "name3\n"
     ]
    }
   ],
   "source": [
    "kwfunction(name1 = 'nikola', name2 = 'techpro', name3 = 'data science')"
   ]
  },
  {
   "cell_type": "code",
   "execution_count": 56,
   "id": "25c3666c",
   "metadata": {},
   "outputs": [],
   "source": [
    "def kwfunction2(**kwargs):\n",
    "    for i, j in kwargs.items():\n",
    "        print(i, j)"
   ]
  },
  {
   "cell_type": "code",
   "execution_count": 57,
   "id": "7667d26e",
   "metadata": {},
   "outputs": [
    {
     "name": "stdout",
     "output_type": "stream",
     "text": [
      "name1 nikola\n",
      "name2 techpro\n",
      "name3 data science\n"
     ]
    }
   ],
   "source": [
    "kwfunction2(name1 = 'nikola', name2 = 'techpro', name3 = 'data science')"
   ]
  },
  {
   "cell_type": "code",
   "execution_count": 47,
   "id": "e7f85486",
   "metadata": {},
   "outputs": [],
   "source": [
    "# Define function with **kwargs that takes the input in keyword argument format \n",
    "# add the keys or keywords of these inputs to keyword list \n",
    "# arguments or values of these inputs to values or arguments list.\n",
    "def keyword_values(**dictionary):\n",
    "    key_list = []\n",
    "    val_list = []\n",
    "    for i, j in dictionary.items():\n",
    "        key_list.append(i)\n",
    "        val_list.append(j)\n",
    "    return f\"Keys or keywords list: {key_list}, and val or values list: {val_list}\"\n"
   ]
  },
  {
   "cell_type": "code",
   "execution_count": 50,
   "id": "7138711b",
   "metadata": {},
   "outputs": [
    {
     "data": {
      "text/plain": [
       "\"Keys or keywords list: ['name', 'age', 'occupation'], and val or values list: ['Mehmet', 19, 'Data Scientist']\""
      ]
     },
     "execution_count": 50,
     "metadata": {},
     "output_type": "execute_result"
    }
   ],
   "source": [
    "keyword_values(name = 'Mehmet', age = 19, occupation = 'Data Scientist')"
   ]
  },
  {
   "cell_type": "code",
   "execution_count": 53,
   "metadata": {},
   "outputs": [
    {
     "data": {
      "text/plain": [
       "'Keys or keywords list: [], and val or values list: []'"
      ]
     },
     "execution_count": 53,
     "metadata": {},
     "output_type": "execute_result"
    }
   ],
   "source": [
    "keyword_values()"
   ]
  },
  {
   "cell_type": "code",
   "execution_count": null,
   "metadata": {},
   "outputs": [],
   "source": [
    "# Define a function with **kwargs and print only the value or the argument part.\n",
    "def values(**dictionary):\n",
    "    for i in dictionary.values():\n",
    "        print(i)"
   ]
  },
  {
   "cell_type": "code",
   "execution_count": null,
   "id": "54bf3478",
   "metadata": {},
   "outputs": [
    {
     "name": "stdout",
     "output_type": "stream",
     "text": [
      "mehmet\n",
      "28\n"
     ]
    }
   ],
   "source": [
    "values(name = 'mehmet', num = 28)"
   ]
  },
  {
   "cell_type": "code",
   "execution_count": 63,
   "id": "ce2c0114",
   "metadata": {},
   "outputs": [],
   "source": [
    "def dict_itemss(**dictionary):\n",
    "    for i in dictionary.items():\n",
    "        print(i)"
   ]
  },
  {
   "cell_type": "code",
   "execution_count": 64,
   "id": "ef8d5953",
   "metadata": {},
   "outputs": [
    {
     "name": "stdout",
     "output_type": "stream",
     "text": [
      "('name', 'mehmet')\n",
      "('num', 28)\n"
     ]
    }
   ],
   "source": [
    "dict_itemss(name = 'mehmet', num = 28)"
   ]
  },
  {
   "cell_type": "code",
   "execution_count": 65,
   "id": "21f164dc",
   "metadata": {},
   "outputs": [],
   "source": [
    "def dict_itemss2(**dictionary):\n",
    "    for i, j in dictionary.items():\n",
    "        print(i, j)"
   ]
  },
  {
   "cell_type": "code",
   "execution_count": 66,
   "id": "2df38300",
   "metadata": {},
   "outputs": [
    {
     "name": "stdout",
     "output_type": "stream",
     "text": [
      "name mehmet\n",
      "num 28\n"
     ]
    }
   ],
   "source": [
    "dict_itemss2(name = 'mehmet', num = 28)"
   ]
  },
  {
   "cell_type": "code",
   "execution_count": 72,
   "id": "0bb3e16f",
   "metadata": {},
   "outputs": [],
   "source": [
    "def reverse_str_kw(**strings):\n",
    "    reverse_values = []\n",
    "    for key, val in strings.items():\n",
    "        reverse_values.append(val[::-1])\n",
    "    return reverse_values"
   ]
  },
  {
   "cell_type": "code",
   "execution_count": 74,
   "id": "1467dd73",
   "metadata": {},
   "outputs": [
    {
     "data": {
      "text/plain": [
       "['temhem', 'alokin']"
      ]
     },
     "execution_count": 74,
     "metadata": {},
     "output_type": "execute_result"
    }
   ],
   "source": [
    "reverse_str_kw(name1 = 'mehmet', name2 = 'nikola' )"
   ]
  },
  {
   "cell_type": "code",
   "execution_count": 78,
   "id": "676a6f49",
   "metadata": {},
   "outputs": [],
   "source": [
    "def reverse_str_kw2(**strings):\n",
    "    reverse_keys = []\n",
    "    for key, val in strings.items():\n",
    "        reverse_keys.append(key[::-1])\n",
    "    return reverse_keys"
   ]
  },
  {
   "cell_type": "code",
   "execution_count": 79,
   "id": "41031843",
   "metadata": {},
   "outputs": [
    {
     "data": {
      "text/plain": [
       "['1eman', '2eman']"
      ]
     },
     "execution_count": 79,
     "metadata": {},
     "output_type": "execute_result"
    }
   ],
   "source": [
    "reverse_str_kw2(name1 = 'mehmet', name2 = 'nikola' )"
   ]
  },
  {
   "cell_type": "code",
   "execution_count": 80,
   "id": "148a1cd3",
   "metadata": {},
   "outputs": [],
   "source": [
    "def reverse_str_kw3(**strings):\n",
    "    reverse_keys = []\n",
    "    reverse_values = []\n",
    "    for key, val in strings.items():\n",
    "        reverse_keys.append(key[::-1])\n",
    "        reverse_values.append(val[::-1])\n",
    "    return reverse_keys, reverse_values"
   ]
  },
  {
   "cell_type": "code",
   "execution_count": 81,
   "metadata": {},
   "outputs": [
    {
     "data": {
      "text/plain": [
       "(['1eman', '2eman'], ['temhem', 'alokin'])"
      ]
     },
     "execution_count": 81,
     "metadata": {},
     "output_type": "execute_result"
    }
   ],
   "source": [
    "reverse_str_kw3(name1 = 'mehmet', name2 = 'nikola' )"
   ]
  },
  {
   "cell_type": "code",
   "execution_count": 90,
   "id": "539a9678",
   "metadata": {},
   "outputs": [],
   "source": [
    "def coll_len(**dictionary):\n",
    "    for i in dictionary.values():\n",
    "        print(f\"the length of {i} is {len(i)}\") "
   ]
  },
  {
   "cell_type": "code",
   "execution_count": 91,
   "id": "b709df4f",
   "metadata": {},
   "outputs": [
    {
     "name": "stdout",
     "output_type": "stream",
     "text": [
      "the length of [1, 2, 3, 4, 5] is 5\n",
      "the length of ('hi', 'hello') is 2\n",
      "the length of {0.0, 1, 'bbye'} is 3\n"
     ]
    }
   ],
   "source": [
    "coll_len(one = [1, 2, 3, 4, 5], two = ('hi', 'hello'), three = {1, True, 0.0, 'bbye'})"
   ]
  },
  {
   "cell_type": "code",
   "execution_count": 93,
   "id": "46d7bf27",
   "metadata": {},
   "outputs": [],
   "source": [
    "def coll_len2(**dictionary):\n",
    "    result = [f\"the length of {i} is {len(i)}\" for i in dictionary.values()]\n",
    "    return result"
   ]
  },
  {
   "cell_type": "code",
   "execution_count": 94,
   "id": "f859e238",
   "metadata": {},
   "outputs": [
    {
     "data": {
      "text/plain": [
       "['the length of [1, 2, 3, 4, 5] is 5',\n",
       " \"the length of ('hi', 'hello') is 2\",\n",
       " \"the length of {0.0, 1, 'bbye'} is 3\"]"
      ]
     },
     "execution_count": 94,
     "metadata": {},
     "output_type": "execute_result"
    }
   ],
   "source": [
    "coll_len2(one = [1, 2, 3, 4, 5], two = ('hi', 'hello'), three = {1, True, 0.0, 'bbye'})"
   ]
  },
  {
   "cell_type": "code",
   "execution_count": null,
   "metadata": {},
   "outputs": [],
   "source": []
  },
  {
   "cell_type": "code",
   "execution_count": null,
   "metadata": {},
   "outputs": [],
   "source": []
  },
  {
   "cell_type": "code",
   "execution_count": null,
   "id": "0887096b",
   "metadata": {},
   "outputs": [],
   "source": []
  },
  {
   "cell_type": "code",
   "execution_count": null,
   "id": "52f44dff",
   "metadata": {},
   "outputs": [],
   "source": []
  },
  {
   "cell_type": "code",
   "execution_count": null,
   "id": "e72c30ed",
   "metadata": {},
   "outputs": [],
   "source": []
  }
 ],
 "metadata": {
  "kernelspec": {
   "display_name": "base",
   "language": "python",
   "name": "python3"
  },
  "language_info": {
   "codemirror_mode": {
    "name": "ipython",
    "version": 3
   },
   "file_extension": ".py",
   "mimetype": "text/x-python",
   "name": "python",
   "nbconvert_exporter": "python",
   "pygments_lexer": "ipython3",
   "version": "3.13.5"
  }
 },
 "nbformat": 4,
 "nbformat_minor": 5
}
