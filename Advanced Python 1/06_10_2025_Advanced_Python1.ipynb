{
 "cells": [
  {
   "cell_type": "code",
   "execution_count": null,
   "metadata": {},
   "outputs": [],
   "source": [
    "while 10 > 5:\n",
    "    print(\"Hello\")\n",
    "    # Dont print (INFINITE)"
   ]
  },
  {
   "cell_type": "code",
   "execution_count": null,
   "metadata": {},
   "outputs": [
    {
     "name": "stdout",
     "output_type": "stream",
     "text": [
      "Hello friends\n",
      "Hello friends\n",
      "Hello friends\n",
      "Hello friends\n"
     ]
    }
   ],
   "source": [
    "x = 10\n",
    "while x > 6:\n",
    "    print(\"Hello friends\")\n",
    "    x = x - 1"
   ]
  },
  {
   "cell_type": "code",
   "execution_count": 8,
   "metadata": {},
   "outputs": [
    {
     "name": "stdout",
     "output_type": "stream",
     "text": [
      "Hello friends\n",
      "Hello friends\n",
      "Hello friends\n",
      "Hello friends\n",
      "Hello friends\n",
      "Hello friends\n",
      "Hello friends\n",
      "Hello friends\n",
      "Hello friends\n"
     ]
    }
   ],
   "source": [
    "x = 1\n",
    "while 10 > x:\n",
    "    print(\"Hello friends\")\n",
    "    x = x + 1"
   ]
  },
  {
   "cell_type": "code",
   "execution_count": 9,
   "metadata": {},
   "outputs": [
    {
     "name": "stdout",
     "output_type": "stream",
     "text": [
      "1\n",
      "2\n",
      "3\n",
      "4\n",
      "5\n",
      "6\n",
      "7\n",
      "8\n",
      "9\n",
      "10\n"
     ]
    }
   ],
   "source": [
    "x = 1\n",
    "while x < 11:\n",
    "    print(x)\n",
    "    x = x + 1"
   ]
  },
  {
   "cell_type": "code",
   "execution_count": 11,
   "metadata": {},
   "outputs": [
    {
     "name": "stdout",
     "output_type": "stream",
     "text": [
      "1\n",
      "Hello Friends\n",
      "2\n",
      "Hello Friends\n",
      "3\n",
      "Hello Friends\n",
      "4\n",
      "Hello Friends\n",
      "5\n",
      "Hello Friends\n",
      "6\n",
      "Hello Friends\n",
      "7\n",
      "Hello Friends\n",
      "8\n",
      "Hello Friends\n",
      "9\n",
      "Hello Friends\n",
      "10\n",
      "Hello Friends\n"
     ]
    }
   ],
   "source": [
    "x = 1\n",
    "while x < 11:\n",
    "    print(x)\n",
    "    x += 1\n",
    "    print(\"Hello Friends\")"
   ]
  },
  {
   "cell_type": "code",
   "execution_count": 13,
   "metadata": {},
   "outputs": [],
   "source": [
    "while False:\n",
    "    print(\"Hello\")"
   ]
  },
  {
   "cell_type": "code",
   "execution_count": 14,
   "metadata": {},
   "outputs": [
    {
     "name": "stdout",
     "output_type": "stream",
     "text": [
      "Hello Friends\n"
     ]
    }
   ],
   "source": [
    "while False:\n",
    "    print(\"Hello\")\n",
    "print(\"Hello Friends\")"
   ]
  },
  {
   "cell_type": "code",
   "execution_count": null,
   "metadata": {},
   "outputs": [],
   "source": [
    "while True:\n",
    "    print(\"Hello\")\n",
    "    # Dont print (INFINITE)"
   ]
  },
  {
   "cell_type": "code",
   "execution_count": 18,
   "metadata": {},
   "outputs": [
    {
     "name": "stdout",
     "output_type": "stream",
     "text": [
      "Lets see if this loop runs or not.\n"
     ]
    }
   ],
   "source": [
    "a = True\n",
    "while a:\n",
    "    print(\"Lets see if this loop runs or not.\")\n",
    "    a = False"
   ]
  },
  {
   "cell_type": "code",
   "execution_count": 20,
   "metadata": {},
   "outputs": [
    {
     "name": "stdout",
     "output_type": "stream",
     "text": [
      "Lets see if this loop runs or not.\n"
     ]
    }
   ],
   "source": [
    "a = True\n",
    "while a:\n",
    "    a = False\n",
    "    print(\"Lets see if this loop runs or not.\")"
   ]
  },
  {
   "cell_type": "code",
   "execution_count": 21,
   "metadata": {},
   "outputs": [
    {
     "name": "stdout",
     "output_type": "stream",
     "text": [
      "Lets see if this loop runs or not.\n"
     ]
    }
   ],
   "source": [
    "a = True\n",
    "while a:\n",
    "    a = False\n",
    "print(\"Lets see if this loop runs or not.\")"
   ]
  },
  {
   "cell_type": "code",
   "execution_count": 22,
   "metadata": {},
   "outputs": [
    {
     "name": "stdout",
     "output_type": "stream",
     "text": [
      "Lets see if this loop runs or not.\n",
      "This part will run regardless of the loop.\n"
     ]
    }
   ],
   "source": [
    "a = True\n",
    "while a:\n",
    "    a = False\n",
    "    print(\"Lets see if this loop runs or not.\")\n",
    "print(\"This part will run regardless of the loop.\")"
   ]
  },
  {
   "cell_type": "code",
   "execution_count": 23,
   "metadata": {},
   "outputs": [
    {
     "name": "stdout",
     "output_type": "stream",
     "text": [
      "1\n",
      "2\n",
      "3\n",
      "4\n"
     ]
    }
   ],
   "source": [
    "x = 1\n",
    "while x <= 3:\n",
    "    print(x)\n",
    "    x += 1\n",
    "print(x)"
   ]
  },
  {
   "cell_type": "code",
   "execution_count": 24,
   "metadata": {},
   "outputs": [
    {
     "name": "stdout",
     "output_type": "stream",
     "text": [
      "2\n",
      "4\n",
      "6\n",
      "8\n",
      "10\n",
      "12\n",
      "14\n",
      "16\n",
      "18\n",
      "20\n"
     ]
    }
   ],
   "source": [
    "x = 1\n",
    "while x < 11:\n",
    "    print(x * 2)\n",
    "    x += 1"
   ]
  },
  {
   "cell_type": "code",
   "execution_count": 25,
   "metadata": {},
   "outputs": [
    {
     "name": "stdout",
     "output_type": "stream",
     "text": [
      "25\n",
      "16\n",
      "9\n",
      "4\n",
      "1\n"
     ]
    }
   ],
   "source": [
    "x = 5\n",
    "while x > 0:\n",
    "    print(x*x)\n",
    "    x -= 1"
   ]
  },
  {
   "cell_type": "code",
   "execution_count": 27,
   "metadata": {},
   "outputs": [
    {
     "name": "stdout",
     "output_type": "stream",
     "text": [
      "Welcome to the number guessing program.\n",
      "Congratulations, you guessed the number correctly.\n"
     ]
    }
   ],
   "source": [
    "x = 5\n",
    "\n",
    "start = True\n",
    "print(\"Welcome to the number guessing program.\")\n",
    "while start:\n",
    "\n",
    "    user_number = int(input(\"Guess the integer I am thinking.\"))\n",
    "    if user_number > x:\n",
    "        print(f\"{user_number} is higher than my number. Lower your guess.\")\n",
    "    elif user_number < x:\n",
    "        print(f\"{user_number} is lower than my number. Increase your guess.\")\n",
    "    elif user_number == x:\n",
    "        print(f\"Congratulations, you guessed the number correctly.\")\n",
    "        start = False\n",
    "    else:\n",
    "        print(\"There is a problem, please try a valid guess.\")\n"
   ]
  },
  {
   "cell_type": "code",
   "execution_count": 32,
   "metadata": {},
   "outputs": [
    {
     "name": "stdout",
     "output_type": "stream",
     "text": [
      "Welcome to the number guessing program.\n",
      "56 is higher than my number. Lower your guess.\n",
      "45 is higher than my number. Lower your guess.\n",
      "23 is lower than my number. Increase your guess.\n",
      "67 is higher than my number. Lower your guess.\n",
      "Congratulations, the number is 28 you guessed correctly after 5 guesses.\n"
     ]
    }
   ],
   "source": [
    "x = 28\n",
    "counter = 0\n",
    "start = True\n",
    "print(\"Welcome to the number guessing program.\")\n",
    "while start and counter <= 5:\n",
    "    counter += 1\n",
    "\n",
    "    user_number = int(input(\"Guess the integer I am thinking.\"))\n",
    "    if user_number > x:\n",
    "        print(f\"{user_number} is higher than my number. Lower your guess.\")\n",
    "    elif user_number < x:\n",
    "        print(f\"{user_number} is lower than my number. Increase your guess.\")\n",
    "    elif user_number == x:\n",
    "        print(f\"Congratulations, the number is {x}. You guessed correctly after {counter} guesses.\")\n",
    "        start = False\n",
    "    else:\n",
    "        print(\"There is a problem, please try a valid guess.\")\n",
    "\n",
    "    \n",
    "    if counter == 5 and start:\n",
    "        print(\"You've run out of guesses! GAME OVER\")\n",
    "        \n"
   ]
  },
  {
   "cell_type": "code",
   "execution_count": 33,
   "metadata": {},
   "outputs": [
    {
     "data": {
      "text/plain": [
       "8"
      ]
     },
     "execution_count": 33,
     "metadata": {},
     "output_type": "execute_result"
    }
   ],
   "source": [
    "numbers = [2, 7, 3, 6, 5, 1, 9, 5]\n",
    "len(numbers)"
   ]
  },
  {
   "cell_type": "code",
   "execution_count": 37,
   "metadata": {},
   "outputs": [
    {
     "name": "stdout",
     "output_type": "stream",
     "text": [
      "2\n",
      "7\n",
      "3\n",
      "6\n",
      "5\n",
      "1\n",
      "9\n",
      "5\n"
     ]
    }
   ],
   "source": [
    "numbers = [2, 7, 3, 6, 5, 1, 9, 5]\n",
    "while num in numbers:\n",
    "    print(num)"
   ]
  },
  {
   "cell_type": "code",
   "execution_count": 38,
   "metadata": {},
   "outputs": [
    {
     "name": "stdout",
     "output_type": "stream",
     "text": [
      "The number is 2 and its square is 4\n",
      "The number is 7 and its square is 49\n",
      "The number is 3 and its square is 9\n",
      "The number is 6 and its square is 36\n",
      "The number is 5 and its square is 25\n",
      "The number is 1 and its square is 1\n",
      "The number is 9 and its square is 81\n",
      "The number is 5 and its square is 25\n"
     ]
    }
   ],
   "source": [
    "x = 0\n",
    "while x < len(numbers):\n",
    "    print(f'The number is {numbers[x]} and its square is {numbers[x]**2}')\n",
    "    x += 1"
   ]
  },
  {
   "cell_type": "code",
   "execution_count": 39,
   "metadata": {},
   "outputs": [],
   "source": [
    "squares = []\n",
    "x = 0\n",
    "while x < len(numbers):\n",
    "   squares.append(numbers[x]**2)\n",
    "   x += 1"
   ]
  },
  {
   "cell_type": "code",
   "execution_count": 40,
   "metadata": {},
   "outputs": [
    {
     "data": {
      "text/plain": [
       "[4, 49, 9, 36, 25, 1, 81, 25]"
      ]
     },
     "execution_count": 40,
     "metadata": {},
     "output_type": "execute_result"
    }
   ],
   "source": [
    "squares"
   ]
  },
  {
   "cell_type": "code",
   "execution_count": 41,
   "metadata": {},
   "outputs": [
    {
     "name": "stdout",
     "output_type": "stream",
     "text": [
      "[4]\n",
      "[4, 49]\n",
      "[4, 49, 9]\n",
      "[4, 49, 9, 36]\n",
      "[4, 49, 9, 36, 25]\n",
      "[4, 49, 9, 36, 25, 1]\n",
      "[4, 49, 9, 36, 25, 1, 81]\n",
      "[4, 49, 9, 36, 25, 1, 81, 25]\n"
     ]
    }
   ],
   "source": [
    "squares = []\n",
    "x = 0\n",
    "while x < len(numbers):\n",
    "   squares.append(numbers[x]**2)\n",
    "   print(squares)\n",
    "   x += 1"
   ]
  },
  {
   "cell_type": "code",
   "execution_count": 53,
   "metadata": {},
   "outputs": [
    {
     "name": "stdout",
     "output_type": "stream",
     "text": [
      "Even number list: [2, 6]\n",
      "Odd number list: [7, 3, 5, 1, 9, 5]\n"
     ]
    }
   ],
   "source": [
    "odd = []\n",
    "even = []\n",
    "x = 0\n",
    "while x < len(numbers):\n",
    "    if numbers[x] % 2 == 0:\n",
    "        even.append(numbers[x])\n",
    "    else: \n",
    "        odd.append(numbers[x])\n",
    "    x += 1\n",
    "\n",
    "print(f\"Even number list: {even}\")\n",
    "print(f\"Odd number list: {odd}\")"
   ]
  },
  {
   "cell_type": "code",
   "execution_count": 50,
   "metadata": {},
   "outputs": [
    {
     "data": {
      "text/plain": [
       "[2, 6]"
      ]
     },
     "execution_count": 50,
     "metadata": {},
     "output_type": "execute_result"
    }
   ],
   "source": [
    "even"
   ]
  },
  {
   "cell_type": "code",
   "execution_count": 51,
   "metadata": {},
   "outputs": [
    {
     "data": {
      "text/plain": [
       "[7, 3, 5, 1, 9, 5]"
      ]
     },
     "execution_count": 51,
     "metadata": {},
     "output_type": "execute_result"
    }
   ],
   "source": [
    "odd"
   ]
  },
  {
   "cell_type": "code",
   "execution_count": 57,
   "metadata": {},
   "outputs": [
    {
     "name": "stdout",
     "output_type": "stream",
     "text": [
      "3\n"
     ]
    }
   ],
   "source": [
    "country = {\n",
    "    \"England\": {\"population\": 67000000, \"language\": \"English\", \"currency\": \"Sterling\"},\n",
    "    \"Turkey\": {\"population\": 81000000, \"language\": \"Turkish\", \"currency\": \"Turkish lira\"},\n",
    "    \"Croatia\": {\"population\": 4000000, \"language\": \"Croatian\", \"currency\": \"Euro\"}\n",
    "}\n",
    "\n",
    "selection = country[\"Turkey\"][\"currency\"]\n",
    "print(len(country))"
   ]
  },
  {
   "cell_type": "code",
   "execution_count": null,
   "metadata": {},
   "outputs": [],
   "source": []
  },
  {
   "cell_type": "code",
   "execution_count": null,
   "metadata": {},
   "outputs": [],
   "source": []
  },
  {
   "cell_type": "code",
   "execution_count": null,
   "metadata": {},
   "outputs": [],
   "source": []
  }
 ],
 "metadata": {
  "kernelspec": {
   "display_name": "Python 3.13.5 ('base')",
   "language": "python",
   "name": "python3"
  },
  "language_info": {
   "codemirror_mode": {
    "name": "ipython",
    "version": 3
   },
   "file_extension": ".py",
   "mimetype": "text/x-python",
   "name": "python",
   "nbconvert_exporter": "python",
   "pygments_lexer": "ipython3",
   "version": "3.13.5"
  },
  "orig_nbformat": 4,
  "vscode": {
   "interpreter": {
    "hash": "90bd4958e8df42f4a0c39306dd2bd430f3b3059480c0da3102b760b9a218d5b9"
   }
  }
 },
 "nbformat": 4,
 "nbformat_minor": 2
}
