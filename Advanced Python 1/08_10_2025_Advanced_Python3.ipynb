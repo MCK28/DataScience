{
 "cells": [
  {
   "cell_type": "code",
   "execution_count": null,
   "id": "e2717de5",
   "metadata": {},
   "outputs": [],
   "source": [
    "import random \n",
    "\n",
    "x = random.randint(1, 100)\n",
    "counter = 0\n",
    "start = True\n",
    "print(\"Welcome to the number guessing program.\")\n",
    "while start and counter <= 5:\n",
    "    counter += 1\n",
    "\n",
    "    user_number = int(input(\"Guess the integer I am thinking between 1 and 100.\"))\n",
    "    if (user_number - x) > 50:\n",
    "        print(f\"{user_number} is too high. Lower your guess.\")\n",
    "    elif  (x - user_number) > 50:\n",
    "        print(f\"{user_number} is too low. Increase your guess.\")\n",
    "    elif user_number > x:\n",
    "        print(f\"{user_number} is higher than my number. Lower your guess.\")\n",
    "    elif  x > user_number:\n",
    "        print(f\"{user_number} is lower than my number. Increase your guess.\")\n",
    "    elif user_number == x:\n",
    "        print(f\"Congratulations, the number is {x}. You guessed correctly after {counter} guesses.\")\n",
    "        start = False\n",
    "    else:\n",
    "        print(\"There is a problem, please try a valid guess.\")\n",
    "\n",
    "    \n",
    "    if counter == 5 and start:\n",
    "        print(\"You've run out of guesses! GAME OVER\")"
   ]
  },
  {
   "cell_type": "code",
   "execution_count": 9,
   "id": "ce1efed1",
   "metadata": {},
   "outputs": [
    {
     "name": "stdout",
     "output_type": "stream",
     "text": [
      "Techpro\n"
     ]
    }
   ],
   "source": [
    "nums = [1, 2, 3, 4, 'Techpro', 5, 6, 7, 'Sena', True, 'Hello']\n",
    "index = 0\n",
    "while index < len(nums):\n",
    "    if nums[index] == 'Techpro':\n",
    "        print(nums[index])\n",
    "    index += 1\n",
    "\n"
   ]
  },
  {
   "cell_type": "markdown",
   "id": "da0370bc",
   "metadata": {},
   "source": [
    "## Dict usage with loops"
   ]
  },
  {
   "cell_type": "code",
   "execution_count": 19,
   "id": "40c1edb9",
   "metadata": {},
   "outputs": [],
   "source": [
    "dict1 = {'Name:': 'Mehmet', 'Job:': 'Data Scientist', 'Age:': '19'}"
   ]
  },
  {
   "cell_type": "code",
   "execution_count": 12,
   "id": "6710a8f7",
   "metadata": {},
   "outputs": [
    {
     "data": {
      "text/plain": [
       "{'Name': 'Mehmet', 'Job': 'Data Scientist', 'Age': '19'}"
      ]
     },
     "execution_count": 12,
     "metadata": {},
     "output_type": "execute_result"
    }
   ],
   "source": [
    "dict1"
   ]
  },
  {
   "cell_type": "code",
   "execution_count": 13,
   "id": "6d3cd7ae",
   "metadata": {},
   "outputs": [
    {
     "data": {
      "text/plain": [
       "dict_items([('Name', 'Mehmet'), ('Job', 'Data Scientist'), ('Age', '19')])"
      ]
     },
     "execution_count": 13,
     "metadata": {},
     "output_type": "execute_result"
    }
   ],
   "source": [
    "dict1.items()"
   ]
  },
  {
   "cell_type": "code",
   "execution_count": 14,
   "id": "b3616934",
   "metadata": {},
   "outputs": [
    {
     "name": "stdout",
     "output_type": "stream",
     "text": [
      "Name\n",
      "Job\n",
      "Age\n"
     ]
    }
   ],
   "source": [
    "for i in dict1:\n",
    "    print(i)"
   ]
  },
  {
   "cell_type": "code",
   "execution_count": 15,
   "id": "a326d91f",
   "metadata": {},
   "outputs": [
    {
     "name": "stdout",
     "output_type": "stream",
     "text": [
      "Mehmet\n",
      "Data Scientist\n",
      "19\n"
     ]
    }
   ],
   "source": [
    "for i in dict1.values():\n",
    "    print(i)"
   ]
  },
  {
   "cell_type": "code",
   "execution_count": 17,
   "id": "b00ba7de",
   "metadata": {},
   "outputs": [
    {
     "name": "stdout",
     "output_type": "stream",
     "text": [
      "('Name', 'Mehmet')\n",
      "('Job', 'Data Scientist')\n",
      "('Age', '19')\n"
     ]
    }
   ],
   "source": [
    "for i in dict1.items():\n",
    "    print(i)"
   ]
  },
  {
   "cell_type": "code",
   "execution_count": 20,
   "id": "144892f6",
   "metadata": {},
   "outputs": [
    {
     "name": "stdout",
     "output_type": "stream",
     "text": [
      "Name: Mehmet\n",
      "Job: Data Scientist\n",
      "Age: 19\n"
     ]
    }
   ],
   "source": [
    "for i, j in dict1.items():\n",
    "    print(i, j)"
   ]
  },
  {
   "cell_type": "code",
   "execution_count": 21,
   "id": "81d810ef",
   "metadata": {},
   "outputs": [
    {
     "name": "stdout",
     "output_type": "stream",
     "text": [
      "key: Name:, value: Mehmet\n",
      "key: Job:, value: Data Scientist\n",
      "key: Age:, value: 19\n"
     ]
    }
   ],
   "source": [
    "for i, j in dict1.items():\n",
    "    print(f'key: {i}, value: {j}')"
   ]
  },
  {
   "cell_type": "code",
   "execution_count": 23,
   "id": "dd30fcf7",
   "metadata": {},
   "outputs": [
    {
     "name": "stdout",
     "output_type": "stream",
     "text": [
      "key:      Name:, value:          Mehmet\n",
      "key:       Job:, value:  Data Scientist\n",
      "key:       Age:, value:              19\n"
     ]
    }
   ],
   "source": [
    "for i, j in dict1.items():\n",
    "    print(f'key: {i:>10}, value: {j:>15}')"
   ]
  },
  {
   "cell_type": "code",
   "execution_count": 24,
   "id": "d425b14d",
   "metadata": {},
   "outputs": [
    {
     "name": "stdout",
     "output_type": "stream",
     "text": [
      "key: Name:     , value: Mehmet         \n",
      "key: Job:      , value: Data Scientist \n",
      "key: Age:      , value: 19             \n"
     ]
    }
   ],
   "source": [
    "for i, j in dict1.items():\n",
    "    print(f'key: {i:<10}, value: {j:<15}')"
   ]
  },
  {
   "cell_type": "code",
   "execution_count": 25,
   "id": "b2688dc5",
   "metadata": {},
   "outputs": [
    {
     "name": "stdout",
     "output_type": "stream",
     "text": [
      "key:   Name:   , value:     Mehmet     \n",
      "key:    Job:   , value: Data Scientist \n",
      "key:    Age:   , value:       19       \n"
     ]
    }
   ],
   "source": [
    "for i, j in dict1.items():\n",
    "    print(f'key: {i:^10}, value: {j:^15}')"
   ]
  },
  {
   "cell_type": "code",
   "execution_count": 30,
   "id": "4d0e4a5c",
   "metadata": {},
   "outputs": [
    {
     "data": {
      "text/plain": [
       "'Fierro              '"
      ]
     },
     "execution_count": 30,
     "metadata": {},
     "output_type": "execute_result"
    }
   ],
   "source": [
    "'Fierro'.ljust(20)"
   ]
  },
  {
   "cell_type": "code",
   "execution_count": 29,
   "id": "369e3205",
   "metadata": {},
   "outputs": [
    {
     "data": {
      "text/plain": [
       "'       Fierro       '"
      ]
     },
     "execution_count": 29,
     "metadata": {},
     "output_type": "execute_result"
    }
   ],
   "source": [
    "'Fierro'.center(20) "
   ]
  },
  {
   "cell_type": "code",
   "execution_count": 28,
   "id": "4c13ab0e",
   "metadata": {},
   "outputs": [
    {
     "data": {
      "text/plain": [
       "'              Fierro'"
      ]
     },
     "execution_count": 28,
     "metadata": {},
     "output_type": "execute_result"
    }
   ],
   "source": [
    "'Fierro'.rjust(20)"
   ]
  },
  {
   "cell_type": "code",
   "execution_count": null,
   "id": "4bcef5ed",
   "metadata": {},
   "outputs": [],
   "source": [
    "# How to create an infinite loop with for loops\n",
    "a = ['a']\n",
    "for i in a:\n",
    "    print(i)\n",
    "    a.append(i)\n",
    "# DONT RUN!"
   ]
  },
  {
   "cell_type": "code",
   "execution_count": 32,
   "id": "3f7b93ae",
   "metadata": {},
   "outputs": [
    {
     "name": "stdout",
     "output_type": "stream",
     "text": [
      "[0, 1, 2, 3, 4, 5, 6, 7, 8, 9, 10, 11, 12, 13, 14, 15, 16, 17, 18, 19, 20, 21, 22, 23, 24, 25, 26, 27, 28, 29, 30, 31, 32, 33, 34, 35, 36, 37, 38, 39, 40, 41, 42, 43, 44, 45, 46, 47, 48, 49, 50]\n"
     ]
    }
   ],
   "source": [
    "print(list(range(51)))"
   ]
  },
  {
   "cell_type": "code",
   "execution_count": 33,
   "id": "c3399118",
   "metadata": {},
   "outputs": [
    {
     "name": "stdout",
     "output_type": "stream",
     "text": [
      "[1, 2, 3, 4, 5, 6, 7, 8, 9, 10, 11, 12, 13, 14, 15, 16, 17, 18, 19, 20, 21, 22, 23, 24, 25, 26, 27, 28, 29, 30, 31, 32, 33, 34, 35, 36, 37, 38, 39, 40, 41, 42, 43, 44, 45, 46, 47, 48, 49, 50]\n"
     ]
    }
   ],
   "source": [
    "print(list(range(1, 51)))"
   ]
  },
  {
   "cell_type": "code",
   "execution_count": null,
   "id": "03841719",
   "metadata": {},
   "outputs": [
    {
     "name": "stdout",
     "output_type": "stream",
     "text": [
      "1275\n"
     ]
    }
   ],
   "source": [
    "# Write a FOR loop to calculate the sum of ALL numbers between 1 and 50, both included.\n",
    "total = 0\n",
    "for i in range(51):\n",
    "    total += i\n",
    "print(total)"
   ]
  },
  {
   "cell_type": "code",
   "execution_count": null,
   "id": "1ce5d7d0",
   "metadata": {},
   "outputs": [
    {
     "name": "stdout",
     "output_type": "stream",
     "text": [
      "625\n"
     ]
    }
   ],
   "source": [
    "# Write a FOR loop to calculate the sum of ODD numbers between 1 and 50, both included.\n",
    "total = 0\n",
    "for i in range(51):\n",
    "    if i % 2 == 1:\n",
    "        total += i\n",
    "print(total)"
   ]
  },
  {
   "cell_type": "code",
   "execution_count": null,
   "id": "6aa15e66",
   "metadata": {},
   "outputs": [
    {
     "name": "stdout",
     "output_type": "stream",
     "text": [
      "625\n"
     ]
    }
   ],
   "source": [
    "# Write a FOR loop to calculate the sum of ODD numbers between 1 and 50, both included.\n",
    "total = 0\n",
    "for i in range(1, 51, 2):\n",
    "    total += i\n",
    "print(total)"
   ]
  },
  {
   "cell_type": "code",
   "execution_count": null,
   "id": "2c18593d",
   "metadata": {},
   "outputs": [
    {
     "name": "stdout",
     "output_type": "stream",
     "text": [
      "625\n"
     ]
    }
   ],
   "source": [
    "# Write a WHILE loop to calculate the sum of ALL numbers between 1 and 50, both included.\n",
    "total = 0\n",
    "i = 0\n",
    "while i < 51:\n",
    "    total += i\n",
    "    i += 1\n",
    "print(total)"
   ]
  },
  {
   "cell_type": "code",
   "execution_count": null,
   "id": "7fbf8308",
   "metadata": {},
   "outputs": [],
   "source": [
    "# Write a WHILE loop to calculate the sum of ODD numbers between 1 and 50, both included.\n",
    "total = 0\n",
    "i = 1\n",
    "while i < 51:\n",
    "    total += i\n",
    "    i += 2\n",
    "print(total)"
   ]
  },
  {
   "cell_type": "code",
   "execution_count": 41,
   "id": "8f353bd5",
   "metadata": {},
   "outputs": [
    {
     "name": "stdout",
     "output_type": "stream",
     "text": [
      "650\n"
     ]
    }
   ],
   "source": [
    "# Write a WHILE loop to calculate the sum of EVEN numbers between 1 and 50, both included.\n",
    "total = 0\n",
    "i = 0\n",
    "while i < 51:\n",
    "    total += i\n",
    "    i += 2\n",
    "print(total)"
   ]
  },
  {
   "cell_type": "code",
   "execution_count": 42,
   "id": "1829500a",
   "metadata": {},
   "outputs": [
    {
     "data": {
      "text/plain": [
       "1275.0"
      ]
     },
     "execution_count": 42,
     "metadata": {},
     "output_type": "execute_result"
    }
   ],
   "source": [
    "(50 * 51) / 2"
   ]
  },
  {
   "cell_type": "code",
   "execution_count": 43,
   "id": "146a1e3f",
   "metadata": {},
   "outputs": [
    {
     "data": {
      "text/plain": [
       "10"
      ]
     },
     "execution_count": 43,
     "metadata": {},
     "output_type": "execute_result"
    }
   ],
   "source": [
    "sum([1, 2, 3, 4])"
   ]
  },
  {
   "cell_type": "code",
   "execution_count": 44,
   "id": "efad8427",
   "metadata": {},
   "outputs": [
    {
     "data": {
      "text/plain": [
       "1275"
      ]
     },
     "execution_count": 44,
     "metadata": {},
     "output_type": "execute_result"
    }
   ],
   "source": [
    "sum(range(1, 51))"
   ]
  },
  {
   "cell_type": "code",
   "execution_count": null,
   "id": "1a1eddec",
   "metadata": {},
   "outputs": [
    {
     "data": {
      "text/plain": [
       "625"
      ]
     },
     "execution_count": 45,
     "metadata": {},
     "output_type": "execute_result"
    }
   ],
   "source": [
    "sum(range(1, 51, 2))  # ODD"
   ]
  },
  {
   "cell_type": "code",
   "execution_count": 46,
   "id": "335903ca",
   "metadata": {},
   "outputs": [
    {
     "data": {
      "text/plain": [
       "650"
      ]
     },
     "execution_count": 46,
     "metadata": {},
     "output_type": "execute_result"
    }
   ],
   "source": [
    "sum(range(0, 51, 2)) #EVEN"
   ]
  },
  {
   "cell_type": "markdown",
   "id": "53c1b967",
   "metadata": {},
   "source": [
    "## Zip"
   ]
  },
  {
   "cell_type": "code",
   "execution_count": 47,
   "id": "520f530b",
   "metadata": {},
   "outputs": [
    {
     "data": {
      "text/plain": [
       "<zip at 0x2151882e280>"
      ]
     },
     "execution_count": 47,
     "metadata": {},
     "output_type": "execute_result"
    }
   ],
   "source": [
    "a = ['Ohio', 'New York', 'New Jersey']\n",
    "b = [1, 2, 3]\n",
    "zip(a, b)"
   ]
  },
  {
   "cell_type": "code",
   "execution_count": 48,
   "id": "d96391e9",
   "metadata": {},
   "outputs": [
    {
     "data": {
      "text/plain": [
       "(('Ohio', 1), ('New York', 2), ('New Jersey', 3))"
      ]
     },
     "execution_count": 48,
     "metadata": {},
     "output_type": "execute_result"
    }
   ],
   "source": [
    "tuple(zip(a, b))"
   ]
  },
  {
   "cell_type": "code",
   "execution_count": 49,
   "id": "b10eae06",
   "metadata": {},
   "outputs": [
    {
     "data": {
      "text/plain": [
       "[('Ohio', 1), ('New York', 2), ('New Jersey', 3)]"
      ]
     },
     "execution_count": 49,
     "metadata": {},
     "output_type": "execute_result"
    }
   ],
   "source": [
    "list(zip(a, b))"
   ]
  },
  {
   "cell_type": "code",
   "execution_count": 50,
   "id": "79c8fa6c",
   "metadata": {},
   "outputs": [
    {
     "data": {
      "text/plain": [
       "{('New Jersey', 3), ('New York', 2), ('Ohio', 1)}"
      ]
     },
     "execution_count": 50,
     "metadata": {},
     "output_type": "execute_result"
    }
   ],
   "source": [
    "set(zip(a, b))"
   ]
  },
  {
   "cell_type": "code",
   "execution_count": 52,
   "id": "d44b76c3",
   "metadata": {},
   "outputs": [
    {
     "data": {
      "text/plain": [
       "{'Ohio': 1, 'New York': 2, 'New Jersey': 3}"
      ]
     },
     "execution_count": 52,
     "metadata": {},
     "output_type": "execute_result"
    }
   ],
   "source": [
    "dict(zip(a, b))"
   ]
  },
  {
   "cell_type": "code",
   "execution_count": 62,
   "id": "0b122f59",
   "metadata": {},
   "outputs": [],
   "source": [
    "name = ['Mehmet', 'Kateryna', 'Ebrunur', 'Rovshen']\n",
    "age = (26, 27, 26, 27)\n",
    "occupation = {'Data Scientist', 'ML Engineer', 'DL Engineer', 'CV Engineer'}\n",
    "string = 'Hello'"
   ]
  },
  {
   "cell_type": "code",
   "execution_count": 63,
   "id": "3a126c46",
   "metadata": {},
   "outputs": [
    {
     "name": "stdout",
     "output_type": "stream",
     "text": [
      "[('Mehmet', 26, 'Data Scientist', 'H'), ('Kateryna', 27, 'CV Engineer', 'e'), ('Ebrunur', 26, 'ML Engineer', 'l'), ('Rovshen', 27, 'DL Engineer', 'l')]\n",
      "[('Mehmet', 26, 'Data Scientist', 'H'), ('Kateryna', 27, 'CV Engineer', 'e'), ('Ebrunur', 26, 'ML Engineer', 'l'), ('Rovshen', 27, 'DL Engineer', 'l')]\n",
      "[('Mehmet', 26, 'Data Scientist', 'H'), ('Kateryna', 27, 'CV Engineer', 'e'), ('Ebrunur', 26, 'ML Engineer', 'l'), ('Rovshen', 27, 'DL Engineer', 'l')]\n"
     ]
    }
   ],
   "source": [
    "print(list(zip(name, age, occupation, string)))\n",
    "print(list(zip(name, age, occupation, string)))\n",
    "print(list(zip(name, age, occupation, string)))\n"
   ]
  },
  {
   "cell_type": "code",
   "execution_count": null,
   "id": "d7a066f2",
   "metadata": {},
   "outputs": [],
   "source": [
    "print(dict(zip(name, age, occupation, string)))"
   ]
  },
  {
   "cell_type": "code",
   "execution_count": 64,
   "id": "1ff2521d",
   "metadata": {},
   "outputs": [
    {
     "data": {
      "text/plain": [
       "[('Mehmet', 26, 'Data Scientist', 'H'),\n",
       " ('Kateryna', 27, 'CV Engineer', 'e'),\n",
       " ('Ebrunur', 26, 'ML Engineer', 'l'),\n",
       " ('Rovshen', 27, 'DL Engineer', 'l')]"
      ]
     },
     "execution_count": 64,
     "metadata": {},
     "output_type": "execute_result"
    }
   ],
   "source": [
    "student1 = list(zip(name, age, occupation, string))\n",
    "student1"
   ]
  },
  {
   "cell_type": "code",
   "execution_count": 65,
   "id": "951392c0",
   "metadata": {},
   "outputs": [
    {
     "name": "stdout",
     "output_type": "stream",
     "text": [
      "Name: Mehmet, Age: 26, Occupation: Data Scientist\n",
      "Name: Kateryna, Age: 27, Occupation: CV Engineer\n",
      "Name: Ebrunur, Age: 26, Occupation: ML Engineer\n",
      "Name: Rovshen, Age: 27, Occupation: DL Engineer\n"
     ]
    }
   ],
   "source": [
    "for a, b, c, d in student1:\n",
    "    print(f'Name: {a}, Age: {b}, Occupation: {c}')"
   ]
  },
  {
   "cell_type": "markdown",
   "id": "fbb1ae44",
   "metadata": {},
   "source": [
    "## Enumerate"
   ]
  },
  {
   "cell_type": "code",
   "execution_count": 68,
   "id": "2e81d72f",
   "metadata": {},
   "outputs": [
    {
     "data": {
      "text/plain": [
       "['Mehmet', 'Kateryna', 'Ebrunur', 'Rovshen']"
      ]
     },
     "execution_count": 68,
     "metadata": {},
     "output_type": "execute_result"
    }
   ],
   "source": [
    "name = ['Mehmet', 'Kateryna', 'Ebrunur', 'Rovshen']\n",
    "name"
   ]
  },
  {
   "cell_type": "code",
   "execution_count": 69,
   "id": "7af77ca1",
   "metadata": {},
   "outputs": [
    {
     "data": {
      "text/plain": [
       "<enumerate at 0x21518c8c770>"
      ]
     },
     "execution_count": 69,
     "metadata": {},
     "output_type": "execute_result"
    }
   ],
   "source": [
    "enumerate(name)"
   ]
  },
  {
   "cell_type": "code",
   "execution_count": 70,
   "id": "3f9b09bb",
   "metadata": {},
   "outputs": [
    {
     "data": {
      "text/plain": [
       "[(0, 'Mehmet'), (1, 'Kateryna'), (2, 'Ebrunur'), (3, 'Rovshen')]"
      ]
     },
     "execution_count": 70,
     "metadata": {},
     "output_type": "execute_result"
    }
   ],
   "source": [
    "list(enumerate(name))"
   ]
  },
  {
   "cell_type": "code",
   "execution_count": 71,
   "id": "dc8b1fe7",
   "metadata": {},
   "outputs": [
    {
     "name": "stdout",
     "output_type": "stream",
     "text": [
      "[(0, 'Mehmet'), (1, 'Kateryna'), (2, 'Ebrunur'), (3, 'Rovshen')]\n",
      "((0, 'Mehmet'), (1, 'Kateryna'), (2, 'Ebrunur'), (3, 'Rovshen'))\n",
      "{(2, 'Ebrunur'), (0, 'Mehmet'), (3, 'Rovshen'), (1, 'Kateryna')}\n",
      "{0: 'Mehmet', 1: 'Kateryna', 2: 'Ebrunur', 3: 'Rovshen'}\n"
     ]
    }
   ],
   "source": [
    "print(list(enumerate(name)))\n",
    "print(tuple(enumerate(name)))\n",
    "print(set(enumerate(name)))\n",
    "print(dict(enumerate(name)))"
   ]
  },
  {
   "cell_type": "code",
   "execution_count": 73,
   "id": "b7f2ea9e",
   "metadata": {},
   "outputs": [
    {
     "name": "stdout",
     "output_type": "stream",
     "text": [
      "18\n"
     ]
    }
   ],
   "source": [
    "data = input('Please provide a numeric data. (Entering an integer is preffered): ')\n",
    "total = 0\n",
    "for i in str(data):\n",
    "    total += int(i)\n",
    "print(total)"
   ]
  },
  {
   "cell_type": "code",
   "execution_count": 75,
   "id": "9da4a36c",
   "metadata": {},
   "outputs": [
    {
     "name": "stdout",
     "output_type": "stream",
     "text": [
      "The sum of the digits of 567 is: 18\n"
     ]
    }
   ],
   "source": [
    "data = input('Please provide a numeric data. (Entering an integer is preffered): ')\n",
    "total = 0\n",
    "if data.isnumeric():\n",
    "    for i in str(data):\n",
    "        total += int(i)\n",
    "    print(f'The sum of the digits of {data} is: {total}')\n",
    "else:\n",
    "    print('Please enter an intiger input as requested.')"
   ]
  },
  {
   "cell_type": "code",
   "execution_count": 76,
   "id": "7968769e",
   "metadata": {},
   "outputs": [
    {
     "name": "stdout",
     "output_type": "stream",
     "text": [
      "The sum of the digits of 567 is: 18\n"
     ]
    }
   ],
   "source": [
    "data = input('Please provide a numeric data. (Entering an integer is preffered): ')\n",
    "total = 0\n",
    "i = 0\n",
    "if data.isnumeric():\n",
    "    while i < len(data):\n",
    "        total += int(data[i])\n",
    "        i += 1\n",
    "    print(f'The sum of the digits of {data} is: {total}')\n",
    "else:\n",
    "    print('Please enter an intiger input as requested.')"
   ]
  },
  {
   "cell_type": "code",
   "execution_count": 79,
   "id": "56be1f80",
   "metadata": {},
   "outputs": [],
   "source": [
    "data = input('Please provide a numeric data. (Entering an integer is preffered): ')\n",
    "num_list = []\n",
    "for i in str(data):\n",
    "    num_list.append(i)"
   ]
  },
  {
   "cell_type": "code",
   "execution_count": 80,
   "id": "02f275ab",
   "metadata": {},
   "outputs": [
    {
     "data": {
      "text/plain": [
       "['5', '6', '7']"
      ]
     },
     "execution_count": 80,
     "metadata": {},
     "output_type": "execute_result"
    }
   ],
   "source": [
    "num_list"
   ]
  },
  {
   "cell_type": "code",
   "execution_count": 81,
   "id": "8bfcc9c9",
   "metadata": {},
   "outputs": [],
   "source": [
    "data = input('Please provide a numeric data. (Entering an integer is preffered): ')\n",
    "num_list = []\n",
    "for i in str(data):\n",
    "    num_list.append(int(i))"
   ]
  },
  {
   "cell_type": "code",
   "execution_count": 82,
   "id": "500b331d",
   "metadata": {},
   "outputs": [
    {
     "data": {
      "text/plain": [
       "[5, 6, 7]"
      ]
     },
     "execution_count": 82,
     "metadata": {},
     "output_type": "execute_result"
    }
   ],
   "source": [
    "num_list"
   ]
  },
  {
   "cell_type": "code",
   "execution_count": 85,
   "id": "21e950e0",
   "metadata": {},
   "outputs": [
    {
     "name": "stdout",
     "output_type": "stream",
     "text": [
      "The sum of the digits of 567 is: 18\n"
     ]
    }
   ],
   "source": [
    "data = input('Please provide a numeric data. (Entering an integer is preffered): ')\n",
    "num_list = []\n",
    "for i in data:\n",
    "    num_list.append(int(i))\n",
    "    total = sum(num_list)\n",
    "print(f'The sum of the digits of {data} is: {total}')"
   ]
  },
  {
   "cell_type": "code",
   "execution_count": 84,
   "id": "bc99d42d",
   "metadata": {},
   "outputs": [
    {
     "data": {
      "text/plain": [
       "[5, 6, 7]"
      ]
     },
     "execution_count": 84,
     "metadata": {},
     "output_type": "execute_result"
    }
   ],
   "source": [
    "num_list"
   ]
  },
  {
   "cell_type": "code",
   "execution_count": 88,
   "id": "2c99b5b3",
   "metadata": {},
   "outputs": [
    {
     "name": "stdout",
     "output_type": "stream",
     "text": [
      "The sum of the digits of 567 is: 18\n"
     ]
    }
   ],
   "source": [
    "data = input('Please provide a numeric data. (Entering an integer is preffered): ')\n",
    "num_list = []\n",
    "i = 0\n",
    "while i < len(data):\n",
    "    num_list.append(int(data[i]))\n",
    "    total = sum(num_list)\n",
    "    i += 1\n",
    "print(f'The sum of the digits of {data} is: {total}')"
   ]
  },
  {
   "cell_type": "markdown",
   "id": "844b08ac",
   "metadata": {},
   "source": [
    "# HomeWork\n",
    "\n",
    " - Ask the user to provide a number between 1 and 10, and create a multiplication table \n",
    " - for example, if the given input is 4 the program should print:\n",
    " - 4 x 0 = 0\n",
    " - 4 x 1 = 4\n",
    " - 4 x 2 = 8 .....\n",
    " \n"
   ]
  },
  {
   "cell_type": "code",
   "execution_count": 89,
   "id": "9d65aa22",
   "metadata": {},
   "outputs": [
    {
     "name": "stdout",
     "output_type": "stream",
     "text": [
      "7 x 0 = 0\n",
      "7 x 1 = 7\n",
      "7 x 2 = 14\n",
      "7 x 3 = 21\n",
      "7 x 4 = 28\n",
      "7 x 5 = 35\n",
      "7 x 6 = 42\n",
      "7 x 7 = 49\n",
      "7 x 8 = 56\n",
      "7 x 9 = 63\n",
      "7 x 10 = 70\n"
     ]
    }
   ],
   "source": [
    "num = int(input(\"Please enter a number between 1 and 10: \"))\n",
    "\n",
    "for i in range(11):\n",
    "    print(f\"{num} x {i} = {num * i}\")"
   ]
  },
  {
   "cell_type": "code",
   "execution_count": null,
   "id": "43084dc0",
   "metadata": {},
   "outputs": [],
   "source": [
    "#HW: \n",
    "\n",
    "num = int(input(\"Please enter a number between 1 and 10: \"))\n",
    "\n",
    "for i in range(11):\n",
    "    print(f\"{num} x {i} = {num * i}\")"
   ]
  },
  {
   "cell_type": "code",
   "execution_count": 3,
   "id": "043f37b2",
   "metadata": {},
   "outputs": [
    {
     "name": "stdout",
     "output_type": "stream",
     "text": [
      "4 x 0 = 0\n",
      "4 x 1 = 4\n",
      "4 x 2 = 8\n",
      "4 x 3 = 12\n",
      "4 x 4 = 16\n",
      "4 x 5 = 20\n",
      "4 x 6 = 24\n",
      "4 x 7 = 28\n",
      "4 x 8 = 32\n",
      "4 x 9 = 36\n",
      "4 x 10 = 40\n"
     ]
    }
   ],
   "source": [
    "num = int(input(\"Please enter a number between 1 and 10: \"))\n",
    "i = 0\n",
    "while i < 11:\n",
    "    if 1 <= num <= 10:\n",
    "        print(f\"{num} x {i} = {num * i}\")\n",
    "        i += 1\n",
    "    else:\n",
    "        num = int(input(\"Please enter a number between 1 and 10: \"))\n",
    "    "
   ]
  },
  {
   "cell_type": "code",
   "execution_count": null,
   "id": "fb39597e",
   "metadata": {},
   "outputs": [],
   "source": []
  }
 ],
 "metadata": {
  "kernelspec": {
   "display_name": "base",
   "language": "python",
   "name": "python3"
  },
  "language_info": {
   "codemirror_mode": {
    "name": "ipython",
    "version": 3
   },
   "file_extension": ".py",
   "mimetype": "text/x-python",
   "name": "python",
   "nbconvert_exporter": "python",
   "pygments_lexer": "ipython3",
   "version": "3.13.5"
  }
 },
 "nbformat": 4,
 "nbformat_minor": 5
}
